{
 "cells": [
  {
   "cell_type": "markdown",
   "id": "3977266e-1879-4eab-bc59-0f1409d89a7d",
   "metadata": {},
   "source": [
    "# Logistische Regression"
   ]
  },
  {
   "cell_type": "code",
   "execution_count": 2,
   "id": "d47b85d1-2fbd-4191-9247-15daa10ce0dc",
   "metadata": {
    "tags": [
     "hide-input"
    ]
   },
   "outputs": [],
   "source": [
    "%matplotlib inline\n",
    "import tensorflow as tf\n",
    "from tensorflow import keras\n",
    "import matplotlib.pyplot as plt\n",
    "import numpy as np\n",
    "from numpy import asarray\n",
    "import cv2\n",
    "from PIL import Image\n",
    "from numpy import load"
   ]
  },
  {
   "cell_type": "markdown",
   "id": "f80298e0-71cb-4a51-94d9-2ef568587972",
   "metadata": {},
   "source": [
    "## Datensatz laden"
   ]
  },
  {
   "cell_type": "code",
   "execution_count": 3,
   "id": "03f1f85b-cc78-438f-846b-3e3a988a15fb",
   "metadata": {
    "tags": [
     "hide-input"
    ]
   },
   "outputs": [
    {
     "name": "stdout",
     "output_type": "stream",
     "text": [
      "(6421, 28, 28, 1)\n",
      "6421\n",
      "(2753, 28, 28, 1)\n",
      "2753\n"
     ]
    }
   ],
   "source": [
    "# Laden des Trainings- und Testdatensatzes\n",
    "\n",
    "X_train=load('../01_Dataset/dataset_28x28/X_train.npy').astype(np.float32) * 1.0/255.0 # normalisieren\n",
    "y_train=load('../01_Dataset/dataset_28x28/y_train.npy')\n",
    "X_test=load('../01_Dataset/dataset_28x28/X_test.npy').astype(np.float32) * 1.0/255.0  # normalisieren\n",
    "y_test=load('../01_Dataset/dataset_28x28/y_test.npy')\n",
    "\n",
    "# Form und Anzahl der Datensätze\n",
    "print(X_train.shape)\n",
    "print(len(y_train))\n",
    "print(X_test.shape)\n",
    "print(len(y_test))"
   ]
  },
  {
   "cell_type": "markdown",
   "id": "ec4a12b8-40cd-4a03-ac6c-eb909b686a3d",
   "metadata": {},
   "source": [
    "## Datensatz Stichprobe"
   ]
  },
  {
   "cell_type": "markdown",
   "id": "55279bbc-9e8a-4062-a223-c05bc781e3cc",
   "metadata": {},
   "source": [
    "Ein Blick in den Datensatz:"
   ]
  },
  {
   "cell_type": "code",
   "execution_count": 6,
   "id": "7aa841c1-5323-4898-8ca8-e16df0f25ee7",
   "metadata": {},
   "outputs": [
    {
     "name": "stdout",
     "output_type": "stream",
     "text": [
      "Kategorie:1\n"
     ]
    },
    {
     "data": {
      "image/png": "[encoded data removed]",
      "text/plain": [
       "<Figure size 432x288 with 1 Axes>"
      ]
     },
     "metadata": {
      "needs_background": "light"
     },
     "output_type": "display_data"
    }
   ],
   "source": [
    "from random import randrange\n",
    "\n",
    "\n",
    "# Kategorien:\n",
    "\n",
    "# 0 = innensechskant\n",
    "# 1 = philips\n",
    "# 2 = pozidriv\n",
    "# 3 = sechskant\n",
    "# 4 = torx\n",
    "\n",
    "# zufällig ein Beispiel aus dem Datensatz anzeigen\n",
    "i=randrange(len(y_train))\n",
    "plt.imshow(X_train[i].reshape(28,28),cmap='gray')\n",
    "plt.show\n",
    "print(\"Kategorie:\"+ str(y_train[i]))"
   ]
  },
  {
   "cell_type": "markdown",
   "id": "3bbfadec-d825-4f12-a7f5-7c3e3ea370f5",
   "metadata": {},
   "source": [
    "## Formatieren"
   ]
  },
  {
   "cell_type": "markdown",
   "id": "514283f9-0a93-4e0c-bbbd-b5c1e715e8fe",
   "metadata": {},
   "source": [
    "**Erklärung: weshalb formatieren?**"
   ]
  },
  {
   "cell_type": "code",
   "execution_count": 1,
   "id": "48bd1440-b8a9-455a-b925-9f7058f3447f",
   "metadata": {},
   "outputs": [
    {
     "ename": "NameError",
     "evalue": "name 'X_train' is not defined",
     "output_type": "error",
     "traceback": [
      "\u001b[1;31m---------------------------------------------------------------------------\u001b[0m",
      "\u001b[1;31mNameError\u001b[0m                                 Traceback (most recent call last)",
      "\u001b[1;32m~\\AppData\\Local\\Temp/ipykernel_18812/1108432684.py\u001b[0m in \u001b[0;36m<module>\u001b[1;34m\u001b[0m\n\u001b[0;32m      1\u001b[0m \u001b[1;31m# converting X, 28x28=784, die Pixel werden in einem Vektor umgeformt\u001b[0m\u001b[1;33m\u001b[0m\u001b[1;33m\u001b[0m\u001b[1;33m\u001b[0m\u001b[0m\n\u001b[1;32m----> 2\u001b[1;33m \u001b[0mX_train\u001b[0m \u001b[1;33m=\u001b[0m \u001b[0mX_train\u001b[0m\u001b[1;33m.\u001b[0m\u001b[0mreshape\u001b[0m\u001b[1;33m(\u001b[0m\u001b[1;33m-\u001b[0m\u001b[1;36m1\u001b[0m\u001b[1;33m,\u001b[0m\u001b[1;36m784\u001b[0m\u001b[1;33m)\u001b[0m\u001b[1;33m\u001b[0m\u001b[1;33m\u001b[0m\u001b[0m\n\u001b[0m\u001b[0;32m      3\u001b[0m \u001b[0mX_test\u001b[0m \u001b[1;33m=\u001b[0m \u001b[0mX_test\u001b[0m\u001b[1;33m.\u001b[0m\u001b[0mreshape\u001b[0m\u001b[1;33m(\u001b[0m\u001b[1;33m-\u001b[0m\u001b[1;36m1\u001b[0m\u001b[1;33m,\u001b[0m\u001b[1;36m784\u001b[0m\u001b[1;33m)\u001b[0m\u001b[1;33m\u001b[0m\u001b[1;33m\u001b[0m\u001b[0m\n\u001b[0;32m      4\u001b[0m \u001b[1;33m\u001b[0m\u001b[0m\n\u001b[0;32m      5\u001b[0m \u001b[1;31m# converting list to array\u001b[0m\u001b[1;33m\u001b[0m\u001b[1;33m\u001b[0m\u001b[1;33m\u001b[0m\u001b[0m\n",
      "\u001b[1;31mNameError\u001b[0m: name 'X_train' is not defined"
     ]
    }
   ],
   "source": [
    "# converting X, 28x28=784, die Pixel werden in einem Vektor umgeformt\n",
    "X_train = X_train.reshape(-1,784)\n",
    "X_test = X_test.reshape(-1,784)\n",
    "\n",
    "# converting list to array\n",
    "y_train = np.array(y_train)\n",
    "y_test = np.array(y_test)\n",
    "\n",
    "print(X_train.shape)\n",
    "print(y_train.shape)\n",
    "print(X_test.shape)\n",
    "print(y_test.shape)"
   ]
  },
  {
   "cell_type": "code",
   "execution_count": 102,
   "id": "4dd09878-de46-4349-afe1-15c93ad3e14f",
   "metadata": {},
   "outputs": [
    {
     "data": {
      "text/plain": [
       "array([1, 4, 1, ..., 1, 4, 0])"
      ]
     },
     "execution_count": 102,
     "metadata": {},
     "output_type": "execute_result"
    }
   ],
   "source": [
    "y_train"
   ]
  },
  {
   "cell_type": "code",
   "execution_count": 105,
   "id": "5fa107ec-8ddc-436e-ac75-85bbe7d0cc1a",
   "metadata": {},
   "outputs": [
    {
     "data": {
      "text/plain": [
       "array([0., 0., 0., ..., 0., 0., 1.], dtype=float32)"
      ]
     },
     "execution_count": 105,
     "metadata": {},
     "output_type": "execute_result"
    }
   ],
   "source": []
  },
  {
   "cell_type": "markdown",
   "id": "4bb3dbd0-48e9-42ed-950f-8762dbe9f784",
   "metadata": {},
   "source": [
    "## One-Hot-Encoding"
   ]
  },
  {
   "cell_type": "markdown",
   "id": "b7c9bbd9-0924-47a6-90a4-ff469e59b8d9",
   "metadata": {},
   "source": [
    "Das logistische Regressions Modell kann erstmal nur darauf trainiert werden, ein Objekt von anderen zu unterscheiden. Dafür müssen die Labels (y_train & y_test) umgewandelt werden. Bisher sind Werte von 0 bis 4 enthalten die für die jeweilige Kategorie stehen. Da die logistische Regression nur mit Werten zwischen 0 und 1 arbeiten kann, müssen die Labels dem so genannten \"One-Hot-Encoding\" unterzogen werden.  \n"
   ]
  },
  {
   "cell_type": "code",
   "execution_count": 9,
   "id": "b1351a15-f468-4b0d-8a13-d1b7bf35e97a",
   "metadata": {
    "tags": [
     "hide-input"
    ]
   },
   "outputs": [
    {
     "name": "stdout",
     "output_type": "stream",
     "text": [
      "One-Hot_Encoded:\n",
      "[False False  True ... False False False]\n",
      "[False  True False ... False False False]\n",
      "[False False False ... False False False]\n",
      "[False False False ... False False False]\n",
      "[ True False False ...  True  True  True]\n",
      "Umwandlung in Float-Werte:\n",
      "[0. 0. 1. ... 0. 0. 0.]\n",
      "[0. 1. 0. ... 0. 0. 0.]\n",
      "[0. 0. 0. ... 0. 0. 0.]\n",
      "[0. 0. 0. ... 0. 0. 0.]\n",
      "[1. 0. 0. ... 1. 1. 1.]\n"
     ]
    }
   ],
   "source": [
    "# auf eine Klasse trainieren, One-Hot-Encoding\n",
    "print(\"One-Hot_Encoded:\")\n",
    "# 0 = innensechskant\n",
    "y_train_0=y_train == 0 # False,True,...\n",
    "y_test_0 =y_test == 0\n",
    "print(y_train_0)\n",
    "      \n",
    "# 1 = philips\n",
    "y_train_1=y_train == 1 \n",
    "y_test_1 =y_test == 1\n",
    "print(y_train_1)\n",
    "      \n",
    "# 2 = pozidriv\n",
    "y_train_2=y_train == 2 \n",
    "y_test_2 =y_test == 2\n",
    "print(y_train_2)\n",
    "      \n",
    "# 3 = sechskant\n",
    "y_train_3=y_train == 3 \n",
    "y_test_3 =y_test == 3\n",
    "print(y_train_3)\n",
    "      \n",
    "# 4 = torx\n",
    "y_train_4=y_train == 4\n",
    "y_test_4 =y_test == 4\n",
    "print(y_train_4)\n",
    "\n",
    "\n",
    "# False,True,... in Werte zw. 0...1 umwandeln\n",
    "y_train_0 = y_train_0.astype(np.float32) \n",
    "y_test_0 = y_test_0.astype(np.float32) \n",
    "y_train_1 = y_train_1.astype(np.float32) \n",
    "y_test_1 = y_test_1.astype(np.float32) \n",
    "y_train_2 = y_train_2.astype(np.float32) \n",
    "y_test_2 = y_test_2.astype(np.float32)\n",
    "y_train_3 = y_train_3.astype(np.float32) \n",
    "y_test_3= y_test_3.astype(np.float32) \n",
    "y_train_4 = y_train_4.astype(np.float32) \n",
    "y_test_4 = y_test_4.astype(np.float32) \n",
    "print(\"Umwandlung in Float-Werte:\")\n",
    "print(y_train_0)\n",
    "print(y_train_1)\n",
    "print(y_train_2)\n",
    "print(y_train_3)\n",
    "print(y_train_4)"
   ]
  },
  {
   "cell_type": "markdown",
   "id": "f20020cd-2610-4c77-af40-dc9219afa034",
   "metadata": {},
   "source": [
    "## Modell trainieren"
   ]
  },
  {
   "cell_type": "markdown",
   "id": "07ea6b27-c1b5-4439-9c86-c22013c30e30",
   "metadata": {
    "tags": [
     "output_scroll",
     "hide-input",
     "hide-output"
    ]
   },
   "source": [
    "```python\n",
    "from scipy.special import expit\n",
    "\n",
    "\n",
    "def S(x):\n",
    "    return expit(x)\n",
    "    # return 1 / (1 + np.exp(-x))\n",
    "\n",
    "# Funktion genau erklären:\n",
    "def f(w, b, x):\n",
    "    return S(w @ x.T + b)\n",
    "\n",
    "\n",
    "def J(w, b, x, y):\n",
    "    return -np.mean(y * np.log(f(w, b, x)) + \\\n",
    "                    (1 - y) * np.log(1 - f(w, b, x)))\n",
    "\n",
    "\n",
    "def J_ableitung_w(w, b, x, y):\n",
    "    e = f(w, b, x) - y\n",
    "    return np.mean(x.T * e, axis=1)\n",
    "\n",
    "\n",
    "def J_ableitung_b(w, b, x, y):\n",
    "    return np.mean(f(w, b, x) - y)\n",
    "\n",
    "# print(X_train.shape)\n",
    "# exit()\n",
    "lr = 0.01\n",
    "w = np.zeros((1, 784)) # bei der NUll ist Steigung am größten->numerisch besser\n",
    "b = 1\n",
    "for i in range(0, 500):\n",
    "\n",
    "    dw = J_ableitung_w(w, b, X_train, y_train_3)\n",
    "    db = J_ableitung_b(w, b, X_train, y_train_3)\n",
    "\n",
    "    w = w - lr * dw\n",
    "    b = b - lr * db\n",
    "\n",
    "    cost = J(w, b, X_train, y_train_3)\n",
    "    print(\"Kosten: \" + str(cost))\n",
    "```"
   ]
  },
  {
   "cell_type": "markdown",
   "id": "e12bffb6-0686-44d9-bcf1-6e53ecad80bb",
   "metadata": {},
   "source": [
    "```python\n",
    "y_test_pred = f(w, b, X_test) > 0.5\n",
    "y_test_pred = y_test_pred.reshape(-1)\n",
    "y_test_pred=y_test_pred.astype(np.float32)\n",
    "print(y_test_pred.shape)\n",
    "print(np.mean(y_test_3 == y_test_pred))\n",
    "```"
   ]
  },
  {
   "cell_type": "markdown",
   "id": "f3e72b33-ac18-45db-aa61-991157f511ba",
   "metadata": {},
   "source": [
    "## Modell Trainieren mit Torx"
   ]
  },
  {
   "cell_type": "markdown",
   "id": "f6493676-d17e-4afa-ac95-bc7399b13e53",
   "metadata": {
    "tags": [
     "hide-input"
    ]
   },
   "source": [
    "```python\n",
    "lr = 0.01\n",
    "w = np.zeros((1, 784)) # bei der NUll ist Steigung am größten->numerisch besser\n",
    "b = 1\n",
    "for i in range(0, 500):\n",
    "\n",
    "    dw = J_ableitung_w(w, b, X_train, y_train_4)\n",
    "    db = J_ableitung_b(w, b, X_train, y_train_4)\n",
    "\n",
    "    w = w - lr * dw\n",
    "    b = b - lr * db\n",
    "\n",
    "    cost = J(w, b, X_train, y_train_4)\n",
    "    print(\"Kosten: \" + str(cost))\n",
    "```"
   ]
  },
  {
   "cell_type": "markdown",
   "id": "63d5b0cc-498a-48af-937d-eee1a039c978",
   "metadata": {},
   "source": [
    "## Modell Genauigkeit"
   ]
  },
  {
   "cell_type": "markdown",
   "id": "4995e984-808a-4ade-8e18-fb586e142d3b",
   "metadata": {
    "tags": [
     "hide-input"
    ]
   },
   "source": [
    "```python\n",
    "y_test_pred = f(w, b, X_test)# > 0.4  # 0.5 entspricht 50% Wahrscheinlichkeit, kann auch höher gesetzt werden, je nachdem wie sicher das Ergebnis sein soll\n",
    "print(y_test_pred)\n",
    "print(y_test_4)\n",
    "\n",
    "y_test_pred = f(w, b, X_test) > 0.5\n",
    "print(y_test_pred)\n",
    "print(y_test_4)\n",
    "\n",
    "y_test_pred = y_test_pred.reshape(-1)\n",
    "print(y_test_pred)\n",
    "\n",
    "y_test_pred=y_test_pred.astype(np.float32)\n",
    "print(y_test_pred)\n",
    "print(y_test_pred.shape)\n",
    "\n",
    "print(np.mean(y_test_4 == y_test_pred))\n",
    "```"
   ]
  },
  {
   "cell_type": "markdown",
   "id": "ba861d77-41df-4e21-9649-ec965e349dc8",
   "metadata": {},
   "source": [
    "## Auswertung"
   ]
  },
  {
   "cell_type": "markdown",
   "id": "a5dea2fb-0d3c-4497-a812-69f039f0f102",
   "metadata": {},
   "source": [
    "```{toggle} \n",
    "**Hier die falsch erkannten Bilder groß Darstellen**\n",
    "```"
   ]
  },
  {
   "cell_type": "markdown",
   "id": "411e1018-068b-48a1-af19-4446a409fe75",
   "metadata": {},
   "source": [
    "```python\n",
    "nrow = 5\n",
    "ncol = 5\n",
    "\n",
    "\n",
    "#fig = plt.figure(figsize=(ncol+1, nrow+1)) \n",
    "fig = plt.figure(figsize=(24, 24))\n",
    "\n",
    "im = 0\n",
    "for i in range(nrow):\n",
    "    for j in range(ncol):\n",
    "        # convert to unsigned integers\n",
    "        \n",
    "        ax= plt.subplot(gs[i,j])\n",
    "        ax.imshow(X_4_false[im,:,:,0].astype('uint8'),cmap='gray')\n",
    "        ax.set_xticklabels([])\n",
    "        ax.set_yticklabels([])\n",
    "        im +=1\n",
    "\n",
    "plt.show()\n",
    "```"
   ]
  },
  {
   "cell_type": "markdown",
   "id": "621a2561-0ad1-4654-899a-12c16f29b8fd",
   "metadata": {},
   "source": [
    "```python\n",
    "X_false = []\n",
    "y = []\n",
    "\n",
    "for features,label in image_dataset:\n",
    "    X_false.append(features)\n",
    "    y.append(label)\n",
    "\n",
    "X = np.array(X).reshape(-1, IMG_SIZE, IMG_SIZE, 1)\n",
    "\n",
    "# Falsch vorhergesagte Bilder anzeigen\n",
    "imgs=0\n",
    "\n",
    "for i in range(0, len(X_test)):\n",
    "    # Welche Bilder wurden falsch als Torx erkannt?\n",
    "    if y_test_pred[i] == 1 and y_test_4[i] == 0:\n",
    "        X_4_false=np.asarray(X_test[i].reshape(-1,28,28,1))\n",
    "        plt.imshow(X_test[i].reshape(28,28),cmap='gray')\n",
    "        plt.show()\n",
    "        print(i)\n",
    "        imgs=imgs + 1\n",
    "        print(imgs)\n",
    "\n",
    "print(imgs)\n",
    "```"
   ]
  },
  {
   "cell_type": "markdown",
   "id": "3e17e479-ec1b-4cfd-a77b-774587e92d11",
   "metadata": {},
   "source": [
    "**Die Log.Reg. kann lernen Bilder zu erkennen, ist aber nicht sehr leistungsfähig. Im nächsten Abschnitt werden die ersten Schritte hin zu neuronalen Netzen gemacht**"
   ]
  },
  {
   "cell_type": "code",
   "execution_count": null,
   "id": "53b62c47-ffef-43b8-8a35-44ef40f9a26f",
   "metadata": {},
   "outputs": [],
   "source": []
  }
 ],
 "metadata": {
  "kernelspec": {
   "display_name": "Python 3 (ipykernel)",
   "language": "python",
   "name": "python3"
  },
  "language_info": {
   "codemirror_mode": {
    "name": "ipython",
    "version": 3
   },
   "file_extension": ".py",
   "mimetype": "text/x-python",
   "name": "python",
   "nbconvert_exporter": "python",
   "pygments_lexer": "ipython3",
   "version": "3.7.11"
  }
 },
 "nbformat": 4,
 "nbformat_minor": 5
}
