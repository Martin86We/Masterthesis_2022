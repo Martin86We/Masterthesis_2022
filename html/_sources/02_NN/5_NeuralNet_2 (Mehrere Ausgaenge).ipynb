{
 "cells": [
  {
   "cell_type": "markdown",
   "metadata": {},
   "source": [
    "# NN 2 (Mehrere unterscheiden)"
   ]
  },
  {
   "cell_type": "code",
   "execution_count": 2,
   "metadata": {},
   "outputs": [],
   "source": [
    "import gzip\n",
    "import numpy as np\n",
    "from tensorflow.keras.utils import to_categorical\n",
    "from numpy import load\n",
    "import matplotlib.pyplot as plt\n"
   ]
  },
  {
   "cell_type": "markdown",
   "metadata": {
    "jp-MarkdownHeadingCollapsed": true,
    "tags": []
   },
   "source": [
    "## Datensatz laden"
   ]
  },
  {
   "cell_type": "code",
   "execution_count": null,
   "metadata": {},
   "outputs": [],
   "source": [
    "X_train = load('Dataset/X_train.npy').astype(np.float32).reshape(-1, 784)*1.0/255.0\n",
    "y_train = load('Dataset/y_train.npy').astype(np.int32)\n",
    "\n",
    "X_test=load('Dataset/X_test.npy').astype(np.float32).reshape(-1, 784)*1.0/255.0\n",
    "y_test=load('Dataset/y_test.npy').astype(np.int32)\n",
    "\n",
    "y_train = to_categorical(y_train)\n",
    "y_test = to_categorical(y_test)"
   ]
  },
  {
   "cell_type": "code",
   "execution_count": 10,
   "metadata": {},
   "outputs": [],
   "source": [
    "from tensorflow.keras.models import Sequential\n",
    "from tensorflow.keras.layers import Dense"
   ]
  },
  {
   "cell_type": "markdown",
   "metadata": {
    "tags": []
   },
   "source": [
    "## Modell erstellen"
   ]
  },
  {
   "cell_type": "code",
   "execution_count": 44,
   "metadata": {},
   "outputs": [],
   "source": [
    "model = Sequential()\n",
    "\n",
    "model.add(Dense(50, activation=\"sigmoid\", input_shape=(784,)))\n",
    "model.add(Dense(5, activation=\"sigmoid\"))\n",
    "\n",
    "model.compile(optimizer=\"sgd\", loss=\"categorical_crossentropy\", metrics=[\"accuracy\"])"
   ]
  },
  {
   "cell_type": "code",
   "execution_count": 42,
   "metadata": {
    "tags": [
     "output_scroll",
     "hide-output"
    ]
   },
   "outputs": [
    {
     "data": {
      "text/plain": [
       "array([[1.        , 1.        , 1.        , ..., 0.03137255, 0.05490196,\n",
       "        0.25490198],\n",
       "       [1.        , 1.        , 1.        , ..., 1.        , 1.        ,\n",
       "        1.        ],\n",
       "       [1.        , 1.        , 1.        , ..., 1.        , 1.        ,\n",
       "        1.        ],\n",
       "       ...,\n",
       "       [1.        , 1.        , 1.        , ..., 1.        , 1.        ,\n",
       "        1.        ],\n",
       "       [1.        , 1.        , 1.        , ..., 0.7490196 , 0.92156863,\n",
       "        0.99215686],\n",
       "       [1.        , 1.        , 1.        , ..., 1.        , 1.        ,\n",
       "        1.        ]], dtype=float32)"
      ]
     },
     "execution_count": 42,
     "metadata": {},
     "output_type": "execute_result"
    }
   ],
   "source": [
    "X_train.reshape(10500, 784)"
   ]
  },
  {
   "cell_type": "markdown",
   "metadata": {
    "tags": []
   },
   "source": [
    "## Modell trainieren"
   ]
  },
  {
   "cell_type": "code",
   "execution_count": 43,
   "metadata": {
    "tags": [
     "output_scroll",
     "hide-output"
    ]
   },
   "outputs": [
    {
     "name": "stdout",
     "output_type": "stream",
     "text": [
      "Epoch 1/80\n",
      "21/21 [==============================] - 0s 2ms/step - loss: 1.7058 - accuracy: 0.2166\n",
      "Epoch 2/80\n",
      "21/21 [==============================] - 0s 2ms/step - loss: 1.5278 - accuracy: 0.3683\n",
      "Epoch 3/80\n",
      "21/21 [==============================] - 0s 2ms/step - loss: 1.4412 - accuracy: 0.5316\n",
      "Epoch 4/80\n",
      "21/21 [==============================] - 0s 2ms/step - loss: 1.3772 - accuracy: 0.6064\n",
      "Epoch 5/80\n",
      "21/21 [==============================] - 0s 2ms/step - loss: 1.3232 - accuracy: 0.6350\n",
      "Epoch 6/80\n",
      "21/21 [==============================] - 0s 2ms/step - loss: 1.2758 - accuracy: 0.6563\n",
      "Epoch 7/80\n",
      "21/21 [==============================] - 0s 2ms/step - loss: 1.2330 - accuracy: 0.6713\n",
      "Epoch 8/80\n",
      "21/21 [==============================] - 0s 2ms/step - loss: 1.1940 - accuracy: 0.6790\n",
      "Epoch 9/80\n",
      "21/21 [==============================] - 0s 2ms/step - loss: 1.1582 - accuracy: 0.6880\n",
      "Epoch 10/80\n",
      "21/21 [==============================] - 0s 2ms/step - loss: 1.1254 - accuracy: 0.6930\n",
      "Epoch 11/80\n",
      "21/21 [==============================] - 0s 2ms/step - loss: 1.0951 - accuracy: 0.6959\n",
      "Epoch 12/80\n",
      "21/21 [==============================] - 0s 2ms/step - loss: 1.0671 - accuracy: 0.7044\n",
      "Epoch 13/80\n",
      "21/21 [==============================] - 0s 2ms/step - loss: 1.0411 - accuracy: 0.7055\n",
      "Epoch 14/80\n",
      "21/21 [==============================] - 0s 2ms/step - loss: 1.0169 - accuracy: 0.7173\n",
      "Epoch 15/80\n",
      "21/21 [==============================] - 0s 2ms/step - loss: 0.9941 - accuracy: 0.7199\n",
      "Epoch 16/80\n",
      "21/21 [==============================] - 0s 2ms/step - loss: 0.9727 - accuracy: 0.7262\n",
      "Epoch 17/80\n",
      "21/21 [==============================] - 0s 2ms/step - loss: 0.9526 - accuracy: 0.7357\n",
      "Epoch 18/80\n",
      "21/21 [==============================] - 0s 2ms/step - loss: 0.9335 - accuracy: 0.7354\n",
      "Epoch 19/80\n",
      "21/21 [==============================] - 0s 2ms/step - loss: 0.9155 - accuracy: 0.7459\n",
      "Epoch 20/80\n",
      "21/21 [==============================] - 0s 2ms/step - loss: 0.8984 - accuracy: 0.7481\n",
      "Epoch 21/80\n",
      "21/21 [==============================] - 0s 2ms/step - loss: 0.8821 - accuracy: 0.7526\n",
      "Epoch 22/80\n",
      "21/21 [==============================] - 0s 2ms/step - loss: 0.8666 - accuracy: 0.7594\n",
      "Epoch 23/80\n",
      "21/21 [==============================] - 0s 2ms/step - loss: 0.8519 - accuracy: 0.7654\n",
      "Epoch 24/80\n",
      "21/21 [==============================] - 0s 2ms/step - loss: 0.8378 - accuracy: 0.7688\n",
      "Epoch 25/80\n",
      "21/21 [==============================] - 0s 2ms/step - loss: 0.8244 - accuracy: 0.7790\n",
      "Epoch 26/80\n",
      "21/21 [==============================] - 0s 2ms/step - loss: 0.8115 - accuracy: 0.7742\n",
      "Epoch 27/80\n",
      "21/21 [==============================] - 0s 2ms/step - loss: 0.7992 - accuracy: 0.7797\n",
      "Epoch 28/80\n",
      "21/21 [==============================] - 0s 3ms/step - loss: 0.7875 - accuracy: 0.7852\n",
      "Epoch 29/80\n",
      "21/21 [==============================] - 0s 2ms/step - loss: 0.7762 - accuracy: 0.7886\n",
      "Epoch 30/80\n",
      "21/21 [==============================] - 0s 2ms/step - loss: 0.7654 - accuracy: 0.7902\n",
      "Epoch 31/80\n",
      "21/21 [==============================] - 0s 2ms/step - loss: 0.7549 - accuracy: 0.7948\n",
      "Epoch 32/80\n",
      "21/21 [==============================] - 0s 2ms/step - loss: 0.7449 - accuracy: 0.7928\n",
      "Epoch 33/80\n",
      "21/21 [==============================] - 0s 2ms/step - loss: 0.7351 - accuracy: 0.7985\n",
      "Epoch 34/80\n",
      "21/21 [==============================] - 0s 2ms/step - loss: 0.7257 - accuracy: 0.7983\n",
      "Epoch 35/80\n",
      "21/21 [==============================] - 0s 2ms/step - loss: 0.7167 - accuracy: 0.8002\n",
      "Epoch 36/80\n",
      "21/21 [==============================] - 0s 2ms/step - loss: 0.7080 - accuracy: 0.8018\n",
      "Epoch 37/80\n",
      "21/21 [==============================] - 0s 2ms/step - loss: 0.6997 - accuracy: 0.8033\n",
      "Epoch 38/80\n",
      "21/21 [==============================] - 0s 2ms/step - loss: 0.6917 - accuracy: 0.8041\n",
      "Epoch 39/80\n",
      "21/21 [==============================] - 0s 2ms/step - loss: 0.6842 - accuracy: 0.8047\n",
      "Epoch 40/80\n",
      "21/21 [==============================] - 0s 2ms/step - loss: 0.6771 - accuracy: 0.8051\n",
      "Epoch 41/80\n",
      "21/21 [==============================] - 0s 2ms/step - loss: 0.6702 - accuracy: 0.8067\n",
      "Epoch 42/80\n",
      "21/21 [==============================] - 0s 2ms/step - loss: 0.6635 - accuracy: 0.8066\n",
      "Epoch 43/80\n",
      "21/21 [==============================] - 0s 2ms/step - loss: 0.6572 - accuracy: 0.8082\n",
      "Epoch 44/80\n",
      "21/21 [==============================] - 0s 2ms/step - loss: 0.6512 - accuracy: 0.8076\n",
      "Epoch 45/80\n",
      "21/21 [==============================] - 0s 2ms/step - loss: 0.6453 - accuracy: 0.8080\n",
      "Epoch 46/80\n",
      "21/21 [==============================] - 0s 2ms/step - loss: 0.6397 - accuracy: 0.8090\n",
      "Epoch 47/80\n",
      "21/21 [==============================] - 0s 2ms/step - loss: 0.6341 - accuracy: 0.8099\n",
      "Epoch 48/80\n",
      "21/21 [==============================] - 0s 2ms/step - loss: 0.6288 - accuracy: 0.8117\n",
      "Epoch 49/80\n",
      "21/21 [==============================] - 0s 2ms/step - loss: 0.6237 - accuracy: 0.8127\n",
      "Epoch 50/80\n",
      "21/21 [==============================] - 0s 2ms/step - loss: 0.6186 - accuracy: 0.8127\n",
      "Epoch 51/80\n",
      "21/21 [==============================] - 0s 2ms/step - loss: 0.6138 - accuracy: 0.8116\n",
      "Epoch 52/80\n",
      "21/21 [==============================] - 0s 2ms/step - loss: 0.6091 - accuracy: 0.8128\n",
      "Epoch 53/80\n",
      "21/21 [==============================] - 0s 2ms/step - loss: 0.6045 - accuracy: 0.8133\n",
      "Epoch 54/80\n",
      "21/21 [==============================] - 0s 2ms/step - loss: 0.6000 - accuracy: 0.8152\n",
      "Epoch 55/80\n",
      "21/21 [==============================] - 0s 2ms/step - loss: 0.5956 - accuracy: 0.8149\n",
      "Epoch 56/80\n",
      "21/21 [==============================] - 0s 2ms/step - loss: 0.5914 - accuracy: 0.8146\n",
      "Epoch 57/80\n",
      "21/21 [==============================] - 0s 2ms/step - loss: 0.5873 - accuracy: 0.8150\n",
      "Epoch 58/80\n",
      "21/21 [==============================] - 0s 2ms/step - loss: 0.5832 - accuracy: 0.8168\n",
      "Epoch 59/80\n",
      "21/21 [==============================] - 0s 2ms/step - loss: 0.5793 - accuracy: 0.8171\n",
      "Epoch 60/80\n",
      "21/21 [==============================] - 0s 2ms/step - loss: 0.5755 - accuracy: 0.8188\n",
      "Epoch 61/80\n",
      "21/21 [==============================] - 0s 2ms/step - loss: 0.5716 - accuracy: 0.8184\n",
      "Epoch 62/80\n",
      "21/21 [==============================] - 0s 2ms/step - loss: 0.5680 - accuracy: 0.8190\n",
      "Epoch 63/80\n",
      "21/21 [==============================] - 0s 2ms/step - loss: 0.5644 - accuracy: 0.8189\n",
      "Epoch 64/80\n",
      "21/21 [==============================] - 0s 2ms/step - loss: 0.5609 - accuracy: 0.8210\n",
      "Epoch 65/80\n",
      "21/21 [==============================] - 0s 2ms/step - loss: 0.5575 - accuracy: 0.8224\n",
      "Epoch 66/80\n",
      "21/21 [==============================] - 0s 2ms/step - loss: 0.5541 - accuracy: 0.8208\n",
      "Epoch 67/80\n",
      "21/21 [==============================] - 0s 2ms/step - loss: 0.5508 - accuracy: 0.8226\n",
      "Epoch 68/80\n",
      "21/21 [==============================] - 0s 2ms/step - loss: 0.5476 - accuracy: 0.8230\n",
      "Epoch 69/80\n",
      "21/21 [==============================] - 0s 2ms/step - loss: 0.5444 - accuracy: 0.8232\n",
      "Epoch 70/80\n",
      "21/21 [==============================] - 0s 2ms/step - loss: 0.5413 - accuracy: 0.8241\n",
      "Epoch 71/80\n",
      "21/21 [==============================] - 0s 2ms/step - loss: 0.5383 - accuracy: 0.8243\n",
      "Epoch 72/80\n",
      "21/21 [==============================] - 0s 2ms/step - loss: 0.5353 - accuracy: 0.8262\n",
      "Epoch 73/80\n",
      "21/21 [==============================] - 0s 2ms/step - loss: 0.5324 - accuracy: 0.8263\n",
      "Epoch 74/80\n",
      "21/21 [==============================] - 0s 2ms/step - loss: 0.5296 - accuracy: 0.8262\n",
      "Epoch 75/80\n",
      "21/21 [==============================] - 0s 2ms/step - loss: 0.5267 - accuracy: 0.8273\n",
      "Epoch 76/80\n",
      "21/21 [==============================] - 0s 2ms/step - loss: 0.5239 - accuracy: 0.8274\n",
      "Epoch 77/80\n",
      "21/21 [==============================] - 0s 2ms/step - loss: 0.5212 - accuracy: 0.8279\n",
      "Epoch 78/80\n",
      "21/21 [==============================] - 0s 2ms/step - loss: 0.5186 - accuracy: 0.8287\n",
      "Epoch 79/80\n",
      "21/21 [==============================] - 0s 2ms/step - loss: 0.5159 - accuracy: 0.8301\n",
      "Epoch 80/80\n",
      "21/21 [==============================] - 0s 2ms/step - loss: 0.5133 - accuracy: 0.8302\n"
     ]
    },
    {
     "data": {
      "text/plain": [
       "<keras.callbacks.History at 0x7f95bdc324d0>"
      ]
     },
     "execution_count": 43,
     "metadata": {},
     "output_type": "execute_result"
    }
   ],
   "source": [
    "model.fit(\n",
    "    X_train.reshape(10500, 784),\n",
    "    y_train,\n",
    "    epochs=80,\n",
    "    batch_size=500)\n"
   ]
  },
  {
   "cell_type": "markdown",
   "metadata": {
    "jp-MarkdownHeadingCollapsed": true,
    "tags": []
   },
   "source": [
    "## Evaluieren"
   ]
  },
  {
   "cell_type": "code",
   "execution_count": 15,
   "metadata": {
    "tags": [
     "output_scroll",
     "hide-output"
    ]
   },
   "outputs": [
    {
     "name": "stdout",
     "output_type": "stream",
     "text": [
      "141/141 [==============================] - 0s 652us/step - loss: 0.4513 - accuracy: 0.8444\n"
     ]
    },
    {
     "data": {
      "text/plain": [
       "[0.4513035714626312, 0.8444444537162781]"
      ]
     },
     "execution_count": 15,
     "metadata": {},
     "output_type": "execute_result"
    }
   ],
   "source": [
    "model.evaluate(X_test.reshape(-1, 784), y_test)"
   ]
  },
  {
   "cell_type": "code",
   "execution_count": 16,
   "metadata": {
    "tags": [
     "output_scroll",
     "hide-output"
    ]
   },
   "outputs": [
    {
     "data": {
      "text/plain": [
       "array([[0.8298336 , 0.31209514, 0.47636315, 0.0103268 , 0.9740795 ],\n",
       "       [0.07215902, 0.8501724 , 0.8983382 , 0.26649636, 0.15596557],\n",
       "       [0.01050031, 0.8435353 , 0.7397574 , 0.994187  , 0.01460776],\n",
       "       ...,\n",
       "       [0.03717381, 0.9012717 , 0.9380197 , 0.4403568 , 0.07745972],\n",
       "       [0.15940586, 0.89075804, 0.8651399 , 0.27076885, 0.1219281 ],\n",
       "       [0.9742968 , 0.41822356, 0.17717078, 0.00578889, 0.94266415]],\n",
       "      dtype=float32)"
      ]
     },
     "execution_count": 16,
     "metadata": {},
     "output_type": "execute_result"
    }
   ],
   "source": [
    "model.predict(X_test.reshape(-1, 784))"
   ]
  },
  {
   "cell_type": "markdown",
   "metadata": {
    "jp-MarkdownHeadingCollapsed": true,
    "tags": []
   },
   "source": [
    "## Model testen"
   ]
  },
  {
   "cell_type": "code",
   "execution_count": 18,
   "metadata": {
    "tags": [
     "output_scroll",
     "hide-output"
    ]
   },
   "outputs": [
    {
     "name": "stdout",
     "output_type": "stream",
     "text": [
      "[0. 0. 0. 0. 1.]\n"
     ]
    },
    {
     "data": {
      "image/png": "[encoded data removed]",
      "text/plain": [
       "<Figure size 432x288 with 1 Axes>"
      ]
     },
     "metadata": {
      "needs_background": "light"
     },
     "output_type": "display_data"
    }
   ],
   "source": [
    "%matplotlib inline\n",
    "\n",
    "import matplotlib.pyplot as plt\n",
    "\n",
    "print(y_test[0])\n",
    "\n",
    "plt.imshow(X_test[0].reshape(28,28), cmap=\"gray\")\n",
    "plt.show()"
   ]
  },
  {
   "cell_type": "code",
   "execution_count": 19,
   "metadata": {
    "tags": [
     "hide-output"
    ]
   },
   "outputs": [],
   "source": [
    "pred = model.predict(X_test.reshape(-1, 784))"
   ]
  },
  {
   "cell_type": "code",
   "execution_count": 22,
   "metadata": {},
   "outputs": [
    {
     "data": {
      "text/plain": [
       "4"
      ]
     },
     "execution_count": 22,
     "metadata": {},
     "output_type": "execute_result"
    }
   ],
   "source": [
    "import numpy as np\n",
    "# Klasse mit höchster Wahrscheinlichkeit ausgeben:\n",
    "np.argmax(pred[0])"
   ]
  },
  {
   "cell_type": "markdown",
   "metadata": {},
   "source": [
    "**Das Modell hat Klasse 4 korrekt erkannt.**"
   ]
  },
  {
   "cell_type": "code",
   "execution_count": 23,
   "metadata": {},
   "outputs": [
    {
     "data": {
      "text/plain": [
       "array([4, 2, 3, ..., 2, 1, 0])"
      ]
     },
     "execution_count": 23,
     "metadata": {},
     "output_type": "execute_result"
    }
   ],
   "source": [
    "np.argmax(pred, axis=1)"
   ]
  },
  {
   "cell_type": "markdown",
   "metadata": {
    "tags": []
   },
   "source": [
    "## Confusion Matrix"
   ]
  },
  {
   "cell_type": "code",
   "execution_count": 3,
   "metadata": {
    "tags": [
     "hide-output"
    ]
   },
   "outputs": [
    {
     "ename": "NameError",
     "evalue": "name 'y_test' is not defined",
     "output_type": "error",
     "traceback": [
      "\u001b[1;31m---------------------------------------------------------------------------\u001b[0m",
      "\u001b[1;31mNameError\u001b[0m                                 Traceback (most recent call last)",
      "\u001b[1;32m~\\AppData\\Local\\Temp/ipykernel_15036/3986294439.py\u001b[0m in \u001b[0;36m<module>\u001b[1;34m\u001b[0m\n\u001b[0;32m      1\u001b[0m \u001b[1;32mimport\u001b[0m \u001b[0mpandas\u001b[0m \u001b[1;32mas\u001b[0m \u001b[0mpd\u001b[0m\u001b[1;33m\u001b[0m\u001b[1;33m\u001b[0m\u001b[0m\n\u001b[1;32m----> 2\u001b[1;33m \u001b[0mytrue\u001b[0m \u001b[1;33m=\u001b[0m \u001b[0mpd\u001b[0m\u001b[1;33m.\u001b[0m\u001b[0mSeries\u001b[0m\u001b[1;33m(\u001b[0m\u001b[0mnp\u001b[0m\u001b[1;33m.\u001b[0m\u001b[0margmax\u001b[0m\u001b[1;33m(\u001b[0m\u001b[0my_test\u001b[0m\u001b[1;33m,\u001b[0m \u001b[0maxis\u001b[0m\u001b[1;33m=\u001b[0m \u001b[1;36m1\u001b[0m\u001b[1;33m)\u001b[0m\u001b[1;33m,\u001b[0m \u001b[0mname\u001b[0m \u001b[1;33m=\u001b[0m \u001b[1;34m'ytrue'\u001b[0m\u001b[1;33m)\u001b[0m\u001b[1;33m\u001b[0m\u001b[1;33m\u001b[0m\u001b[0m\n\u001b[0m\u001b[0;32m      3\u001b[0m \u001b[0mypred\u001b[0m \u001b[1;33m=\u001b[0m \u001b[0mpd\u001b[0m\u001b[1;33m.\u001b[0m\u001b[0mSeries\u001b[0m\u001b[1;33m(\u001b[0m\u001b[0mnp\u001b[0m\u001b[1;33m.\u001b[0m\u001b[0margmax\u001b[0m\u001b[1;33m(\u001b[0m\u001b[0mpred\u001b[0m\u001b[1;33m,\u001b[0m \u001b[0maxis\u001b[0m\u001b[1;33m=\u001b[0m \u001b[1;36m1\u001b[0m\u001b[1;33m)\u001b[0m\u001b[1;33m,\u001b[0m \u001b[0mname\u001b[0m \u001b[1;33m=\u001b[0m \u001b[1;34m'pred'\u001b[0m\u001b[1;33m)\u001b[0m\u001b[1;33m\u001b[0m\u001b[1;33m\u001b[0m\u001b[0m\n\u001b[0;32m      4\u001b[0m \u001b[0mpd\u001b[0m\u001b[1;33m.\u001b[0m\u001b[0mcrosstab\u001b[0m\u001b[1;33m(\u001b[0m\u001b[0mytrue\u001b[0m\u001b[1;33m,\u001b[0m \u001b[0mypred\u001b[0m\u001b[1;33m)\u001b[0m\u001b[1;33m\u001b[0m\u001b[1;33m\u001b[0m\u001b[0m\n",
      "\u001b[1;31mNameError\u001b[0m: name 'y_test' is not defined"
     ]
    }
   ],
   "source": [
    "import pandas as pd\n",
    "ytrue = pd.Series(np.argmax(y_test, axis= 1), name = 'ytrue')\n",
    "ypred = pd.Series(np.argmax(pred, axis= 1), name = 'pred')\n",
    "pd.crosstab(ytrue, ypred)"
   ]
  },
  {
   "cell_type": "code",
   "execution_count": null,
   "metadata": {},
   "outputs": [],
   "source": []
  }
 ],
 "metadata": {
  "kernelspec": {
   "display_name": "Python 3 (ipykernel)",
   "language": "python",
   "name": "python3"
  },
  "language_info": {
   "codemirror_mode": {
    "name": "ipython",
    "version": 3
   },
   "file_extension": ".py",
   "mimetype": "text/x-python",
   "name": "python",
   "nbconvert_exporter": "python",
   "pygments_lexer": "ipython3",
   "version": "3.7.11"
  }
 },
 "nbformat": 4,
 "nbformat_minor": 4
}
