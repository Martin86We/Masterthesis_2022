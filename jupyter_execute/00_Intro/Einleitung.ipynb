{
 "cells": [
  {
   "cell_type": "markdown",
   "id": "88bfa3c6-dfe2-4042-befc-599f8e0549a6",
   "metadata": {},
   "source": [
    "# Einleitung"
   ]
  },
  {
   "cell_type": "markdown",
   "id": "eb5040a0-10a9-4cd3-8f38-97c3abd50ead",
   "metadata": {},
   "source": [
    "Wer kennt es nicht, es ist gerade wieder Lockdown und man möchte ein Heimwerker Projekt umsetzen. Nun stellt man fest, dass man von einigen Schrauben nicht genügend vorrätig hat und Nachschub besorgen muss. Da alle Baumärkte geschlossen haben hat man nur noch die Möglichkeit online die gewünschten Exemplare zu ordern. Der Händler des Vertrauens benötigt lediglich die genaue Bezeichnung der benötigten Schrauben und da liegt das Problem, woher soll man die Bezeichnung der Schraube wissen ohne Seitenweise Kataloge zu studieren? Die Lösung wäre eine automatische Schraubenerkennung. Ein Foto von der Schraube als Eingabe und die Bezeichnung der Schraube als Output.  "
   ]
  },
  {
   "cell_type": "markdown",
   "id": "65887b77-f1ac-4eba-b918-c05beb307efe",
   "metadata": {},
   "source": [
    "Eine Suche nach Objekterkennung bei Google ergab:\n",
    "- Object recognition is a computer vision technique for identifying objects in images or videos. Object recognition is a key output of deep learning and machine learning algorithms. When humans look at a photograph or watch a video, we can readily spot people, objects, scenes, and visual details."
   ]
  },
  {
   "cell_type": "markdown",
   "id": "ed66f95c-950a-4412-90bf-ce2317c38778",
   "metadata": {},
   "source": [
    "Wir wollen also Objekte, in unserem Fall Schrauben in Bildern erkennen und dafür machine learning und deep learning Techniken verwenden."
   ]
  },
  {
   "cell_type": "markdown",
   "id": "65ccf9e9-e2c2-4674-9923-bec09faa96ae",
   "metadata": {},
   "source": [
    "## Objekte in Bildern erkennen"
   ]
  },
  {
   "cell_type": "markdown",
   "id": "3573f6f6-5629-42c5-b309-2633cc03b59a",
   "metadata": {},
   "source": [
    "Ziel ist es, Schrauben auf einem Bild zu erkennen. Dabei stellen sich folgende Fragen:\n",
    "- Welche Eigenschaften hat eine Schraube und welche wollen / können wir erkennen?\n",
    "- Was gibt es für Schraubenarten und wodurch unterscheiden sie sich?\n",
    "- Wie werden die Bilder erzeugt und wie sollten diese beschaffen sein?"
   ]
  },
  {
   "cell_type": "markdown",
   "id": "03b84c77-0b44-4010-bc3b-b97855934d24",
   "metadata": {},
   "source": [
    "Um mit einfachen Modellen starten zu können sollte auch die Lernaufgabe zunächst so einfach wie möglich gestaltet sein. Es wäre sicher nicht die richtige Vorgehensweise, direkt mit der höchsten Komplexität zu starten. So sind wir in der Lage den dahinter stehenden Mechanismus besser zu verstehen und nachvollziehen zu können.\n",
    "\n",
    "Um schnell erste eigene Modelle zu entwickeln lassen wir uns vom MNIST Datensatz inspirieren. Dieser ist sehr bekannt und wurde schon sehr häufig mit den verschiedensten Modellen (SVM,CNN,Logistic Regression,..) bearbeitet. Der Vorteil besteht darin, dass schon sehr viele Informationen und fertige Modelle existieren.\n",
    "\n",
    "Die Idee ist nun, fertige Modelle des MNIST Datensatzes zu nehmen und diese mit einem Eigenen Datensatz zu trainieren. So kann man schnell Erfahrungen sammeln und durch den Programmcode die Vorgänge nachvollziehen.\n",
    "\n",
    "Um einfach zu beginnen konzentrieren wir uns zunächst auf eine Eigenschaft der Schraube, dem Kopf bzw. der Antriebsart (Kreuzschlitz, Torx, Sechskant, usw.) und nehmen dafür einfache Grafiken die sehr gut zu unterscheiden sind damit sich das Modell nur auf die Form konzentrieren kann und nicht von Lichteinflüssen wie in realen Umgebungen beeinflusst wird. Die Auswahl viel auf folgende gängigen Antriebsarten:\n",
    "- Innensechskant (Inbus)\n",
    "- Philips (Kreuzschlitz)\n",
    "- Pozidriv (Kreuzschlitz)\n",
    "- Sechskant\n",
    "- Torx\n",
    "\n",
    "Diese sind, zumindest für das menschliche Auge, gut zu unterscheiden und sollten von einem Modell welches mit den MNIST-Daten funktioniert auch gut erkannt werden können.\n",
    "\n",
    "Es gibt jedoch auch schon gewisse Schwierigkeiten:\n",
    "- Innensechskant und Torx ähneln sich,schwarzer Ring auf weißem Hintergrund, Innenkontur auch ähnlich\n",
    "- Philips-Kreuz und Pozidriv-Kreuz sind nur durch die Einkerbungen in der Pozidriv zu unterscheiden\n",
    "- Das Sechskant-Profil ähnelt keinem Profil und unterscheidet sich stark von allen anderen, schwarze Fläche mit sechseckiger Außenkontur\n",
    "\n",
    "Es ist zu erwarten, dass die Modelle mit dem Sechskant weniger Schwierigkeiten haben werden als mit den anderen Profilen.\n",
    "\n",
    "So sollte dieser Datensatz einfach genug für den Anfang sein aber bringt auch schon die ersten schwierigkeiten mit sich, welche die Performance der verschiedenen Modelle auf die Probe stellen."
   ]
  },
  {
   "cell_type": "code",
   "execution_count": 1,
   "id": "6e904d2f-c032-4415-9f6d-ee10f357cd49",
   "metadata": {},
   "outputs": [
    {
     "ename": "FileNotFoundError",
     "evalue": "[Errno 2] No such file or directory: 'path where the PNG is stored\\\\file name.png'",
     "output_type": "error",
     "traceback": [
      "\u001b[1;31m---------------------------------------------------------------------------\u001b[0m",
      "\u001b[1;31mFileNotFoundError\u001b[0m                         Traceback (most recent call last)",
      "\u001b[1;32m~\\AppData\\Local\\Temp/ipykernel_19472/3998500180.py\u001b[0m in \u001b[0;36m<module>\u001b[1;34m\u001b[0m\n\u001b[0;32m      1\u001b[0m \u001b[1;32mfrom\u001b[0m \u001b[0mPIL\u001b[0m \u001b[1;32mimport\u001b[0m \u001b[0mImage\u001b[0m\u001b[1;33m\u001b[0m\u001b[1;33m\u001b[0m\u001b[0m\n\u001b[0;32m      2\u001b[0m \u001b[1;33m\u001b[0m\u001b[0m\n\u001b[1;32m----> 3\u001b[1;33m \u001b[0mim1\u001b[0m \u001b[1;33m=\u001b[0m \u001b[0mImage\u001b[0m\u001b[1;33m.\u001b[0m\u001b[0mopen\u001b[0m\u001b[1;33m(\u001b[0m\u001b[1;34mr'path where the PNG is stored\\file name.png'\u001b[0m\u001b[1;33m)\u001b[0m\u001b[1;33m\u001b[0m\u001b[1;33m\u001b[0m\u001b[0m\n\u001b[0m\u001b[0;32m      4\u001b[0m \u001b[0mim1\u001b[0m\u001b[1;33m.\u001b[0m\u001b[0msave\u001b[0m\u001b[1;33m(\u001b[0m\u001b[1;34mr'path where the JPG will be stored\\new file name.jpg'\u001b[0m\u001b[1;33m)\u001b[0m\u001b[1;33m\u001b[0m\u001b[1;33m\u001b[0m\u001b[0m\n",
      "\u001b[1;32m~\\anaconda3\\envs\\py37\\lib\\site-packages\\PIL\\Image.py\u001b[0m in \u001b[0;36mopen\u001b[1;34m(fp, mode, formats)\u001b[0m\n\u001b[0;32m   2973\u001b[0m \u001b[1;33m\u001b[0m\u001b[0m\n\u001b[0;32m   2974\u001b[0m     \u001b[1;32mif\u001b[0m \u001b[0mfilename\u001b[0m\u001b[1;33m:\u001b[0m\u001b[1;33m\u001b[0m\u001b[1;33m\u001b[0m\u001b[0m\n\u001b[1;32m-> 2975\u001b[1;33m         \u001b[0mfp\u001b[0m \u001b[1;33m=\u001b[0m \u001b[0mbuiltins\u001b[0m\u001b[1;33m.\u001b[0m\u001b[0mopen\u001b[0m\u001b[1;33m(\u001b[0m\u001b[0mfilename\u001b[0m\u001b[1;33m,\u001b[0m \u001b[1;34m\"rb\"\u001b[0m\u001b[1;33m)\u001b[0m\u001b[1;33m\u001b[0m\u001b[1;33m\u001b[0m\u001b[0m\n\u001b[0m\u001b[0;32m   2976\u001b[0m         \u001b[0mexclusive_fp\u001b[0m \u001b[1;33m=\u001b[0m \u001b[1;32mTrue\u001b[0m\u001b[1;33m\u001b[0m\u001b[1;33m\u001b[0m\u001b[0m\n\u001b[0;32m   2977\u001b[0m \u001b[1;33m\u001b[0m\u001b[0m\n",
      "\u001b[1;31mFileNotFoundError\u001b[0m: [Errno 2] No such file or directory: 'path where the PNG is stored\\\\file name.png'"
     ]
    }
   ],
   "source": [
    "from PIL import Image\n",
    "\n",
    "im1 = Image.open(r'path where the PNG is stored\\file name.png')\n",
    "im1.save(r'path where the JPG will be stored\\new file name.jpg')"
   ]
  }
 ],
 "metadata": {
  "kernelspec": {
   "display_name": "Python 3 (ipykernel)",
   "language": "python",
   "name": "python3"
  },
  "language_info": {
   "codemirror_mode": {
    "name": "ipython",
    "version": 3
   },
   "file_extension": ".py",
   "mimetype": "text/x-python",
   "name": "python",
   "nbconvert_exporter": "python",
   "pygments_lexer": "ipython3",
   "version": "3.7.11"
  }
 },
 "nbformat": 4,
 "nbformat_minor": 5
}