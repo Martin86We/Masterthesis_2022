{
 "cells": [
  {
   "cell_type": "markdown",
   "id": "d9f8ebf1-6c5f-4511-938b-3060f9359d76",
   "metadata": {},
   "source": [
    "# Log. Reg (28x28)"
   ]
  },
  {
   "cell_type": "markdown",
   "id": "3977266e-1879-4eab-bc59-0f1409d89a7d",
   "metadata": {},
   "source": [
    "## Logistische Regression"
   ]
  },
  {
   "cell_type": "code",
   "execution_count": 1,
   "id": "d47b85d1-2fbd-4191-9247-15daa10ce0dc",
   "metadata": {},
   "outputs": [],
   "source": [
    "%matplotlib inline\n",
    "import tensorflow as tf\n",
    "from tensorflow import keras\n",
    "import matplotlib.pyplot as plt\n",
    "import numpy as np\n",
    "from numpy import asarray\n",
    "import cv2\n",
    "from PIL import Image\n",
    "from numpy import load"
   ]
  },
  {
   "cell_type": "markdown",
   "id": "f80298e0-71cb-4a51-94d9-2ef568587972",
   "metadata": {},
   "source": [
    "## Datensatz laden"
   ]
  },
  {
   "cell_type": "markdown",
   "id": "f4a2c90f-4645-4423-8f1d-4593f105f0d8",
   "metadata": {},
   "source": [
    "Der Datensatz besteht aus X_train, y_train, X_test, y_test, X ist ein Numpy array mit xxxx graustufen Bildern im Format 28x28, y enthält die entsprechenden Labels der x Klassen."
   ]
  },
  {
   "cell_type": "code",
   "execution_count": 2,
   "id": "03f1f85b-cc78-438f-846b-3e3a988a15fb",
   "metadata": {},
   "outputs": [
    {
     "name": "stdout",
     "output_type": "stream",
     "text": [
      "(7394, 28, 28, 1)\n",
      "7394\n",
      "(3169, 28, 28, 1)\n",
      "3169\n"
     ]
    }
   ],
   "source": [
    "# load numpy array from npy file\n",
    "\n",
    "# load array\n",
    "\n",
    "X_train=load('../01_Dataset/dataset_28x28/X_train.npy').astype(np.float32) * 1.0/255.0 # normalisieren\n",
    "y_train=load('../01_Dataset/dataset_28x28/y_train.npy')\n",
    "X_test=load('../01_Dataset/dataset_28x28/X_test.npy').astype(np.float32) * 1.0/255.0  # normalisieren\n",
    "y_test=load('../01_Dataset/dataset_28x28/y_test.npy')\n",
    "\n",
    "print(X_train.shape)\n",
    "print(len(y_train))\n",
    "print(X_test.shape)\n",
    "print(len(y_test))"
   ]
  },
  {
   "cell_type": "markdown",
   "id": "ec4a12b8-40cd-4a03-ac6c-eb909b686a3d",
   "metadata": {},
   "source": [
    "## Datensatz Stichprobe"
   ]
  },
  {
   "cell_type": "code",
   "execution_count": 3,
   "id": "7aa841c1-5323-4898-8ca8-e16df0f25ee7",
   "metadata": {},
   "outputs": [
    {
     "name": "stdout",
     "output_type": "stream",
     "text": [
      "4\n"
     ]
    },
    {
     "data": {
      "text/plain": [
       "<function matplotlib.pyplot.show(close=None, block=None)>"
      ]
     },
     "execution_count": 3,
     "metadata": {},
     "output_type": "execute_result"
    },
    {
     "data": {
      "image/png": "[encoded data removed]",
      "text/plain": [
       "<Figure size 432x288 with 1 Axes>"
      ]
     },
     "metadata": {
      "filenames": {
       "image/png": "C:\\Users\\Martin\\Onedrive\\Masterthesis_2022\\_build\\jupyter_execute\\02_NN\\logReg_28x28_7_2.png"
      },
      "needs_background": "light"
     },
     "output_type": "display_data"
    }
   ],
   "source": [
    "from random import randrange\n",
    "\n",
    "# 0 = innensechskant\n",
    "# 1 = philips\n",
    "# 2 = pozidriv\n",
    "# 3 = sechskant\n",
    "# 4 = torx\n",
    "\n",
    "i=randrange(len(y_train))\n",
    "\n",
    "print(y_train[i])\n",
    "plt.imshow(X_train[i].reshape(28,28),cmap='gray')\n",
    "plt.show"
   ]
  },
  {
   "cell_type": "markdown",
   "id": "3bbfadec-d825-4f12-a7f5-7c3e3ea370f5",
   "metadata": {},
   "source": [
    "## Formatieren"
   ]
  },
  {
   "cell_type": "markdown",
   "id": "514283f9-0a93-4e0c-bbbd-b5c1e715e8fe",
   "metadata": {},
   "source": [
    "**Erklärung: weshalb formatieren?**"
   ]
  },
  {
   "cell_type": "code",
   "execution_count": 4,
   "id": "48bd1440-b8a9-455a-b925-9f7058f3447f",
   "metadata": {},
   "outputs": [
    {
     "name": "stdout",
     "output_type": "stream",
     "text": [
      "(7394, 784)\n",
      "(7394,)\n",
      "(3169, 784)\n",
      "(3169,)\n"
     ]
    }
   ],
   "source": [
    "# converting X\n",
    "X_train = X_train.reshape(-1,784)\n",
    "X_test = X_test.reshape(-1,784)\n",
    "\n",
    "# converting list to array\n",
    "y_train = np.array(y_train)\n",
    "y_test = np.array(y_test)\n",
    "\n",
    "print(X_train.shape)\n",
    "print(y_train.shape)\n",
    "print(X_test.shape)\n",
    "print(y_test.shape)"
   ]
  },
  {
   "cell_type": "code",
   "execution_count": 5,
   "id": "4dd09878-de46-4349-afe1-15c93ad3e14f",
   "metadata": {},
   "outputs": [
    {
     "data": {
      "text/plain": [
       "array([3, 0, 4, ..., 4, 1, 1])"
      ]
     },
     "execution_count": 5,
     "metadata": {},
     "output_type": "execute_result"
    }
   ],
   "source": [
    "y_train"
   ]
  },
  {
   "cell_type": "code",
   "execution_count": 105,
   "id": "5fa107ec-8ddc-436e-ac75-85bbe7d0cc1a",
   "metadata": {},
   "outputs": [
    {
     "data": {
      "text/plain": [
       "array([0., 0., 0., ..., 0., 0., 1.], dtype=float32)"
      ]
     },
     "execution_count": 105,
     "metadata": {},
     "output_type": "execute_result"
    }
   ],
   "source": []
  },
  {
   "cell_type": "markdown",
   "id": "4bb3dbd0-48e9-42ed-950f-8762dbe9f784",
   "metadata": {},
   "source": [
    "## One-Hot-Encoding"
   ]
  },
  {
   "cell_type": "markdown",
   "id": "b7c9bbd9-0924-47a6-90a4-ff469e59b8d9",
   "metadata": {},
   "source": [
    "y_train: werte zwischen 0 und 1, weil logistische Reg. nur in diesem Bereich arbeitet:"
   ]
  },
  {
   "cell_type": "markdown",
   "id": "baae05c9-8351-4985-ad67-f5af077ad2e6",
   "metadata": {},
   "source": [
    "Wir können das Modell erstmal nur darauf trainieren, ein Objekt von anderen zu unterscheiden. Dafür müssen die Labels noch umgewandelt werden, 1 für treffer und 0 für anderes Objekt."
   ]
  },
  {
   "cell_type": "code",
   "execution_count": 6,
   "id": "b1351a15-f468-4b0d-8a13-d1b7bf35e97a",
   "metadata": {},
   "outputs": [
    {
     "name": "stdout",
     "output_type": "stream",
     "text": [
      "[False  True False ... False False False]\n",
      "[False False False ... False  True  True]\n",
      "[False False False ... False False False]\n",
      "[ True False False ... False False False]\n",
      "[False False  True ...  True False False]\n",
      "[0. 1. 0. ... 0. 0. 0.]\n",
      "[0. 0. 0. ... 0. 1. 1.]\n",
      "[0. 0. 0. ... 0. 0. 0.]\n",
      "[1. 0. 0. ... 0. 0. 0.]\n",
      "[0. 0. 1. ... 1. 0. 0.]\n"
     ]
    }
   ],
   "source": [
    "# auf eine Klasse trainieren, One-Hot-Encoding\n",
    "\n",
    "# 0 = innensechskant\n",
    "y_train_0=y_train == 0 # False,True,...\n",
    "y_test_0 =y_test == 0\n",
    "print(y_train_0)\n",
    "      \n",
    "# 1 = philips\n",
    "y_train_1=y_train == 1 \n",
    "y_test_1 =y_test == 1\n",
    "print(y_train_1)\n",
    "      \n",
    "# 2 = pozidriv\n",
    "y_train_2=y_train == 2 \n",
    "y_test_2 =y_test == 2\n",
    "print(y_train_2)\n",
    "      \n",
    "# 3 = sechskant\n",
    "y_train_3=y_train == 3 \n",
    "y_test_3 =y_test == 3\n",
    "print(y_train_3)\n",
    "      \n",
    "# 4 = torx\n",
    "y_train_4=y_train == 4\n",
    "y_test_4 =y_test == 4\n",
    "print(y_train_4)\n",
    "\n",
    "\n",
    "# False,True,... in Werte zw. 0...1 umwandeln\n",
    "y_train_0 = y_train_0.astype(np.float32) \n",
    "y_test_0 = y_test_0.astype(np.float32) \n",
    "y_train_1 = y_train_1.astype(np.float32) \n",
    "y_test_1 = y_test_1.astype(np.float32) \n",
    "y_train_2 = y_train_2.astype(np.float32) \n",
    "y_test_2 = y_test_2.astype(np.float32)\n",
    "y_train_3 = y_train_3.astype(np.float32) \n",
    "y_test_3= y_test_3.astype(np.float32) \n",
    "y_train_4 = y_train_4.astype(np.float32) \n",
    "y_test_4 = y_test_4.astype(np.float32) \n",
    "\n",
    "print(y_train_0)\n",
    "print(y_train_1)\n",
    "print(y_train_2)\n",
    "print(y_train_3)\n",
    "print(y_train_4)"
   ]
  },
  {
   "cell_type": "markdown",
   "id": "f20020cd-2610-4c77-af40-dc9219afa034",
   "metadata": {},
   "source": [
    "## Modell trainieren"
   ]
  },
  {
   "cell_type": "markdown",
   "id": "f8593095-2e80-4e1a-8310-16445a270ca2",
   "metadata": {},
   "source": [
    "**Funktionen genau erläutern:**"
   ]
  },
  {
   "cell_type": "code",
   "execution_count": 7,
   "id": "0b058854-1008-48f9-8c84-b98b30675621",
   "metadata": {},
   "outputs": [
    {
     "name": "stdout",
     "output_type": "stream",
     "text": [
      "Kosten: 0.5296752217316285\n"
     ]
    },
    {
     "name": "stdout",
     "output_type": "stream",
     "text": [
      "Kosten: 0.48631425207338314\n"
     ]
    },
    {
     "name": "stdout",
     "output_type": "stream",
     "text": [
      "Kosten: 0.454277675892652\n"
     ]
    },
    {
     "name": "stdout",
     "output_type": "stream",
     "text": [
      "Kosten: 0.42633226016691955\n"
     ]
    },
    {
     "name": "stdout",
     "output_type": "stream",
     "text": [
      "Kosten: 0.40162324544212974\n"
     ]
    },
    {
     "name": "stdout",
     "output_type": "stream",
     "text": [
      "Kosten: 0.37965956144665913\n"
     ]
    },
    {
     "name": "stdout",
     "output_type": "stream",
     "text": [
      "Kosten: 0.3600391850307278\n"
     ]
    },
    {
     "name": "stdout",
     "output_type": "stream",
     "text": [
      "Kosten: 0.34242498071521094\n"
     ]
    },
    {
     "name": "stdout",
     "output_type": "stream",
     "text": [
      "Kosten: 0.3265348187339243\n"
     ]
    },
    {
     "name": "stdout",
     "output_type": "stream",
     "text": [
      "Kosten: 0.3121327978470335\n"
     ]
    },
    {
     "name": "stdout",
     "output_type": "stream",
     "text": [
      "Kosten: 0.29902141910895735\n"
     ]
    },
    {
     "name": "stdout",
     "output_type": "stream",
     "text": [
      "Kosten: 0.2870348897009249\n"
     ]
    },
    {
     "name": "stdout",
     "output_type": "stream",
     "text": [
      "Kosten: 0.27603353341408327\n"
     ]
    },
    {
     "name": "stdout",
     "output_type": "stream",
     "text": [
      "Kosten: 0.2658991885550321\n"
     ]
    },
    {
     "name": "stdout",
     "output_type": "stream",
     "text": [
      "Kosten: 0.25653144680355916\n"
     ]
    },
    {
     "name": "stdout",
     "output_type": "stream",
     "text": [
      "Kosten: 0.24784459005415488\n"
     ]
    },
    {
     "name": "stdout",
     "output_type": "stream",
     "text": [
      "Kosten: 0.23976509799169932\n"
     ]
    },
    {
     "name": "stdout",
     "output_type": "stream",
     "text": [
      "Kosten: 0.23222961837996162\n"
     ]
    },
    {
     "name": "stdout",
     "output_type": "stream",
     "text": [
      "Kosten: 0.22518331081134949\n"
     ]
    },
    {
     "name": "stdout",
     "output_type": "stream",
     "text": [
      "Kosten: 0.2185784913517443\n"
     ]
    },
    {
     "name": "stdout",
     "output_type": "stream",
     "text": [
      "Kosten: 0.21237351963872594\n"
     ]
    },
    {
     "name": "stdout",
     "output_type": "stream",
     "text": [
      "Kosten: 0.20653188161474778\n"
     ]
    },
    {
     "name": "stdout",
     "output_type": "stream",
     "text": [
      "Kosten: 0.2010214304803307\n"
     ]
    },
    {
     "name": "stdout",
     "output_type": "stream",
     "text": [
      "Kosten: 0.19581375598230236\n"
     ]
    },
    {
     "name": "stdout",
     "output_type": "stream",
     "text": [
      "Kosten: 0.19088365814617414\n"
     ]
    },
    {
     "name": "stdout",
     "output_type": "stream",
     "text": [
      "Kosten: 0.18620870631886674\n"
     ]
    },
    {
     "name": "stdout",
     "output_type": "stream",
     "text": [
      "Kosten: 0.1817688681595552\n"
     ]
    },
    {
     "name": "stdout",
     "output_type": "stream",
     "text": [
      "Kosten: 0.17754619620783565\n"
     ]
    },
    {
     "name": "stdout",
     "output_type": "stream",
     "text": [
      "Kosten: 0.1735245620343848\n"
     ]
    },
    {
     "name": "stdout",
     "output_type": "stream",
     "text": [
      "Kosten: 0.1696894298704355\n"
     ]
    },
    {
     "name": "stdout",
     "output_type": "stream",
     "text": [
      "Kosten: 0.16602766312161688\n"
     ]
    },
    {
     "name": "stdout",
     "output_type": "stream",
     "text": [
      "Kosten: 0.16252735837975915\n"
     ]
    },
    {
     "name": "stdout",
     "output_type": "stream",
     "text": [
      "Kosten: 0.15917770251637964\n"
     ]
    },
    {
     "name": "stdout",
     "output_type": "stream",
     "text": [
      "Kosten: 0.15596884922327417\n"
     ]
    },
    {
     "name": "stdout",
     "output_type": "stream",
     "text": [
      "Kosten: 0.15289181199776267\n"
     ]
    },
    {
     "name": "stdout",
     "output_type": "stream",
     "text": [
      "Kosten: 0.14993837108312005\n"
     ]
    },
    {
     "name": "stdout",
     "output_type": "stream",
     "text": [
      "Kosten: 0.1471009922925399\n"
     ]
    },
    {
     "name": "stdout",
     "output_type": "stream",
     "text": [
      "Kosten: 0.14437275598648952\n"
     ]
    },
    {
     "name": "stdout",
     "output_type": "stream",
     "text": [
      "Kosten: 0.14174729475347894\n"
     ]
    },
    {
     "name": "stdout",
     "output_type": "stream",
     "text": [
      "Kosten: 0.13921873857490144\n"
     ]
    },
    {
     "name": "stdout",
     "output_type": "stream",
     "text": [
      "Kosten: 0.13678166644513043\n"
     ]
    },
    {
     "name": "stdout",
     "output_type": "stream",
     "text": [
      "Kosten: 0.1344310635759967\n"
     ]
    },
    {
     "name": "stdout",
     "output_type": "stream",
     "text": [
      "Kosten: 0.13216228344613223\n"
     ]
    },
    {
     "name": "stdout",
     "output_type": "stream",
     "text": [
      "Kosten: 0.1299710140652758\n"
     ]
    },
    {
     "name": "stdout",
     "output_type": "stream",
     "text": [
      "Kosten: 0.1278532479154095\n"
     ]
    },
    {
     "name": "stdout",
     "output_type": "stream",
     "text": [
      "Kosten: 0.12580525510764268\n"
     ]
    },
    {
     "name": "stdout",
     "output_type": "stream",
     "text": [
      "Kosten: 0.12382355935868253\n"
     ]
    },
    {
     "name": "stdout",
     "output_type": "stream",
     "text": [
      "Kosten: 0.12190491644556525\n"
     ]
    },
    {
     "name": "stdout",
     "output_type": "stream",
     "text": [
      "Kosten: 0.1200462948437891\n"
     ]
    },
    {
     "name": "stdout",
     "output_type": "stream",
     "text": [
      "Kosten: 0.11824485829347689\n"
     ]
    },
    {
     "name": "stdout",
     "output_type": "stream",
     "text": [
      "Kosten: 0.11649795007183558\n"
     ]
    },
    {
     "name": "stdout",
     "output_type": "stream",
     "text": [
      "Kosten: 0.11480307877892533\n"
     ]
    },
    {
     "name": "stdout",
     "output_type": "stream",
     "text": [
      "Kosten: 0.1131579054683662\n"
     ]
    },
    {
     "name": "stdout",
     "output_type": "stream",
     "text": [
      "Kosten: 0.11156023197575847\n"
     ]
    },
    {
     "name": "stdout",
     "output_type": "stream",
     "text": [
      "Kosten: 0.11000799031578602\n"
     ]
    },
    {
     "name": "stdout",
     "output_type": "stream",
     "text": [
      "Kosten: 0.1084992330346856\n"
     ]
    },
    {
     "name": "stdout",
     "output_type": "stream",
     "text": [
      "Kosten: 0.10703212441834764\n"
     ]
    },
    {
     "name": "stdout",
     "output_type": "stream",
     "text": [
      "Kosten: 0.10560493246808532\n"
     ]
    },
    {
     "name": "stdout",
     "output_type": "stream",
     "text": [
      "Kosten: 0.1042160215663566\n"
     ]
    },
    {
     "name": "stdout",
     "output_type": "stream",
     "text": [
      "Kosten: 0.10286384576361532\n"
     ]
    },
    {
     "name": "stdout",
     "output_type": "stream",
     "text": [
      "Kosten: 0.1015469426252598\n"
     ]
    },
    {
     "name": "stdout",
     "output_type": "stream",
     "text": [
      "Kosten: 0.10026392758443096\n"
     ]
    },
    {
     "name": "stdout",
     "output_type": "stream",
     "text": [
      "Kosten: 0.09901348875237621\n"
     ]
    },
    {
     "name": "stdout",
     "output_type": "stream",
     "text": [
      "Kosten: 0.09779438214331955\n"
     ]
    },
    {
     "name": "stdout",
     "output_type": "stream",
     "text": [
      "Kosten: 0.09660542727537454\n"
     ]
    },
    {
     "name": "stdout",
     "output_type": "stream",
     "text": [
      "Kosten: 0.09544550311309101\n"
     ]
    },
    {
     "name": "stdout",
     "output_type": "stream",
     "text": [
      "Kosten: 0.09431354432079384\n"
     ]
    },
    {
     "name": "stdout",
     "output_type": "stream",
     "text": [
      "Kosten: 0.09320853779904452\n"
     ]
    },
    {
     "name": "stdout",
     "output_type": "stream",
     "text": [
      "Kosten: 0.09212951947934327\n"
     ]
    },
    {
     "name": "stdout",
     "output_type": "stream",
     "text": [
      "Kosten: 0.09107557135468242\n"
     ]
    },
    {
     "name": "stdout",
     "output_type": "stream",
     "text": [
      "Kosten: 0.0900458187257634\n"
     ]
    },
    {
     "name": "stdout",
     "output_type": "stream",
     "text": [
      "Kosten: 0.08903942764465665\n"
     ]
    },
    {
     "name": "stdout",
     "output_type": "stream",
     "text": [
      "Kosten: 0.08805560253943173\n"
     ]
    },
    {
     "name": "stdout",
     "output_type": "stream",
     "text": [
      "Kosten: 0.08709358400485065\n"
     ]
    },
    {
     "name": "stdout",
     "output_type": "stream",
     "text": [
      "Kosten: 0.08615264674561195\n"
     ]
    },
    {
     "name": "stdout",
     "output_type": "stream",
     "text": [
      "Kosten: 0.08523209765988549\n"
     ]
    },
    {
     "name": "stdout",
     "output_type": "stream",
     "text": [
      "Kosten: 0.08433127405199779\n"
     ]
    },
    {
     "name": "stdout",
     "output_type": "stream",
     "text": [
      "Kosten: 0.08344954196413777\n"
     ]
    },
    {
     "name": "stdout",
     "output_type": "stream",
     "text": [
      "Kosten: 0.08258629461785054\n"
     ]
    },
    {
     "name": "stdout",
     "output_type": "stream",
     "text": [
      "Kosten: 0.08174095095691247\n"
     ]
    },
    {
     "name": "stdout",
     "output_type": "stream",
     "text": [
      "Kosten: 0.0809129542839025\n"
     ]
    },
    {
     "name": "stdout",
     "output_type": "stream",
     "text": [
      "Kosten: 0.08010177098345743\n"
     ]
    },
    {
     "name": "stdout",
     "output_type": "stream",
     "text": [
      "Kosten: 0.0793068893257896\n"
     ]
    },
    {
     "name": "stdout",
     "output_type": "stream",
     "text": [
      "Kosten: 0.07852781834459405\n"
     ]
    },
    {
     "name": "stdout",
     "output_type": "stream",
     "text": [
      "Kosten: 0.07776408678395404\n"
     ]
    },
    {
     "name": "stdout",
     "output_type": "stream",
     "text": [
      "Kosten: 0.07701524210930664\n"
     ]
    },
    {
     "ename": "KeyboardInterrupt",
     "evalue": "",
     "output_type": "error",
     "traceback": [
      "\u001b[1;31m---------------------------------------------------------------------------\u001b[0m",
      "\u001b[1;31mKeyboardInterrupt\u001b[0m                         Traceback (most recent call last)",
      "\u001b[1;32m~\\AppData\\Local\\Temp/ipykernel_22200/1792142496.py\u001b[0m in \u001b[0;36m<module>\u001b[1;34m\u001b[0m\n\u001b[0;32m     37\u001b[0m     \u001b[0mb\u001b[0m \u001b[1;33m=\u001b[0m \u001b[0mb\u001b[0m \u001b[1;33m-\u001b[0m \u001b[0mlr\u001b[0m \u001b[1;33m*\u001b[0m \u001b[0mdb\u001b[0m\u001b[1;33m\u001b[0m\u001b[1;33m\u001b[0m\u001b[0m\n\u001b[0;32m     38\u001b[0m \u001b[1;33m\u001b[0m\u001b[0m\n\u001b[1;32m---> 39\u001b[1;33m     \u001b[0mcost\u001b[0m \u001b[1;33m=\u001b[0m \u001b[0mJ\u001b[0m\u001b[1;33m(\u001b[0m\u001b[0mw\u001b[0m\u001b[1;33m,\u001b[0m \u001b[0mb\u001b[0m\u001b[1;33m,\u001b[0m \u001b[0mX_train\u001b[0m\u001b[1;33m,\u001b[0m \u001b[0my_train_3\u001b[0m\u001b[1;33m)\u001b[0m\u001b[1;33m\u001b[0m\u001b[1;33m\u001b[0m\u001b[0m\n\u001b[0m\u001b[0;32m     40\u001b[0m     \u001b[0mprint\u001b[0m\u001b[1;33m(\u001b[0m\u001b[1;34m\"Kosten: \"\u001b[0m \u001b[1;33m+\u001b[0m \u001b[0mstr\u001b[0m\u001b[1;33m(\u001b[0m\u001b[0mcost\u001b[0m\u001b[1;33m)\u001b[0m\u001b[1;33m)\u001b[0m\u001b[1;33m\u001b[0m\u001b[1;33m\u001b[0m\u001b[0m\n",
      "\u001b[1;32m~\\AppData\\Local\\Temp/ipykernel_22200/1792142496.py\u001b[0m in \u001b[0;36mJ\u001b[1;34m(w, b, x, y)\u001b[0m\n\u001b[0;32m     12\u001b[0m \u001b[1;33m\u001b[0m\u001b[0m\n\u001b[0;32m     13\u001b[0m \u001b[1;32mdef\u001b[0m \u001b[0mJ\u001b[0m\u001b[1;33m(\u001b[0m\u001b[0mw\u001b[0m\u001b[1;33m,\u001b[0m \u001b[0mb\u001b[0m\u001b[1;33m,\u001b[0m \u001b[0mx\u001b[0m\u001b[1;33m,\u001b[0m \u001b[0my\u001b[0m\u001b[1;33m)\u001b[0m\u001b[1;33m:\u001b[0m\u001b[1;33m\u001b[0m\u001b[1;33m\u001b[0m\u001b[0m\n\u001b[1;32m---> 14\u001b[1;33m     return -np.mean(y * np.log(f(w, b, x)) + \\\n\u001b[0m\u001b[0;32m     15\u001b[0m                     (1 - y) * np.log(1 - f(w, b, x)))\n\u001b[0;32m     16\u001b[0m \u001b[1;33m\u001b[0m\u001b[0m\n",
      "\u001b[1;32m~\\AppData\\Local\\Temp/ipykernel_22200/1792142496.py\u001b[0m in \u001b[0;36mf\u001b[1;34m(w, b, x)\u001b[0m\n\u001b[0;32m      8\u001b[0m \u001b[1;31m# Funktion genau erklären:\u001b[0m\u001b[1;33m\u001b[0m\u001b[1;33m\u001b[0m\u001b[1;33m\u001b[0m\u001b[0m\n\u001b[0;32m      9\u001b[0m \u001b[1;32mdef\u001b[0m \u001b[0mf\u001b[0m\u001b[1;33m(\u001b[0m\u001b[0mw\u001b[0m\u001b[1;33m,\u001b[0m \u001b[0mb\u001b[0m\u001b[1;33m,\u001b[0m \u001b[0mx\u001b[0m\u001b[1;33m)\u001b[0m\u001b[1;33m:\u001b[0m\u001b[1;33m\u001b[0m\u001b[1;33m\u001b[0m\u001b[0m\n\u001b[1;32m---> 10\u001b[1;33m     \u001b[1;32mreturn\u001b[0m \u001b[0mS\u001b[0m\u001b[1;33m(\u001b[0m\u001b[0mw\u001b[0m \u001b[1;33m@\u001b[0m \u001b[0mx\u001b[0m\u001b[1;33m.\u001b[0m\u001b[0mT\u001b[0m \u001b[1;33m+\u001b[0m \u001b[0mb\u001b[0m\u001b[1;33m)\u001b[0m\u001b[1;33m\u001b[0m\u001b[1;33m\u001b[0m\u001b[0m\n\u001b[0m\u001b[0;32m     11\u001b[0m \u001b[1;33m\u001b[0m\u001b[0m\n\u001b[0;32m     12\u001b[0m \u001b[1;33m\u001b[0m\u001b[0m\n",
      "\u001b[1;31mKeyboardInterrupt\u001b[0m: "
     ]
    }
   ],
   "source": [
    "from scipy.special import expit\n",
    "\n",
    "\n",
    "def S(x):\n",
    "    return expit(x)\n",
    "    # return 1 / (1 + np.exp(-x))\n",
    "\n",
    "# Funktion genau erklären:\n",
    "def f(w, b, x):\n",
    "    return S(w @ x.T + b)\n",
    "\n",
    "\n",
    "def J(w, b, x, y):\n",
    "    return -np.mean(y * np.log(f(w, b, x)) + \\\n",
    "                    (1 - y) * np.log(1 - f(w, b, x)))\n",
    "\n",
    "\n",
    "def J_ableitung_w(w, b, x, y):\n",
    "    e = f(w, b, x) - y\n",
    "    return np.mean(x.T * e, axis=1)\n",
    "\n",
    "\n",
    "def J_ableitung_b(w, b, x, y):\n",
    "    return np.mean(f(w, b, x) - y)\n",
    "\n",
    "# print(X_train.shape)\n",
    "# exit()\n",
    "lr = 0.01\n",
    "w = np.zeros((1, 784)) # bei der NUll ist Steigung am größten->numerisch besser\n",
    "b = 1\n",
    "for i in range(0, 500):\n",
    "\n",
    "    dw = J_ableitung_w(w, b, X_train, y_train_3)\n",
    "    db = J_ableitung_b(w, b, X_train, y_train_3)\n",
    "\n",
    "    w = w - lr * dw\n",
    "    b = b - lr * db\n",
    "\n",
    "    cost = J(w, b, X_train, y_train_3)\n",
    "    print(\"Kosten: \" + str(cost))"
   ]
  },
  {
   "cell_type": "code",
   "execution_count": 107,
   "id": "35ac944e-6111-42a8-a34b-3dcd90f3f071",
   "metadata": {},
   "outputs": [
    {
     "name": "stdout",
     "output_type": "stream",
     "text": [
      "(2720,)\n",
      "1.0\n"
     ]
    }
   ],
   "source": [
    "y_test_pred = f(w, b, X_test) > 0.5\n",
    "y_test_pred = y_test_pred.reshape(-1)\n",
    "y_test_pred=y_test_pred.astype(np.float32)\n",
    "print(y_test_pred.shape)\n",
    "print(np.mean(y_test_3 == y_test_pred))"
   ]
  },
  {
   "cell_type": "markdown",
   "id": "f3e72b33-ac18-45db-aa61-991157f511ba",
   "metadata": {},
   "source": [
    "## Modell Trainieren mit Torx"
   ]
  },
  {
   "cell_type": "code",
   "execution_count": 108,
   "id": "cf78559d-5d1c-4d69-9ef8-5a666384329c",
   "metadata": {},
   "outputs": [
    {
     "name": "stdout",
     "output_type": "stream",
     "text": [
      "Kosten: 0.5412764682099986\n",
      "Kosten: 0.5222272900016737\n",
      "Kosten: 0.5111212582773319\n",
      "Kosten: 0.50159465182949\n",
      "Kosten: 0.49303368636347117\n",
      "Kosten: 0.4852827961808544\n",
      "Kosten: 0.47824547091001546\n",
      "Kosten: 0.47184063627035744\n",
      "Kosten: 0.46599696435274696\n",
      "Kosten: 0.4606515158914848\n",
      "Kosten: 0.455748845630847\n",
      "Kosten: 0.45124017269051975\n",
      "Kosten: 0.4470826031978436\n",
      "Kosten: 0.4432384185214898\n",
      "Kosten: 0.4396744350212995\n",
      "Kosten: 0.4363614349949419\n",
      "Kosten: 0.4332736650595839\n",
      "Kosten: 0.4303883965228226\n",
      "Kosten: 0.4276855416327122\n",
      "Kosten: 0.425147319522809\n",
      "Kosten: 0.42275796592980214\n",
      "Kosten: 0.42050348120150993\n",
      "Kosten: 0.41837141163398484\n",
      "Kosten: 0.41635065971801827\n",
      "Kosten: 0.4144313194017573\n",
      "Kosten: 0.412604532967604\n",
      "Kosten: 0.41086236656844205\n",
      "Kosten: 0.40919770186721915\n",
      "Kosten: 0.4076041415756189\n",
      "Kosten: 0.4060759269946556\n",
      "Kosten: 0.40460786592640746\n",
      "Kosten: 0.40319526955601526\n",
      "Kosten: 0.4018338971008019\n",
      "Kosten: 0.4005199071930079\n",
      "Kosten: 0.3992498151079356\n",
      "Kosten: 0.3980204550736172\n",
      "Kosten: 0.39682894700444804\n",
      "Kosten: 0.3956726670921492\n",
      "Kosten: 0.39454922176519763\n",
      "Kosten: 0.3934564245944234\n",
      "Kosten: 0.39239227577947566\n",
      "Kosten: 0.3913549438997176\n",
      "Kosten: 0.390342749655046\n",
      "Kosten: 0.3893541513581433\n",
      "Kosten: 0.38838773197064874\n",
      "Kosten: 0.3874421875024226\n",
      "Kosten: 0.3865163166160803\n",
      "Kosten: 0.38560901129884856\n",
      "Kosten: 0.38471924848097944\n",
      "Kosten: 0.38384608249484337\n",
      "Kosten: 0.38298863828173163\n",
      "Kosten: 0.38214610526461545\n",
      "Kosten: 0.38131773181485756\n",
      "Kosten: 0.3805028202493841\n",
      "Kosten: 0.3797007223022235\n",
      "Kosten: 0.37891083502081624\n",
      "Kosten: 0.3781325970431507\n",
      "Kosten: 0.377365485216767\n",
      "Kosten: 0.3766090115250134\n",
      "Kosten: 0.37586272028978557\n",
      "Kosten: 0.3751261856233394\n",
      "Kosten: 0.3743990091047469\n",
      "Kosten: 0.37368081765918154\n",
      "Kosten: 0.3729712616205381\n",
      "Kosten: 0.3722700129599388\n",
      "Kosten: 0.3715767636644982\n",
      "Kosten: 0.3708912242523238\n",
      "Kosten: 0.37021312241116044\n",
      "Kosten: 0.3695422017493639\n",
      "Kosten: 0.368878220649013\n",
      "Kosten: 0.3682209512119841\n",
      "Kosten: 0.36757017829071054\n",
      "Kosten: 0.3669256985961555\n",
      "Kosten: 0.36628731987624175\n",
      "Kosten: 0.3656548601586353\n",
      "Kosten: 0.3650281470523445\n",
      "Kosten: 0.3644070171031264\n",
      "Kosten: 0.3637913151981528\n",
      "Kosten: 0.36318089401580295\n",
      "Kosten: 0.36257561351683426\n",
      "Kosten: 0.36197534047351665\n",
      "Kosten: 0.36137994803362405\n",
      "Kosten: 0.3607893153164519\n",
      "Kosten: 0.3602033270382814\n",
      "Kosten: 0.35962187316493344\n",
      "Kosten: 0.35904484858926305\n",
      "Kosten: 0.35847215283162925\n",
      "Kosten: 0.3579036897615424\n",
      "Kosten: 0.3573393673388424\n",
      "Kosten: 0.35677909737290436\n",
      "Kosten: 0.35622279529848827\n",
      "Kosten: 0.3556703799669672\n",
      "Kosten: 0.3551217734517718\n",
      "Kosten: 0.35457690086698485\n",
      "Kosten: 0.3540356901981033\n",
      "Kosten: 0.3534980721440687\n",
      "Kosten: 0.35296397996973394\n",
      "Kosten: 0.35243334936800497\n",
      "Kosten: 0.35190611833095425\n",
      "Kosten: 0.3513822270292556\n",
      "Kosten: 0.35086161769934604\n",
      "Kosten: 0.3503442345377611\n",
      "Kosten: 0.3498300236021353\n",
      "Kosten: 0.34931893271840014\n",
      "Kosten: 0.34881091139374093\n",
      "Kosten: 0.34830591073491607\n",
      "Kosten: 0.3478038833715639\n",
      "Kosten: 0.3473047833841565\n",
      "Kosten: 0.34680856623628015\n",
      "Kosten: 0.3463151887109496\n",
      "Kosten: 0.34582460885068317\n",
      "Kosten: 0.3453367859010855\n",
      "Kosten: 0.34485168025770296\n",
      "Kosten: 0.34436925341593566\n",
      "Kosten: 0.3438894679238037\n",
      "Kosten: 0.3434122873373784\n",
      "Kosten: 0.342937676178708\n",
      "Kosten: 0.3424655998960724\n",
      "Kosten: 0.34199602482641983\n",
      "Kosten: 0.34152891815984293\n",
      "Kosten: 0.34106424790596584\n",
      "Kosten: 0.3406019828621211\n",
      "Kosten: 0.3401420925832035\n",
      "Kosten: 0.33968454735309594\n",
      "Kosten: 0.3392293181575695\n",
      "Kosten: 0.3387763766585667\n",
      "Kosten: 0.33832569516978483\n",
      "Kosten: 0.3378772466334759\n",
      "Kosten: 0.33743100459839476\n",
      "Kosten: 0.3369869431988219\n",
      "Kosten: 0.3365450371346002\n",
      "Kosten: 0.33610526165212334\n",
      "Kosten: 0.33566759252622014\n",
      "Kosten: 0.33523200604288317\n",
      "Kosten: 0.3347984789827929\n",
      "Kosten: 0.33436698860559005\n",
      "Kosten: 0.33393751263485416\n",
      "Kosten: 0.33351002924375023\n",
      "Kosten: 0.3330845170413021\n",
      "Kosten: 0.33266095505926063\n",
      "Kosten: 0.33223932273953294\n",
      "Kosten: 0.33181959992214044\n",
      "Kosten: 0.3314017668336804\n",
      "Kosten: 0.33098580407625927\n",
      "Kosten: 0.3305716926168766\n",
      "Kosten: 0.33015941377723285\n",
      "Kosten: 0.3297489492239417\n",
      "Kosten: 0.32934028095912116\n",
      "Kosten: 0.3289333913113503\n",
      "Kosten: 0.3285282629269669\n",
      "Kosten: 0.32812487876169283\n",
      "Kosten: 0.3277232220725691\n",
      "Kosten: 0.32732327641018505\n",
      "Kosten: 0.3269250256111881\n",
      "Kosten: 0.32652845379106044\n",
      "Kosten: 0.32613354533714833\n",
      "Kosten: 0.3257402849019348\n",
      "Kosten: 0.3253486573965407\n",
      "Kosten: 0.32495864798444757\n",
      "Kosten: 0.3245702420754284\n",
      "Kosten: 0.32418342531967903\n",
      "Kosten: 0.323798183602141\n",
      "Kosten: 0.32341450303700686\n",
      "Kosten: 0.32303236996239904\n",
      "Kosten: 0.3226517709352172\n",
      "Kosten: 0.32227269272614484\n",
      "Kosten: 0.32189512231480893\n",
      "Kosten: 0.3215190468850861\n",
      "Kosten: 0.3211444538205497\n",
      "Kosten: 0.32077133070005126\n",
      "Kosten: 0.32039966529343283\n",
      "Kosten: 0.3200294455573614\n",
      "Kosten: 0.3196606596312849\n",
      "Kosten: 0.3192932958335012\n",
      "Kosten: 0.31892734265733846\n",
      "Kosten: 0.3185627887674416\n",
      "Kosten: 0.31819962299616067\n",
      "Kosten: 0.3178378343400373\n",
      "Kosten: 0.31747741195638707\n",
      "Kosten: 0.31711834515997184\n",
      "Kosten: 0.31676062341976136\n",
      "Kosten: 0.3164042363557803\n",
      "Kosten: 0.3160491737360345\n",
      "Kosten: 0.3156954254735206\n",
      "Kosten: 0.31534298162330887\n",
      "Kosten: 0.31499183237970196\n",
      "Kosten: 0.31464196807346406\n",
      "Kosten: 0.3142933791691203\n",
      "Kosten: 0.3139460562623215\n",
      "Kosten: 0.31359999007727607\n",
      "Kosten: 0.3132551714642418\n",
      "Kosten: 0.3129115913970814\n",
      "Kosten: 0.31256924097087424\n",
      "Kosten: 0.3122281113995872\n",
      "Kosten: 0.31188819401379947\n",
      "Kosten: 0.3115494802584823\n",
      "Kosten: 0.3112119616908294\n",
      "Kosten: 0.31087562997813944\n",
      "Kosten: 0.31054047689574654\n",
      "Kosten: 0.3102064943249985\n",
      "Kosten: 0.3098736742512824\n",
      "Kosten: 0.3095420087620941\n",
      "Kosten: 0.30921149004515136\n",
      "Kosten: 0.3088821103865505\n",
      "Kosten: 0.3085538621689642\n",
      "Kosten: 0.30822673786987825\n",
      "Kosten: 0.3079007300598695\n",
      "Kosten: 0.30757583140092004\n",
      "Kosten: 0.30725203464476925\n",
      "Kosten: 0.30692933263130284\n",
      "Kosten: 0.30660771828697525\n",
      "Kosten: 0.30628718462326743\n",
      "Kosten: 0.30596772473517786\n",
      "Kosten: 0.30564933179974596\n",
      "Kosten: 0.30533199907460734\n",
      "Kosten: 0.3050157198965792\n",
      "Kosten: 0.30470048768027713\n",
      "Kosten: 0.30438629591676003\n",
      "Kosten: 0.3040731381722045\n",
      "Kosten: 0.3037610080866065\n",
      "Kosten: 0.3034498993725109\n",
      "Kosten: 0.3031398058137669\n",
      "Kosten: 0.3028307212643104\n",
      "Kosten: 0.30252263964697024\n",
      "Kosten: 0.30221555495230035\n",
      "Kosten: 0.3019094612374357\n",
      "Kosten: 0.3016043526249716\n",
      "Kosten: 0.3013002233018659\n",
      "Kosten: 0.3009970675183641\n",
      "Kosten: 0.30069487958694613\n",
      "Kosten: 0.3003936538812945\n",
      "Kosten: 0.30009338483528314\n",
      "Kosten: 0.299794066941987\n",
      "Kosten: 0.2994956947527121\n",
      "Kosten: 0.29919826287604445\n",
      "Kosten: 0.29890176597691726\n",
      "Kosten: 0.29860619877569855\n",
      "Kosten: 0.29831155604729637\n",
      "Kosten: 0.2980178326202807\n",
      "Kosten: 0.2977250233760244\n",
      "Kosten: 0.29743312324785964\n",
      "Kosten: 0.2971421272202528\n",
      "Kosten: 0.2968520303279936\n",
      "Kosten: 0.29656282765540176\n",
      "Kosten: 0.29627451433554813\n",
      "Kosten: 0.2959870855494924\n",
      "Kosten: 0.29570053652553363\n",
      "Kosten: 0.29541486253847704\n",
      "Kosten: 0.2951300589089152\n",
      "Kosten: 0.2948461210025211\n",
      "Kosten: 0.2945630442293574\n",
      "Kosten: 0.29428082404319733\n",
      "Kosten: 0.2939994559408594\n",
      "Kosten: 0.2937189354615541\n",
      "Kosten: 0.2934392581862448\n",
      "Kosten: 0.29316041973701784\n",
      "Kosten: 0.29288241577646856\n",
      "Kosten: 0.2926052420070955\n",
      "Kosten: 0.29232889417070773\n",
      "Kosten: 0.292053368047844\n",
      "Kosten: 0.29177865945720094\n",
      "Kosten: 0.2915047642550736\n",
      "Kosten: 0.2912316783348063\n",
      "Kosten: 0.2909593976262533\n",
      "Kosten: 0.2906879180952493\n",
      "Kosten: 0.29041723574309103\n",
      "Kosten: 0.29014734660602753\n",
      "Kosten: 0.2898782467547598\n",
      "Kosten: 0.2896099322939504\n",
      "Kosten: 0.28934239936174166\n",
      "Kosten: 0.28907564412928277\n",
      "Kosten: 0.288809662800266\n",
      "Kosten: 0.2885444516104709\n",
      "Kosten: 0.2882800068273173\n",
      "Kosten: 0.28801632474942573\n",
      "Kosten: 0.28775340170618724\n",
      "Kosten: 0.2874912340573397\n",
      "Kosten: 0.2872298181925524\n",
      "Kosten: 0.2869691505310178\n",
      "Kosten: 0.2867092275210513\n",
      "Kosten: 0.2864500456396982\n",
      "Kosten: 0.2861916013923465\n",
      "Kosten: 0.28593389131234814\n",
      "Kosten: 0.28567691196064604\n",
      "Kosten: 0.28542065992540877\n",
      "Kosten: 0.2851651318216709\n",
      "Kosten: 0.28491032429097896\n",
      "Kosten: 0.28465623400104656\n",
      "Kosten: 0.2844028576454122\n",
      "Kosten: 0.28415019194310537\n",
      "Kosten: 0.2838982336383176\n",
      "Kosten: 0.2836469795000793\n",
      "Kosten: 0.28339642632194295\n",
      "Kosten: 0.28314657092167084\n",
      "Kosten: 0.282897410140929\n",
      "Kosten: 0.282648940844986\n",
      "Kosten: 0.2824011599224172\n",
      "Kosten: 0.28215406428481404\n",
      "Kosten: 0.28190765086649855\n",
      "Kosten: 0.2816619166242421\n",
      "Kosten: 0.2814168585369899\n",
      "Kosten: 0.2811724736055895\n",
      "Kosten: 0.28092875885252444\n",
      "Kosten: 0.2806857113216516\n",
      "Kosten: 0.28044332807794436\n",
      "Kosten: 0.2802016062072384\n",
      "Kosten: 0.27996054281598376\n",
      "Kosten: 0.27972013503099896\n",
      "Kosten: 0.27948037999923103\n",
      "Kosten: 0.27924127488751826\n",
      "Kosten: 0.27900281688235823\n",
      "Kosten: 0.27876500318967823\n",
      "Kosten: 0.2785278310346103\n",
      "Kosten: 0.2782912976612702\n",
      "Kosten: 0.2780554003325394\n",
      "Kosten: 0.2778201363298513\n",
      "Kosten: 0.2775855029529803\n",
      "Kosten: 0.2773514975198347\n",
      "Kosten: 0.2771181173662531\n",
      "Kosten: 0.27688535984580354\n",
      "Kosten: 0.2766532223295869\n",
      "Kosten: 0.2764217022060421\n",
      "Kosten: 0.276190796880756\n",
      "Kosten: 0.2759605037762744\n",
      "Kosten: 0.2757308203319189\n",
      "Kosten: 0.27550174400360294\n",
      "Kosten: 0.2752732722636546\n",
      "Kosten: 0.27504540260063937\n",
      "Kosten: 0.2748181325191873\n",
      "Kosten: 0.2745914595398217\n",
      "Kosten: 0.27436538119879206\n",
      "Kosten: 0.2741398950479079\n",
      "Kosten: 0.27391499865437663\n",
      "Kosten: 0.2736906896006429\n",
      "Kosten: 0.27346696548423083\n",
      "Kosten: 0.273243823917589\n",
      "Kosten: 0.27302126252793724\n",
      "Kosten: 0.27279927895711653\n",
      "Kosten: 0.2725778708614398\n",
      "Kosten: 0.27235703591154703\n",
      "Kosten: 0.2721367717922605\n",
      "Kosten: 0.27191707620244376\n",
      "Kosten: 0.27169794685486187\n",
      "Kosten: 0.27147938147604406\n",
      "Kosten: 0.2712613778061488\n",
      "Kosten: 0.27104393359882933\n",
      "Kosten: 0.2708270466211039\n",
      "Kosten: 0.2706107146532253\n",
      "Kosten: 0.2703949354885531\n",
      "Kosten: 0.2701797069334297\n",
      "Kosten: 0.26996502680705464\n",
      "Kosten: 0.2697508929413638\n",
      "Kosten: 0.2695373031809087\n",
      "Kosten: 0.26932425538273863\n",
      "Kosten: 0.26911174741628313\n",
      "Kosten: 0.2688997771632379\n",
      "Kosten: 0.26868834251745\n",
      "Kosten: 0.2684774413848078\n",
      "Kosten: 0.2682670716831295\n",
      "Kosten: 0.26805723134205506\n",
      "Kosten: 0.26784791830293847\n",
      "Kosten: 0.2676391305187433\n",
      "Kosten: 0.26743086595393756\n",
      "Kosten: 0.26722312258439146\n",
      "Kosten: 0.26701589839727585\n",
      "Kosten: 0.2668091913909633\n",
      "Kosten: 0.26660299957492806\n",
      "Kosten: 0.2663973209696506\n",
      "Kosten: 0.26619215360652076\n",
      "Kosten: 0.26598749552774364\n",
      "Kosten: 0.2657833447862464\n",
      "Kosten: 0.26557969944558607\n",
      "Kosten: 0.2653765575798593\n",
      "Kosten: 0.2651739172736126\n",
      "Kosten: 0.26497177662175386\n",
      "Kosten: 0.26477013372946573\n",
      "Kosten: 0.2645689867121192\n",
      "Kosten: 0.2643683336951887\n",
      "Kosten: 0.2641681728141691\n",
      "Kosten: 0.263968502214492\n",
      "Kosten: 0.26376932005144504\n",
      "Kosten: 0.2635706244900913\n",
      "Kosten: 0.26337241370518916\n",
      "Kosten: 0.2631746858811147\n",
      "Kosten: 0.2629774392117836\n",
      "Kosten: 0.26278067190057525\n",
      "Kosten: 0.2625843821602569\n",
      "Kosten: 0.26238856821290885\n",
      "Kosten: 0.26219322828985203\n",
      "Kosten: 0.26199836063157345\n",
      "Kosten: 0.26180396348765644\n",
      "Kosten: 0.26161003511670805\n",
      "Kosten: 0.2614165737862904\n",
      "Kosten: 0.2612235777728504\n",
      "Kosten: 0.26103104536165217\n",
      "Kosten: 0.2608389748467096\n",
      "Kosten: 0.26064736453071896\n",
      "Kosten: 0.26045621272499403\n",
      "Kosten: 0.26026551774940015\n",
      "Kosten: 0.2600752779322907\n",
      "Kosten: 0.25988549161044294\n",
      "Kosten: 0.2596961571289956\n",
      "Kosten: 0.25950727284138686\n",
      "Kosten: 0.2593188371092928\n",
      "Kosten: 0.25913084830256716\n",
      "Kosten: 0.2589433047991811\n",
      "Kosten: 0.2587562049851644\n",
      "Kosten: 0.25856954725454634\n",
      "Kosten: 0.25838333000929914\n",
      "Kosten: 0.2581975516592789\n",
      "Kosten: 0.2580122106221709\n",
      "Kosten: 0.25782730532343223\n",
      "Kosten: 0.2576428341962379\n",
      "Kosten: 0.2574587956814252\n",
      "Kosten: 0.2572751882274398\n",
      "Kosten: 0.25709201029028284\n",
      "Kosten: 0.25690926033345785\n",
      "Kosten: 0.256726936827918\n",
      "Kosten: 0.2565450382520151\n",
      "Kosten: 0.25636356309144814\n",
      "Kosten: 0.25618250983921287\n",
      "Kosten: 0.25600187699555166\n",
      "Kosten: 0.2558216630679039\n",
      "Kosten: 0.25564186657085713\n",
      "Kosten: 0.25546248602609917\n",
      "Kosten: 0.255283519962369\n",
      "Kosten: 0.2551049669154103\n",
      "Kosten: 0.2549268254279244\n",
      "Kosten: 0.2547490940495234\n",
      "Kosten: 0.25457177133668474\n",
      "Kosten: 0.25439485585270527\n",
      "Kosten: 0.25421834616765654\n",
      "Kosten: 0.25404224085834026\n",
      "Kosten: 0.25386653850824387\n",
      "Kosten: 0.25369123770749713\n",
      "Kosten: 0.2535163370528292\n",
      "Kosten: 0.2533418351475253\n",
      "Kosten: 0.2531677306013845\n",
      "Kosten: 0.25299402203067806\n",
      "Kosten: 0.2528207080581079\n",
      "Kosten: 0.2526477873127653\n",
      "Kosten: 0.25247525843008994\n",
      "Kosten: 0.25230312005183025\n",
      "Kosten: 0.252131370826003\n",
      "Kosten: 0.251960009406854\n",
      "Kosten: 0.2517890344548187\n",
      "Kosten: 0.2516184446364838\n",
      "Kosten: 0.25144823862454857\n",
      "Kosten: 0.25127841509778676\n",
      "Kosten: 0.25110897274100924\n",
      "Kosten: 0.25093991024502604\n",
      "Kosten: 0.25077122630661036\n",
      "Kosten: 0.2506029196284608\n",
      "Kosten: 0.2504349889191661\n",
      "Kosten: 0.25026743289316833\n",
      "Kosten: 0.2501002502707278\n",
      "Kosten: 0.24993343977788765\n",
      "Kosten: 0.24976700014643843\n",
      "Kosten: 0.24960093011388443\n",
      "Kosten: 0.24943522842340787\n",
      "Kosten: 0.2492698938238363\n",
      "Kosten: 0.24910492506960794\n",
      "Kosten: 0.24894032092073834\n",
      "Kosten: 0.24877608014278776\n",
      "Kosten: 0.2486122015068279\n",
      "Kosten: 0.24844868378940888\n",
      "Kosten: 0.2482855257725279\n",
      "Kosten: 0.24812272624359666\n",
      "Kosten: 0.24796028399540954\n",
      "Kosten: 0.24779819782611276\n",
      "Kosten: 0.2476364665391721\n",
      "Kosten: 0.24747508894334316\n",
      "Kosten: 0.2473140638526398\n",
      "Kosten: 0.2471533900863046\n",
      "Kosten: 0.24699306646877778\n",
      "Kosten: 0.24683309182966756\n",
      "Kosten: 0.2466734650037212\n",
      "Kosten: 0.246514184830795\n",
      "Kosten: 0.24635525015582477\n",
      "Kosten: 0.24619665982879763\n",
      "Kosten: 0.24603841270472335\n",
      "Kosten: 0.2458805076436051\n",
      "Kosten: 0.24572294351041207\n",
      "Kosten: 0.24556571917505096\n",
      "Kosten: 0.24540883351233866\n",
      "Kosten: 0.2452522854019741\n",
      "Kosten: 0.24509607372851158\n",
      "Kosten: 0.24494019738133305\n",
      "Kosten: 0.24478465525462204\n",
      "Kosten: 0.2446294462473358\n",
      "Kosten: 0.24447456926317998\n",
      "Kosten: 0.24432002321058163\n",
      "Kosten: 0.2441658070026638\n",
      "Kosten: 0.2440119195572186\n",
      "Kosten: 0.24385835979668277\n",
      "Kosten: 0.24370512664811148\n",
      "Kosten: 0.2435522190431532\n",
      "Kosten: 0.2433996359180248\n",
      "Kosten: 0.24324737621348622\n",
      "Kosten: 0.24309543887481658\n"
     ]
    }
   ],
   "source": [
    "# print(X_train.shape)\n",
    "# exit()\n",
    "lr = 0.01\n",
    "w = np.zeros((1, 784)) # bei der NUll ist Steigung am größten->numerisch besser\n",
    "b = 1\n",
    "for i in range(0, 500):\n",
    "\n",
    "    dw = J_ableitung_w(w, b, X_train, y_train_4)\n",
    "    db = J_ableitung_b(w, b, X_train, y_train_4)\n",
    "\n",
    "    w = w - lr * dw\n",
    "    b = b - lr * db\n",
    "\n",
    "    cost = J(w, b, X_train, y_train_4)\n",
    "    print(\"Kosten: \" + str(cost))"
   ]
  },
  {
   "cell_type": "markdown",
   "id": "63d5b0cc-498a-48af-937d-eee1a039c978",
   "metadata": {},
   "source": [
    "## Modell Genauigkeit"
   ]
  },
  {
   "cell_type": "code",
   "execution_count": 118,
   "id": "4f3c94c2-aa89-490b-8d3a-9ea3df96f590",
   "metadata": {},
   "outputs": [
    {
     "name": "stdout",
     "output_type": "stream",
     "text": [
      "[[0.39484367 0.76805655 0.05357473 ... 0.41159468 0.03374264 0.30100604]]\n",
      "[0. 1. 0. ... 1. 0. 0.]\n"
     ]
    }
   ],
   "source": [
    "y_test_pred = f(w, b, X_test)# > 0.4  # 0.5 entspricht 50% Wahrscheinlichkeit, kann auch höher gesetzt werden, je nachdem wie sicher das Ergebnis sein soll\n",
    "print(y_test_pred)\n",
    "print(y_test_4)"
   ]
  },
  {
   "cell_type": "code",
   "execution_count": 126,
   "id": "4bbb9f3b-18b8-463a-9663-21c21c68ffc9",
   "metadata": {},
   "outputs": [
    {
     "name": "stdout",
     "output_type": "stream",
     "text": [
      "[[False  True False ... False False False]]\n",
      "[0. 1. 0. ... 1. 0. 0.]\n"
     ]
    }
   ],
   "source": [
    "y_test_pred = f(w, b, X_test) > 0.5\n",
    "print(y_test_pred)\n",
    "print(y_test_4)"
   ]
  },
  {
   "cell_type": "code",
   "execution_count": 127,
   "id": "240f5375-4aec-428d-a423-dc4ff7f76410",
   "metadata": {},
   "outputs": [
    {
     "name": "stdout",
     "output_type": "stream",
     "text": [
      "[False  True False ... False False False]\n"
     ]
    }
   ],
   "source": [
    "y_test_pred = y_test_pred.reshape(-1)\n",
    "print(y_test_pred)"
   ]
  },
  {
   "cell_type": "code",
   "execution_count": 128,
   "id": "9a8011c4-6b17-470e-97d8-e3f856876113",
   "metadata": {},
   "outputs": [
    {
     "name": "stdout",
     "output_type": "stream",
     "text": [
      "[0. 1. 0. ... 0. 0. 0.]\n",
      "(2720,)\n"
     ]
    }
   ],
   "source": [
    "y_test_pred=y_test_pred.astype(np.float32)\n",
    "print(y_test_pred)\n",
    "print(y_test_pred.shape)\n"
   ]
  },
  {
   "cell_type": "code",
   "execution_count": 129,
   "id": "2bf2f1af-b173-422c-b2d7-15458a704d03",
   "metadata": {},
   "outputs": [
    {
     "name": "stdout",
     "output_type": "stream",
     "text": [
      "0.9088235294117647\n"
     ]
    }
   ],
   "source": [
    "print(np.mean(y_test_4 == y_test_pred))"
   ]
  },
  {
   "cell_type": "markdown",
   "id": "67c23222-ea0f-4759-90aa-0ca1c305a295",
   "metadata": {},
   "source": [
    "**Hier wäre eine kleine Statistik schön: Wieviel Prozent macht eine Klasse am Datensatz aus.  \n",
    "was sagt die Genauigkeit aus? Wie gut ist das Modell eigentlich?**"
   ]
  },
  {
   "cell_type": "code",
   "execution_count": null,
   "id": "0afcacc6-0268-4940-b111-33813a363ed4",
   "metadata": {},
   "outputs": [],
   "source": []
  },
  {
   "cell_type": "markdown",
   "id": "ba861d77-41df-4e21-9649-ec965e349dc8",
   "metadata": {},
   "source": [
    "## Auswertung"
   ]
  },
  {
   "cell_type": "markdown",
   "id": "a5dea2fb-0d3c-4497-a812-69f039f0f102",
   "metadata": {},
   "source": [
    "**Hier die falsch erkannten Bilder groß Darstellen**"
   ]
  },
  {
   "cell_type": "code",
   "execution_count": null,
   "id": "e6b6fba8-e201-4b7b-929f-21c4469c20d6",
   "metadata": {},
   "outputs": [],
   "source": [
    "nrow = 5\n",
    "ncol = 5\n",
    "\n",
    "\n",
    "#fig = plt.figure(figsize=(ncol+1, nrow+1)) \n",
    "fig = plt.figure(figsize=(24, 24))\n",
    "\n",
    "im = 0\n",
    "for i in range(nrow):\n",
    "    for j in range(ncol):\n",
    "        # convert to unsigned integers\n",
    "        \n",
    "        ax= plt.subplot(gs[i,j])\n",
    "        ax.imshow(X_4_false[im,:,:,0].astype('uint8'),cmap='gray')\n",
    "        ax.set_xticklabels([])\n",
    "        ax.set_yticklabels([])\n",
    "        im +=1\n",
    "\n",
    "plt.show()"
   ]
  },
  {
   "cell_type": "code",
   "execution_count": 150,
   "id": "f5c1d156-7d7f-4c20-aa2b-9e2cb0837912",
   "metadata": {},
   "outputs": [
    {
     "ename": "AttributeError",
     "evalue": "'list' object has no attribute 'shape'",
     "output_type": "error",
     "traceback": [
      "\u001b[1;31m---------------------------------------------------------------------------\u001b[0m",
      "\u001b[1;31mAttributeError\u001b[0m                            Traceback (most recent call last)",
      "\u001b[1;32m~\\AppData\\Local\\Temp/ipykernel_19012/2691615757.py\u001b[0m in \u001b[0;36m<module>\u001b[1;34m\u001b[0m\n\u001b[1;32m----> 1\u001b[1;33m \u001b[0mX_4_false\u001b[0m\u001b[1;33m.\u001b[0m\u001b[0mshape\u001b[0m\u001b[1;31m#(-1,28,28,1)\u001b[0m\u001b[1;33m\u001b[0m\u001b[1;33m\u001b[0m\u001b[0m\n\u001b[0m",
      "\u001b[1;31mAttributeError\u001b[0m: 'list' object has no attribute 'shape'"
     ]
    }
   ],
   "source": [
    "X_4_false.shape#(-1,28,28,1)"
   ]
  },
  {
   "cell_type": "code",
   "execution_count": null,
   "id": "a8959e1e-d0b2-4355-abde-aefd08ea2902",
   "metadata": {},
   "outputs": [],
   "source": [
    "X_false = []\n",
    "y = []\n",
    "\n",
    "for features,label in image_dataset:\n",
    "    X_false.append(features)\n",
    "    y.append(label)\n",
    "\n",
    "X = np.array(X).reshape(-1, IMG_SIZE, IMG_SIZE, 1)"
   ]
  },
  {
   "cell_type": "code",
   "execution_count": 153,
   "id": "cde1c707-809c-4f14-ae09-0c24409f8010",
   "metadata": {},
   "outputs": [
    {
     "ename": "IndexError",
     "evalue": "list assignment index out of range",
     "output_type": "error",
     "traceback": [
      "\u001b[1;31m---------------------------------------------------------------------------\u001b[0m",
      "\u001b[1;31mIndexError\u001b[0m                                Traceback (most recent call last)",
      "\u001b[1;32m~\\AppData\\Local\\Temp/ipykernel_19012/3266068348.py\u001b[0m in \u001b[0;36m<module>\u001b[1;34m\u001b[0m\n\u001b[0;32m      5\u001b[0m     \u001b[1;31m# Welche Bilder wurden falsch als Torx erkannt?\u001b[0m\u001b[1;33m\u001b[0m\u001b[1;33m\u001b[0m\u001b[1;33m\u001b[0m\u001b[0m\n\u001b[0;32m      6\u001b[0m     \u001b[1;32mif\u001b[0m \u001b[0my_test_pred\u001b[0m\u001b[1;33m[\u001b[0m\u001b[0mi\u001b[0m\u001b[1;33m]\u001b[0m \u001b[1;33m==\u001b[0m \u001b[1;36m1\u001b[0m \u001b[1;32mand\u001b[0m \u001b[0my_test_4\u001b[0m\u001b[1;33m[\u001b[0m\u001b[0mi\u001b[0m\u001b[1;33m]\u001b[0m \u001b[1;33m==\u001b[0m \u001b[1;36m0\u001b[0m\u001b[1;33m:\u001b[0m\u001b[1;33m\u001b[0m\u001b[1;33m\u001b[0m\u001b[0m\n\u001b[1;32m----> 7\u001b[1;33m         \u001b[0mX_4_false\u001b[0m\u001b[1;33m[\u001b[0m\u001b[0mimgs\u001b[0m\u001b[1;33m]\u001b[0m\u001b[1;33m=\u001b[0m\u001b[0mnp\u001b[0m\u001b[1;33m.\u001b[0m\u001b[0masarray\u001b[0m\u001b[1;33m(\u001b[0m\u001b[0mX_test\u001b[0m\u001b[1;33m[\u001b[0m\u001b[0mi\u001b[0m\u001b[1;33m]\u001b[0m\u001b[1;33m.\u001b[0m\u001b[0mreshape\u001b[0m\u001b[1;33m(\u001b[0m\u001b[1;33m-\u001b[0m\u001b[1;36m1\u001b[0m\u001b[1;33m,\u001b[0m\u001b[1;36m28\u001b[0m\u001b[1;33m,\u001b[0m\u001b[1;36m28\u001b[0m\u001b[1;33m,\u001b[0m\u001b[1;36m1\u001b[0m\u001b[1;33m)\u001b[0m\u001b[1;33m)\u001b[0m\u001b[1;33m\u001b[0m\u001b[1;33m\u001b[0m\u001b[0m\n\u001b[0m\u001b[0;32m      8\u001b[0m         \u001b[0mplt\u001b[0m\u001b[1;33m.\u001b[0m\u001b[0mimshow\u001b[0m\u001b[1;33m(\u001b[0m\u001b[0mX_test\u001b[0m\u001b[1;33m[\u001b[0m\u001b[0mi\u001b[0m\u001b[1;33m]\u001b[0m\u001b[1;33m.\u001b[0m\u001b[0mreshape\u001b[0m\u001b[1;33m(\u001b[0m\u001b[1;36m28\u001b[0m\u001b[1;33m,\u001b[0m\u001b[1;36m28\u001b[0m\u001b[1;33m)\u001b[0m\u001b[1;33m,\u001b[0m\u001b[0mcmap\u001b[0m\u001b[1;33m=\u001b[0m\u001b[1;34m'gray'\u001b[0m\u001b[1;33m)\u001b[0m\u001b[1;33m\u001b[0m\u001b[1;33m\u001b[0m\u001b[0m\n\u001b[0;32m      9\u001b[0m         \u001b[0mplt\u001b[0m\u001b[1;33m.\u001b[0m\u001b[0mshow\u001b[0m\u001b[1;33m(\u001b[0m\u001b[1;33m)\u001b[0m\u001b[1;33m\u001b[0m\u001b[1;33m\u001b[0m\u001b[0m\n",
      "\u001b[1;31mIndexError\u001b[0m: list assignment index out of range"
     ]
    }
   ],
   "source": [
    "# Falsch vorhergesagte Bilder anzeigen\n",
    "imgs=0\n",
    "\n",
    "for i in range(0, len(X_test)):\n",
    "    # Welche Bilder wurden falsch als Torx erkannt?\n",
    "    if y_test_pred[i] == 1 and y_test_4[i] == 0:\n",
    "        X_4_false=np.asarray(X_test[i].reshape(-1,28,28,1))\n",
    "        plt.imshow(X_test[i].reshape(28,28),cmap='gray')\n",
    "        plt.show()\n",
    "        print(i)\n",
    "        imgs=imgs + 1\n",
    "        print(imgs)\n",
    "\n",
    "print(imgs)"
   ]
  },
  {
   "cell_type": "markdown",
   "id": "03361857-3765-48ea-8262-4f99b14c1256",
   "metadata": {},
   "source": [
    "## Testvorhersage"
   ]
  },
  {
   "cell_type": "markdown",
   "id": "3e17e479-ec1b-4cfd-a77b-774587e92d11",
   "metadata": {},
   "source": [
    "**Die Log.Reg. funktioniert aber ist nicht sehr leistungsfähig,  \n",
    "deshalb geht es nun mit Neuronalen Netzen weiter**"
   ]
  },
  {
   "cell_type": "code",
   "execution_count": null,
   "id": "cfb2379b-6c8a-4385-b2a8-ef9b9e020c4b",
   "metadata": {},
   "outputs": [],
   "source": []
  }
 ],
 "metadata": {
  "kernelspec": {
   "display_name": "Python 3 (ipykernel)",
   "language": "python",
   "name": "python3"
  },
  "language_info": {
   "codemirror_mode": {
    "name": "ipython",
    "version": 3
   },
   "file_extension": ".py",
   "mimetype": "text/x-python",
   "name": "python",
   "nbconvert_exporter": "python",
   "pygments_lexer": "ipython3",
   "version": "3.7.11"
  }
 },
 "nbformat": 4,
 "nbformat_minor": 5
}