{
 "cells": [
  {
   "cell_type": "markdown",
   "id": "28c13b31-e6cd-4dac-af17-4a54a123d45b",
   "metadata": {},
   "source": [
    "# Bilder Datensatz erstellen"
   ]
  },
  {
   "cell_type": "markdown",
   "id": "23fd5f7d-e3bc-4581-9929-f8afd6c0ed06",
   "metadata": {},
   "source": []
  },
  {
   "cell_type": "markdown",
   "id": "b9db0f80-e7e4-413d-b4e7-8b48bdefeedc",
   "metadata": {},
   "source": [
    "Hier ist ein **[Link](https://towardsdatascience.com/how-do-you-know-you-have-enough-training-data-ad9b1fd679ee)**.\n",
    "\n",
    "Das Bild der Schraube stammt aus einem Video, welches mit einem Iphone 12 pro aufgenommen wurde. \n",
    "Die Aufnahme ist sehr detailreich, das Pozidriv Profil sowie auch Beschädigungen, \n",
    "Rost und Ablagerungen auf der Oberfläche, sind gut zu erkennen.\n",
    "Nachdem wir die Videos aufgenommen haben und die Softwareumgebung installiert ist, \n",
    "beginnen wir mit dem Python Programm zum Extrahieren von Bildern aus Videos:"
   ]
  },
  {
   "cell_type": "markdown",
   "id": "def831b2-ec17-457b-9fa4-79c54293cc7f",
   "metadata": {},
   "source": [
    ":::{note}\n",
    "Es stellt sich die Frage wie detailreich die Schraubenbilder sein müssen um eine gute Erkennung zu ermöglichen?\n",
    ":::"
   ]
  },
  {
   "cell_type": "markdown",
   "id": "08a7487b-fac7-4321-9b78-636886d59537",
   "metadata": {},
   "source": [
    "## Extracting and Saving Video Frames using OpenCV-Python"
   ]
  },
  {
   "cell_type": "code",
   "execution_count": null,
   "id": "25ce24d9-4b7c-47dc-88a4-da9c7310528a",
   "metadata": {},
   "outputs": [],
   "source": [
    "# OpenCV importieren:\n",
    "\n",
    "import cv2\n",
    "\n",
    "\n",
    "\n",
    "# path = 'relativer Speicherpfad / Dateiname':\n",
    "\n",
    "path = 'pozi/pozi'\n",
    "\n",
    "\n",
    "\n",
    "# Video laden:\n",
    "\n",
    "cap = cv2.VideoCapture('pozi.MOV')\n",
    "i = 0\n",
    "\n",
    "\n",
    "# Prüfen ob ein Video geladen wurde:\n",
    "\n",
    "if cap.isOpened() == False:\n",
    "    print('ERROR: Datei nicht gefunden')\n",
    "\n",
    "    \n",
    "    \n",
    "# Die Frames des Videos lesen:    \n",
    "    \n",
    "while(cap.isOpened()):\n",
    "    ret, frame = cap.read()\n",
    "     \n",
    "    # sobald keine Frames mehr gelesen werden können (ret==False) wird abgebrochen:\n",
    "    if ret == False:\n",
    "        break\n",
    "     \n",
    "    # Die Frames speichern\n",
    "    cv2.imwrite(path+str(i)+'.jpg', frame)\n",
    "    i += 1\n",
    " \n",
    "\n",
    "cap.release()\n",
    "cv.destroyAllWindows()"
   ]
  },
  {
   "cell_type": "markdown",
   "id": "a855808b-fd39-47e9-9b7d-2178cd9f05ed",
   "metadata": {},
   "source": [
    "### Resize Image"
   ]
  },
  {
   "cell_type": "code",
   "execution_count": null,
   "id": "ba713e0f-2edd-41fb-98c2-1f98d4385117",
   "metadata": {},
   "outputs": [],
   "source": [
    "import cv2\n",
    "\n",
    "img = cv2.imread('pozi/pozi800.jpg', cv2.IMREAD_UNCHANGED)\n",
    "\n",
    "print('Original Dimensions : ',img.shape)\n",
    "\n",
    "scale_percent = 50 # percent of original size\n",
    "width = int(img.shape[1] * scale_percent / 100)\n",
    "height = int(img.shape[0] * scale_percent / 100)\n",
    "dim = (width, height)\n",
    "\n",
    "#resize image\n",
    "resized = cv2.resize(img, dim, interpolation = cv2.INTER_AREA)\n",
    "\n",
    "print('Resized Dimensions : ',resized.shape)\n",
    "\n",
    "cv2.imshow(\"Resized image\", resized)\n",
    "cv2.waitKey(0)\n",
    "cv2.destroyAllWindows()"
   ]
  },
  {
   "cell_type": "code",
   "execution_count": null,
   "id": "0c0ae237-4146-46ec-bb3d-81065e8b93d8",
   "metadata": {},
   "outputs": [],
   "source": []
  },
  {
   "cell_type": "code",
   "execution_count": null,
   "id": "882271d7-1abb-45f1-83b6-53014f5d8bd7",
   "metadata": {},
   "outputs": [],
   "source": []
  },
  {
   "cell_type": "markdown",
   "id": "1c781864-1ceb-4d6d-ac1d-079b0e3cffa8",
   "metadata": {},
   "source": []
  },
  {
   "cell_type": "code",
   "execution_count": null,
   "id": "9ba76a88-5eaa-4e78-a9bb-41d1d2f467b1",
   "metadata": {},
   "outputs": [],
   "source": []
  },
  {
   "cell_type": "code",
   "execution_count": null,
   "id": "01609d42-bbac-40b5-82fc-43b3bff5ff38",
   "metadata": {},
   "outputs": [],
   "source": []
  },
  {
   "cell_type": "code",
   "execution_count": 1,
   "id": "b9e95308-5158-40fd-bb30-d1ed570c665c",
   "metadata": {},
   "outputs": [
    {
     "data": {
      "text/plain": [
       "'C:\\\\Users\\\\Martin\\\\OneDrive\\\\Masterthesis_2022\\\\01_Dataset'"
      ]
     },
     "execution_count": 1,
     "metadata": {},
     "output_type": "execute_result"
    }
   ],
   "source": [
    "pwd"
   ]
  },
  {
   "cell_type": "markdown",
   "id": "b5c26d2a-3873-4ac1-85a8-93087feb940a",
   "metadata": {},
   "source": [
    "Der Datensatz dient zum Trainieren und Testen der künstlichen neuronalen Netze. Es gibt verschiedene Wege einen Datensatz von Schraubenbildern zu erzeugen:\n",
    " - virtuelle 3D Objekte mit Hilfe von CAD darstellen und daraus Bilder mit unterschiedlichen Ausrichtungen erzeugen\n",
    " - Schraubenbilder aus Herstellerkatalogen oder dem Internet extrahieren\n",
    " - Eigene Bilder mit einer Kamera anfertigen\n",
    "\n",
    "In dieser Arbeit werden die letzteren beiden Varianten vorgestellt. Zunächst wird gezeigt, wie aus wenigen externen Bidern ein Datensatz künstlich erzeugt werden kann. Dieser künstlich erzeugte Daten besteht aus sehr wenigen Ursprungsbildern, die künstlich transformiert werden um somit weitere Bilder zu generieren. Die Transformation wird im Abschnitt \"Datensatz aus wenigen Bildern\" noch näher beschrieben."
   ]
  },
  {
   "cell_type": "markdown",
   "id": "843355f6-a66d-4864-84c7-3ea669ff2b0c",
   "metadata": {},
   "source": [
    "## Datensatz aus wenigen Bildern"
   ]
  },
  {
   "cell_type": "markdown",
   "id": "9fcdd957-fc6e-4f1a-8150-de0fac9e61cd",
   "metadata": {},
   "source": [
    "Dieser Erste Datensatz dient dazu, zu zeigen wie vorhandene Bilder künstlich leichten Veränderungen unterzogen werden können um somit dem Netz einen umfangreicheren Trainingssatz bereit zu stellen. Desweiteren werden in diesem künstlichen Datensatz lediglich verschiedene Schraubenkopfformen mit gleicher Ausrichtung verwendet. Die Folge ist ein Datensatz, der einfach genug ist um Regressionsmodelle zu Einstieg zu verwenden."
   ]
  },
  {
   "cell_type": "markdown",
   "id": "c1eecd84-1115-4dee-9696-506ab08818ac",
   "metadata": {},
   "source": [
    "Als Einführung in das Thema Bilderkennung mit CNN's, wird eine einfache Bilderkennung mit Hilfe der Logistischen Regression erstellt. Die Log. Regr. ist sehr viel weniger leistungsfähig als ein CNN, aus diesem Grund wird ein einfacher Datensatz aus Symbol-Bildern von 5 Schraubenarten erstellt."
   ]
  },
  {
   "cell_type": "code",
   "execution_count": 5,
   "id": "94b5be02-6673-48b5-bece-011af446dd5f",
   "metadata": {},
   "outputs": [],
   "source": [
    "# importieren der Matplotlib\n",
    "import matplotlib.pyplot as plt\n",
    "import matplotlib.image as mpimg\n",
    "%matplotlib inline"
   ]
  },
  {
   "cell_type": "code",
   "execution_count": 186,
   "id": "3cb758d5-90e5-4def-b908-3fee794fb198",
   "metadata": {},
   "outputs": [
    {
     "data": {
      "image/png": "[encoded data removed]",
      "text/plain": [
       "<Figure size 432x288 with 1 Axes>"
      ]
     },
     "metadata": {
      "needs_background": "light"
     },
     "output_type": "display_data"
    }
   ],
   "source": [
    "pozidriv = mpimg.imread('ImageDataset_folder/pozidriv 28x28_gray.jpg')\n",
    "pozidriv = plt.imshow(pozidriv,cmap='gray')"
   ]
  },
  {
   "cell_type": "code",
   "execution_count": 187,
   "id": "c52e848e-51e8-49ee-876a-73fa4448b29e",
   "metadata": {},
   "outputs": [
    {
     "data": {
      "image/png": "[encoded data removed]",
      "text/plain": [
       "<Figure size 432x288 with 1 Axes>"
      ]
     },
     "metadata": {
      "needs_background": "light"
     },
     "output_type": "display_data"
    }
   ],
   "source": [
    "philips = mpimg.imread('ImageDataset_folder/philips 28x28_gray.jpg')\n",
    "philips = plt.imshow(philips,cmap='gray')"
   ]
  },
  {
   "cell_type": "code",
   "execution_count": 184,
   "id": "e902b6ae-c00f-44c0-867e-9eeb523496f0",
   "metadata": {},
   "outputs": [
    {
     "data": {
      "image/png": "[encoded data removed]",
      "text/plain": [
       "<Figure size 432x288 with 1 Axes>"
      ]
     },
     "metadata": {
      "needs_background": "light"
     },
     "output_type": "display_data"
    }
   ],
   "source": [
    "innensechskant = mpimg.imread('ImageDataset_folder/innensechskant 28x28_gray.png')\n",
    "innensechskant = plt.imshow(innensechskant,cmap='gray')"
   ]
  },
  {
   "cell_type": "code",
   "execution_count": 188,
   "id": "9f3f9b4f-6322-41f1-ad3a-18bb4ce0e5f1",
   "metadata": {},
   "outputs": [
    {
     "data": {
      "image/png": "[encoded data removed]",
      "text/plain": [
       "<Figure size 432x288 with 1 Axes>"
      ]
     },
     "metadata": {
      "needs_background": "light"
     },
     "output_type": "display_data"
    }
   ],
   "source": [
    "sechskant = mpimg.imread('ImageDataset_folder/sechskant 28x28_gray.jpg')\n",
    "sechskant = plt.imshow(sechskant,cmap='gray')"
   ]
  },
  {
   "cell_type": "code",
   "execution_count": 189,
   "id": "3a2541a6-4c98-4464-a0f9-61a0fe8ff337",
   "metadata": {
    "tags": []
   },
   "outputs": [
    {
     "data": {
      "image/png": "[encoded data removed]",
      "text/plain": [
       "<Figure size 432x288 with 1 Axes>"
      ]
     },
     "metadata": {
      "needs_background": "light"
     },
     "output_type": "display_data"
    }
   ],
   "source": [
    "torx = mpimg.imread('ImageDataset_folder/torx 28x28_gray.jpg')\n",
    "torx = plt.imshow(torx,cmap='gray')"
   ]
  },
  {
   "cell_type": "code",
   "execution_count": null,
   "id": "d11c7985-0c6c-447e-beda-d432a6549d6f",
   "metadata": {},
   "outputs": [],
   "source": []
  },
  {
   "cell_type": "markdown",
   "id": "a1fbb147-7bf3-427c-a345-d16a405d4506",
   "metadata": {},
   "source": [
    "Aus diesen Bildern wird nun ein Datensatz erzeugt. Die Bilder werden mit Hilfe des \"Image Data Generators\" transformiert, d.h durch Rotation, Zoom, Verschiebung werden neue Varianten der Bilder generiert."
   ]
  },
  {
   "cell_type": "code",
   "execution_count": null,
   "id": "d0a25315-d970-4ea7-b994-1da8397b6b9f",
   "metadata": {},
   "outputs": [],
   "source": []
  },
  {
   "cell_type": "code",
   "execution_count": 3,
   "id": "887970d1-a90f-450d-b086-cb3cd38a77d7",
   "metadata": {},
   "outputs": [
    {
     "name": "stdout",
     "output_type": "stream",
     "text": [
      "(5, 28, 28)\n",
      "5\n",
      "(5, 28, 28, 1)\n"
     ]
    }
   ],
   "source": [
    "import glob\n",
    "import numpy as np\n",
    "from PIL import Image\n",
    "filelist = glob.glob(\"screwhead_img_for_gen/**/*\")\n",
    "X_raw = np.array([np.array(Image.open(fname)) for fname in filelist])\n",
    "print(X_raw.shape)\n",
    "print(len(filelist))\n",
    "\n",
    "# Array erweitern\n",
    "X_raw = X_raw.reshape(X_raw.shape + (1,))\n",
    "print(X_raw.shape)"
   ]
  },
  {
   "cell_type": "markdown",
   "id": "09368b6b-233d-4915-8d38-f5d977f4f184",
   "metadata": {},
   "source": [
    "## Labels erzeugen"
   ]
  },
  {
   "cell_type": "markdown",
   "id": "bdb93aa7-cd96-49af-9343-8921a66240fa",
   "metadata": {},
   "source": [
    "Das Bilder Array **X_raw** wurde nun erstellt. Nun müssen noch die zugehörigen *Labels* erzeugt werden.\n",
    "\n",
    "Folgende Ausgangssituationen sollen untersucht werden:\n",
    "  1. Alle Bilder liegen in einem Ordner und jedes Bild besitzt Klassenname und Nummerierung im Dateinamen\n",
    "  2. Jede Klasse in einem eigenen Ordner, Dateinamen benötigen lediglich eine fortlaufende Nummerierung\n"
   ]
  },
  {
   "cell_type": "markdown",
   "id": "56ba1f69-ee13-4089-bc9a-7d9b764c89a7",
   "metadata": {},
   "source": [
    "### Alle Bilder in einem Ordner"
   ]
  },
  {
   "cell_type": "markdown",
   "id": "feed2e21-e559-47bf-afc0-034d9cc917fb",
   "metadata": {},
   "source": [
    "Die Labelliste muss dem Image-Array korrekt zugeordnet werden. Dafür müssen Bilder und zugehörige Labels in gleicher Reihenfolge abgespeichert werden."
   ]
  },
  {
   "cell_type": "code",
   "execution_count": 7,
   "id": "b3b9dee7-4441-4968-b7e7-9831e0eafcba",
   "metadata": {},
   "outputs": [
    {
     "name": "stdout",
     "output_type": "stream",
     "text": [
      "['innensechskant', 'philips', 'pozidriv', 'sechskant', 'torx']\n"
     ]
    }
   ],
   "source": [
    "import os\n",
    "path = \"ImageDataset_folder\"\n",
    "categories_raw = []  \n",
    "for img in os.listdir(path):  # hole mir die Bezeichnung aus dem Dateinamen des Bildes, teile den Dateinamen am Leerzeichen (\" \") und nutze den Klassennamen als Label\n",
    "    if img.startswith(\"innensechskant\"):\n",
    "        category_, rand_str = img.split(' ') # teile auf in \"innensechskant\" und \"28x28_gray\"\n",
    "        categories_raw.append(category_)# erweitere die Labelliste mit \"innensechskant\"\n",
    "            \n",
    "for img in os.listdir(path):  # iterate over each image per Categorie\n",
    "    if img.startswith(\"philips\"):\n",
    "        category_, rand_str = img.split(' ')\n",
    "        categories_raw.append(category_)\n",
    "            \n",
    "for img in os.listdir(path):  # iterate over each image per Categorie\n",
    "    if img.startswith(\"pozidriv\"):\n",
    "        category_, rand_str = img.split(' ')\n",
    "        categories_raw.append(category_)\n",
    "            \n",
    "for img in os.listdir(path):  # iterate over each image per Categorie\n",
    "    if img.startswith(\"sechskant\"):\n",
    "        category_, rand_str = img.split(' ')\n",
    "        categories_raw.append(category_)\n",
    "            \n",
    "for img in os.listdir(path):  # iterate over each image per Categorie\n",
    "    if img.startswith(\"torx\"):\n",
    "        category_, rand_str = img.split(' ')\n",
    "        categories_raw.append(category_)\n",
    "        \n",
    "y_raw=categories_raw\n",
    "print(y_raw)"
   ]
  },
  {
   "cell_type": "markdown",
   "id": "baab96a8-9faa-4fe4-9331-6513a2e5e121",
   "metadata": {},
   "source": []
  },
  {
   "cell_type": "code",
   "execution_count": 8,
   "id": "dc4dde46-c73a-4990-8e47-63513222fef7",
   "metadata": {},
   "outputs": [
    {
     "name": "stdout",
     "output_type": "stream",
     "text": [
      "sechskant\n"
     ]
    },
    {
     "data": {
      "text/plain": [
       "<function matplotlib.pyplot.show(close=None, block=None)>"
      ]
     },
     "execution_count": 8,
     "metadata": {},
     "output_type": "execute_result"
    },
    {
     "data": {
      "image/png": "[encoded data removed]",
      "text/plain": [
       "<Figure size 432x288 with 1 Axes>"
      ]
     },
     "metadata": {
      "needs_background": "light"
     },
     "output_type": "display_data"
    }
   ],
   "source": [
    "# Label Test\n",
    "i=3\n",
    "print(y_raw[i])\n",
    "plt.imshow(X_raw[i],cmap='gray')\n",
    "plt.show"
   ]
  },
  {
   "cell_type": "code",
   "execution_count": 17,
   "id": "b9047fe0-36f7-470a-b478-b37479d29b19",
   "metadata": {},
   "outputs": [
    {
     "data": {
      "image/png": "[encoded data removed]",
      "text/plain": [
       "<Figure size 432x288 with 5 Axes>"
      ]
     },
     "metadata": {
      "needs_background": "light"
     },
     "output_type": "display_data"
    }
   ],
   "source": [
    "from matplotlib import pyplot\n",
    "\n",
    "for i in range(5):\n",
    "# define subplot\n",
    "    pyplot.subplot(330 + 1 + i)\n",
    "\t# plot raw pixel data\n",
    "    pyplot.imshow(X_raw[i],cmap='gray')\n",
    "# show the figure\n",
    "pyplot.show()"
   ]
  },
  {
   "cell_type": "markdown",
   "id": "a2c6a8de-5416-459f-9a7a-2dd1c0f26011",
   "metadata": {},
   "source": [
    "### Bilderklassen in separatem Ordner"
   ]
  },
  {
   "cell_type": "markdown",
   "id": "21dde680-04b3-4073-bfcf-0647fba0e768",
   "metadata": {},
   "source": [
    "Die folgende Ordnerstruktur liegt vor:\n",
    "\n",
    "main_directory/  \n",
    "...category_a/  \n",
    "......a_image_1.jpg  \n",
    "......a_image_2.jpg  \n",
    "...category_b/  \n",
    "......b_image_1.jpg  \n",
    "......b_image_2.jpg  "
   ]
  },
  {
   "cell_type": "markdown",
   "id": "ffbb5123-83f1-46c0-b826-b07b8e6c2b6b",
   "metadata": {},
   "source": []
  },
  {
   "cell_type": "code",
   "execution_count": null,
   "id": "329b5178-1740-4656-9c5f-eb57e6475a43",
   "metadata": {},
   "outputs": [],
   "source": [
    "import numpy as np\n",
    "import matplotlib.pyplot as plt\n",
    "import os\n",
    "import cv2\n",
    "from tqdm import tqdm\n",
    "\n",
    "DATADIR = 'C:/Users/Martin/OneDrive/Masterthesis_2022/01_Bilderdatenbank/ImageDataset_Classes'\n",
    "\n",
    "CATEGORIES = ['innensechskant', 'philips', 'pozidriv', 'sechskant', 'torx']\n",
    "\n",
    "for category in CATEGORIES:  # do dogs and cats\n",
    "    path = os.path.join(DATADIR,category)  # create path to dogs and cats\n",
    "    for img in os.listdir(path):  # iterate over each image per dogs and cats\n",
    "        img_array = cv2.imread(os.path.join(path,img))\n",
    "        plt.imshow(img_array, cmap='gray')  # graph it\n",
    "        plt.show()  # display!\n",
    "\n",
    "        break  # we just want one for now so break  \n",
    "    break"
   ]
  },
  {
   "cell_type": "code",
   "execution_count": null,
   "id": "3ae58436-9a7a-47a7-90ea-146d7d070576",
   "metadata": {},
   "outputs": [],
   "source": [
    "training_data = []\n",
    "IMG_SIZE=28\n",
    "def create_training_data():\n",
    "    for category in CATEGORIES:  # do dogs and cats\n",
    "\n",
    "        path = os.path.join(DATADIR,category)  # create path to dogs and cats\n",
    "        class_num = CATEGORIES.index(category)  # get the classification  (0 or a 1). 0=dog 1=cat\n",
    "\n",
    "        for img in tqdm(os.listdir(path)):  # iterate over each image per dogs and cats\n",
    "            try:\n",
    "                img_array = cv2.imread(os.path.join(path,img) ,cv2.IMREAD_GRAYSCALE)  # convert to array\n",
    "                new_array = cv2.resize(img_array, (IMG_SIZE, IMG_SIZE))  # resize to normalize data size\n",
    "                training_data.append([new_array, class_num])  # add this to our training_data\n",
    "            except Exception as e:  # in the interest in keeping the output clean...\n",
    "                pass\n",
    "            #except OSError as e:\n",
    "            #    print(\"OSErrroBad img most likely\", e, os.path.join(path,img))\n",
    "            #except Exception as e:\n",
    "            #    print(\"general exception\", e, os.path.join(path,img))\n",
    "\n",
    "create_training_data()\n",
    "\n",
    "print(len(training_data))"
   ]
  },
  {
   "cell_type": "code",
   "execution_count": null,
   "id": "97dc3732-c9aa-466c-a076-52ee363733fd",
   "metadata": {},
   "outputs": [],
   "source": [
    "training_data[0].shape"
   ]
  },
  {
   "cell_type": "code",
   "execution_count": null,
   "id": "a0e52eec-bc09-4209-9fc5-8892da1a7a4e",
   "metadata": {},
   "outputs": [],
   "source": [
    "nrow = len(training_data)\n",
    "ncol = len(training_data[0])\n",
    "print('Reihen :', nrow)\n",
    "print('Spalten :', ncol)"
   ]
  },
  {
   "cell_type": "code",
   "execution_count": null,
   "id": "49632ab8-b783-4760-8f25-f3a86362be25",
   "metadata": {},
   "outputs": [],
   "source": [
    "nrow"
   ]
  },
  {
   "cell_type": "code",
   "execution_count": null,
   "id": "c8c7c578-197d-4c9b-96a8-8878ff5bd7b7",
   "metadata": {},
   "outputs": [],
   "source": [
    "ncol"
   ]
  },
  {
   "cell_type": "code",
   "execution_count": null,
   "id": "7217bc83-6b2b-485f-b064-0903822955d0",
   "metadata": {},
   "outputs": [],
   "source": [
    "for sample in training_data[:50]:\n",
    "    print(sample[1])"
   ]
  },
  {
   "cell_type": "code",
   "execution_count": null,
   "id": "dbc2a09e-22ef-4e46-af86-d18b0ea30e08",
   "metadata": {},
   "outputs": [],
   "source": [
    "X = []\n",
    "y = []\n",
    "\n",
    "for features,label in training_data:\n",
    "    X.append(features)\n",
    "    y.append(label)\n",
    "\n",
    "print(X[0].reshape(-1, IMG_SIZE, IMG_SIZE, 1))\n",
    "\n",
    "X = np.array(X).reshape(-1, IMG_SIZE, IMG_SIZE, 1)"
   ]
  },
  {
   "cell_type": "code",
   "execution_count": 179,
   "id": "747e381c-17d4-41f4-b490-df686f5c5b78",
   "metadata": {},
   "outputs": [
    {
     "data": {
      "text/plain": [
       "(55, 28, 28, 1)"
      ]
     },
     "execution_count": 179,
     "metadata": {},
     "output_type": "execute_result"
    }
   ],
   "source": [
    "X.shape"
   ]
  },
  {
   "cell_type": "code",
   "execution_count": 181,
   "id": "f29e0fdc-5be5-4584-aca8-95175396afb1",
   "metadata": {},
   "outputs": [
    {
     "data": {
      "text/plain": [
       "55"
      ]
     },
     "execution_count": 181,
     "metadata": {},
     "output_type": "execute_result"
    }
   ],
   "source": [
    "len(y)"
   ]
  },
  {
   "cell_type": "code",
   "execution_count": 182,
   "id": "c6770523-55f3-4601-a442-80e58a6eb6fe",
   "metadata": {},
   "outputs": [
    {
     "data": {
      "text/plain": [
       "(28, 28, 1)"
      ]
     },
     "execution_count": 182,
     "metadata": {},
     "output_type": "execute_result"
    }
   ],
   "source": [
    "X[0].shape"
   ]
  },
  {
   "cell_type": "markdown",
   "id": "9c61c01b-1375-4a40-aeea-f91799c0c62b",
   "metadata": {},
   "source": [
    "### Datensatz mit Keras erzeugen und erweitern"
   ]
  },
  {
   "cell_type": "markdown",
   "id": "6a8b9ece-9f24-4f6e-8ef1-f9a4a77414f1",
   "metadata": {},
   "source": [
    "Mit dem ImageDataGenerator aus dem Keras Paket *Image data preprocessing*, kann ein Datensatz erstellt werden.\n",
    "Der Image Data Generator bietet eine Reihe nützlicher Funktionen um einen Datensatz aus Bildern zu erstellen und zu erweitern."
   ]
  },
  {
   "cell_type": "code",
   "execution_count": 190,
   "id": "b394aa26-75c2-4b4e-a760-c26e581e254f",
   "metadata": {},
   "outputs": [],
   "source": [
    "import tensorflow as tf\n",
    "from tensorflow import keras"
   ]
  },
  {
   "cell_type": "code",
   "execution_count": 191,
   "id": "65e88808-5458-4b1b-a41a-d577d3bdb0ef",
   "metadata": {},
   "outputs": [
    {
     "name": "stdout",
     "output_type": "stream",
     "text": [
      "Found 57 files belonging to 5 classes.\n",
      "Using 14 files for validation.\n"
     ]
    }
   ],
   "source": [
    "X = tf.keras.preprocessing.image_dataset_from_directory(\n",
    "    'ImageDataset_Classes',\n",
    "    labels=\"inferred\",\n",
    "    label_mode=\"int\",\n",
    "    class_names=None,\n",
    "    color_mode=\"grayscale\",\n",
    "    batch_size=32,\n",
    "    image_size=(28, 28),\n",
    "    shuffle=True,\n",
    "    seed=123,\n",
    "    validation_split=0.25,\n",
    "    subset=\"validation\",\n",
    "    interpolation=\"bilinear\",\n",
    "    follow_links=False,\n",
    ")"
   ]
  },
  {
   "cell_type": "code",
   "execution_count": 192,
   "id": "81d92cee-9c87-4c55-8e08-be5d454f60ea",
   "metadata": {},
   "outputs": [
    {
     "name": "stdout",
     "output_type": "stream",
     "text": [
      "['innensechskant', 'philips', 'pozidriv', 'sechskant', 'torx']\n"
     ]
    }
   ],
   "source": [
    "class_names = X.class_names\n",
    "print(class_names)"
   ]
  },
  {
   "cell_type": "markdown",
   "id": "cc1240f6-6345-436c-8958-b44b50d711bf",
   "metadata": {},
   "source": [
    "## Generator ausprobieren und konfigurieren:"
   ]
  },
  {
   "cell_type": "code",
   "execution_count": null,
   "id": "f8cc4f65-9a3f-4e96-b54e-9e6af18dfa4f",
   "metadata": {},
   "outputs": [],
   "source": [
    "#Generator config:\n",
    "gen = ImageDataGenerator (\n",
    "    width_shift_range=2,\n",
    "    height_shift_range=2,\n",
    "    rotation_range=10,\n",
    "    #shear_range=0.01,\n",
    "    #zoom_range=0.2,\n",
    "    fill_mode='constant',cval=255 # beste fill mode bei einfarbigen Hintergrund\n",
    ")\n",
    "# generate one image:\n",
    "for batch in gen.flow(\n",
    "    X_raw,\n",
    "    shuffle=False,\n",
    "):\n",
    "    #print(batch.shape)\n",
    "    plt.imshow(batch[0],cmap='gray',vmin=0,vmax=255)\n",
    "    plt.show\n",
    "    break\n",
    "    \n",
    "print(batch.shape)"
   ]
  },
  {
   "cell_type": "code",
   "execution_count": null,
   "id": "32ad720a-0a37-4813-b954-281abe554114",
   "metadata": {},
   "outputs": [],
   "source": [
    "train_data_dir = 'data/train'\n",
    "validation_data_dir = 'data/validation'\n",
    "\n",
    "train_datagen = ImageDataGenerator(\n",
    "    featurewise_center=False,\n",
    "    samplewise_center=False,\n",
    "    featurewise_std_normalization=False,\n",
    "    samplewise_std_normalization=False,\n",
    "    zca_whitening=False,\n",
    "    zca_epsilon=1e-06,\n",
    "    rotation_range=0,\n",
    "    width_shift_range=0,\n",
    "    height_shift_range=0,\n",
    "    brightness_range=None,\n",
    "    shear_range=0,\n",
    "    zoom_range=0.2,\n",
    "    channel_shift_range=0.0,\n",
    "    fill_mode='constant',\n",
    "    cval=255,\n",
    "    horizontal_flip=False,\n",
    "    vertical_flip=False,\n",
    "    rescale=1.0/255.0,\n",
    "    preprocessing_function=None,\n",
    "    data_format=None,\n",
    "    validation_split=0.0,\n",
    "    dtype=None,\n",
    ")\n",
    "\n",
    "\n",
    "\n",
    "\n",
    "itr = train_datagen.flow_from_directory(\n",
    "    train_data_dir,\n",
    "    target_size=(224, 224),\n",
    "    color_mode=\"grayscale\",\n",
    "    classes=None,\n",
    "    class_mode=\"categorical\",\n",
    "    batch_size=10,\n",
    "    shuffle=False,\n",
    "    seed=None,\n",
    "    save_to_dir='Dataset_vid',\n",
    "    #save_prefix=\"\",\n",
    "    save_format=\"png\",\n",
    "    follow_links=False,\n",
    "    subset=None,\n",
    "    interpolation=\"nearest\",\n",
    ")\n",
    "    \n",
    "    \n",
    "#target_size=(img_width, img_height),\n",
    "#batch_size=10,\n",
    "#class_mode='categorical')\n",
    "\n",
    "i=0\n",
    "\n",
    "for i in range(0,3):\n",
    "    X, y = itr.next()\n",
    "    "
   ]
  },
  {
   "cell_type": "markdown",
   "id": "140177cb-81c4-45c1-a363-8258611c4f27",
   "metadata": {},
   "source": []
  },
  {
   "cell_type": "code",
   "execution_count": null,
   "id": "a7343fc2-c47f-4ac9-bca5-e000de3024d1",
   "metadata": {},
   "outputs": [],
   "source": []
  },
  {
   "cell_type": "code",
   "execution_count": null,
   "id": "045873f5-598d-4da9-b014-bef2c6a0f355",
   "metadata": {},
   "outputs": [],
   "source": [
    "from numpy import save, load\n",
    "# define data\n",
    "#data = asarray([[0, 1, 2, 3, 4, 5, 6, 7, 8, 9]])\n",
    "# save to npy file\n",
    "save('Dataset_vid/X_train.npy', X_train)\n",
    "save('Dataset_vid/y_train.npy', y_train)\n",
    "save('Dataset_vid/X_test.npy', X_test)\n",
    "save('Dataset_vid/y_test.npy', y_test)"
   ]
  }
 ],
 "metadata": {
  "kernelspec": {
   "display_name": "Python 3 (ipykernel)",
   "language": "python",
   "name": "python3"
  },
  "language_info": {
   "codemirror_mode": {
    "name": "ipython",
    "version": 3
   },
   "file_extension": ".py",
   "mimetype": "text/x-python",
   "name": "python",
   "nbconvert_exporter": "python",
   "pygments_lexer": "ipython3",
   "version": "3.7.11"
  }
 },
 "nbformat": 4,
 "nbformat_minor": 5
}
