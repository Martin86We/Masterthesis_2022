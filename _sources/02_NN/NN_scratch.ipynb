{
 "cells": [
  {
   "cell_type": "markdown",
   "id": "171675b4-0b42-4db9-b05a-bedcb5b60fab",
   "metadata": {},
   "source": [
    "# neural net from scratch"
   ]
  },
  {
   "cell_type": "raw",
   "id": "2258f137-930f-42b1-b2c3-cb3da98ccf69",
   "metadata": {},
   "source": []
  },
  {
   "cell_type": "code",
   "execution_count": 91,
   "id": "db2490f1-e42c-4342-a035-eda93a393c1c",
   "metadata": {
    "tags": [
     "output_scroll",
     "hide-output"
    ]
   },
   "outputs": [
    {
     "name": "stderr",
     "output_type": "stream",
     "text": [
      "/home/martin/miniconda3/lib/python3.7/site-packages/ipykernel_launcher.py:48: FutureWarning: elementwise comparison failed; returning scalar instead, but in the future will perform elementwise comparison\n"
     ]
    },
    {
     "name": "stdout",
     "output_type": "stream",
     "text": [
      "0.0\n",
      "0.0\n",
      "0.0\n",
      "0.0\n",
      "0.0\n",
      "0.0\n",
      "0.0\n",
      "0.0\n",
      "0.0\n",
      "0.0\n",
      "0.0\n",
      "0.0\n",
      "0.0\n",
      "0.0\n",
      "0.0\n",
      "0.0\n",
      "0.0\n",
      "0.0\n",
      "0.0\n",
      "0.0\n"
     ]
    }
   ],
   "source": [
    "class NeuralNetwork(object):\n",
    "    def __init__(self, lr = 0.01):\n",
    "        self.lr = lr\n",
    "\n",
    "        self.w0 = np.random.randn(100, 784)\n",
    "        self.w1 = np.random.randn(5, 100)\n",
    "\n",
    "\n",
    "    def activation(self, x):\n",
    "        return expit(x)\n",
    "\n",
    "    def train(self, X, y):\n",
    "        a0 = self.activation(self.w0 @ X.T)\n",
    "        pred = self.activation(self.w1 @ a0)\n",
    "\n",
    "        e1 = y.T - pred\n",
    "        e0 = e1.T @ self.w1\n",
    "\n",
    "        dw1 = e1 * pred * (1 - pred) @ a0.T / len(X)\n",
    "        dw0 = e0.T * a0 * (1 - a0) @ X / len(X)\n",
    "\n",
    "        assert dw1.shape == self.w1.shape\n",
    "        assert dw0.shape == self.w0.shape\n",
    "\n",
    "        self.w1 = self.w1 + self.lr * dw1\n",
    "        self.w0 = self.w0 + self.lr * dw0\n",
    "\n",
    "        # print(\"Kosten: \" + str(self.cost(pred, y)))\n",
    "\n",
    "    def predict(self, X):\n",
    "        a0 = self.activation(self.w0 @ X.T)\n",
    "        pred = self.activation(self.w1 @ a0)\n",
    "        return pred\n",
    "\n",
    "    def cost(self, pred, y):\n",
    "        # SUM((y - pred)^2)\n",
    "        s = (1 / 2) * (y.T - pred) ** 2\n",
    "        return np.mean(np.sum(s, axis=0))\n",
    "\n",
    "model = NeuralNetwork()\n",
    "\n",
    "for i in range(0, 20):\n",
    "    for j in range(0, 10500, 100):\n",
    "        model.train(X_train[j:(j + 100), :], y_train_oh[j:(j + 100), :])\n",
    "\n",
    "    y_test_pred = model.predict(X_test)\n",
    "    y_test_pred = np.argmax(y_test_pred, axis=0)\n",
    "    print(np.mean(y_test_pred == y_test))\n"
   ]
  },
  {
   "cell_type": "code",
   "execution_count": 8,
   "id": "018d9c4f-ab59-4289-9363-c88af335dfd5",
   "metadata": {
    "scrolled": true,
    "tags": [
     "output_scroll",
     "hide-output"
    ]
   },
   "outputs": [
    {
     "data": {
      "text/plain": [
       "0.8784444444444445"
      ]
     },
     "execution_count": 8,
     "metadata": {},
     "output_type": "execute_result"
    }
   ],
   "source": [
    "np.mean(y_test_pred == y_test)"
   ]
  }
 ],
 "metadata": {
  "kernelspec": {
   "display_name": "Python 3 (ipykernel)",
   "language": "python",
   "name": "python3"
  },
  "language_info": {
   "codemirror_mode": {
    "name": "ipython",
    "version": 3
   },
   "file_extension": ".py",
   "mimetype": "text/x-python",
   "name": "python",
   "nbconvert_exporter": "python",
   "pygments_lexer": "ipython3",
   "version": "3.7.10"
  }
 },
 "nbformat": 4,
 "nbformat_minor": 5
}
