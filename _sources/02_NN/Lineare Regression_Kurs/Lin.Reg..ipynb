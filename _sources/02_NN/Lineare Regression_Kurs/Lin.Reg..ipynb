{
 "cells": [
  {
   "cell_type": "markdown",
   "id": "680ace8f-6024-4a49-b954-40b36d768959",
   "metadata": {},
   "source": [
    "# Lineare Regression (A)"
   ]
  },
  {
   "cell_type": "markdown",
   "id": "121d1d84-dfbf-4b02-ac88-31d04d480b50",
   "metadata": {
    "jp-MarkdownHeadingCollapsed": true,
    "tags": []
   },
   "source": [
    "## Lineare Regression (manuell)"
   ]
  },
  {
   "cell_type": "code",
   "execution_count": null,
   "id": "0f0b5485-3c81-4ab0-8a7f-079c2bdba9f7",
   "metadata": {},
   "outputs": [],
   "source": [
    "# # Lineare Regression (manuell)\n",
    "\n",
    "import numpy as np\n",
    "import matplotlib.pyplot as plt\n",
    "\n",
    "\n",
    "def f(a, x):\n",
    "    return a * x\n",
    "\n",
    "\n",
    "def J(a, x, y):\n",
    "    return (y - a * x) ** 2\n",
    "\n",
    "\n",
    "def J_ableitung_a(a, x, y):\n",
    "    return -2 * x * (y - a * x)\n",
    "\n",
    "\n",
    "point = (1, 4)\n",
    "lr = 0.05\n",
    "a = 1\n",
    "for i in range(0, 10):\n",
    "    da = J_ableitung_a(a, point[0], point[1])\n",
    "    a = a - lr * da\n",
    "    print(a)\n",
    "    print(\"Kosten wenn a = \" + str(round(a,3)) + \": \" + str(round(J(a, point[0], point[1]),3)))\n",
    "\n",
    "xs = np.arange(-2, 2, 0.1)\n",
    "ys = f(a, xs)\n",
    "plt.plot(xs, ys)\n",
    "\n",
    "plt.scatter(point[0], point[1])\n",
    "plt.show()"
   ]
  },
  {
   "cell_type": "markdown",
   "id": "031f4898-a1a0-43e8-9193-3a8cae21e448",
   "metadata": {
    "jp-MarkdownHeadingCollapsed": true,
    "tags": []
   },
   "source": [
    "## Lineare Regression (mehrere Punkte)"
   ]
  },
  {
   "cell_type": "code",
   "execution_count": 1,
   "id": "55c92dc9-5b32-4dbc-9ab7-9274d0bd1ffd",
   "metadata": {},
   "outputs": [
    {
     "name": "stdout",
     "output_type": "stream",
     "text": [
      "Kosten wenn a = 1.7575: 10.616120312499998\n",
      "Kosten wenn a = 2.28585625: 5.407007335908203\n",
      "Kosten wenn a = 2.654384734375: 2.8478656431448766\n",
      "Kosten wenn a = 2.9114333522265627: 1.5854764332749591\n",
      "Kosten wenn a = 3.0907247631780277: 0.9592140225014579\n",
      "Kosten wenn a = 3.2157805223166744: 0.6460921817782241\n",
      "Kosten wenn a = 3.3030069143158802: 0.48786866779492055\n",
      "Kosten wenn a = 3.3638473227353267: 0.40678521177676774\n",
      "Kosten wenn a = 3.40628350760789: 0.36447316117343875\n",
      "Kosten wenn a = 3.435882746556503: 0.34189013547557146\n",
      "Kosten wenn a = 3.4565282157231607: 0.32950978316089896\n",
      "Kosten wenn a = 3.4709284304669046: 0.32251464988740586\n",
      "Kosten wenn a = 3.480972580250666: 0.31843349371986474\n",
      "Kosten wenn a = 3.4879783747248396: 0.3159750946101233\n",
      "Kosten wenn a = 3.4928649163705754: 0.3144492265171526\n",
      "Kosten wenn a = 3.4962732791684763: 0.31347681766438806\n",
      "Kosten wenn a = 3.4986506122200125: 0.31284326469898427\n",
      "Kosten wenn a = 3.5003088020234587: 0.31242310940987705\n",
      "Kosten wenn a = 3.5014653894113623: 0.31214063158707217\n",
      "Kosten wenn a = 3.502272109114425: 0.3119487507808341\n",
      "Kosten wenn a = 3.5028347961073116: 0.31181741819732467\n",
      "Kosten wenn a = 3.5032272702848495: 0.3117270320676349\n",
      "Kosten wenn a = 3.5035010210236823: 0.3116645804757563\n",
      "Kosten wenn a = 3.5036919621640186: 0.3116213088590119\n",
      "Kosten wenn a = 3.5038251436094026: 0.3115912671994552\n",
      "Kosten wenn a = 3.503918037667558: 0.3115703813953947\n",
      "Kosten wenn a = 3.503982831273122: 0.3115558467528075\n",
      "Kosten wenn a = 3.5040280248130027: 0.31154572499440525\n",
      "Kosten wenn a = 3.5040595473070697: 0.3115386729273324\n",
      "Kosten wenn a = 3.5040815342466813: 0.31153375793420174\n",
      "Kosten wenn a = 3.5040968701370603: 0.31153033158672483\n",
      "Kosten wenn a = 3.5041075669205997: 0.3115279426143737\n",
      "Kosten wenn a = 3.5041150279271185: 0.3115262767464534\n",
      "Kosten wenn a = 3.504120231979165: 0.3115251150177857\n",
      "Kosten wenn a = 3.5041238618054678: 0.3115243048162525\n",
      "Kosten wenn a = 3.504126393609314: 0.31152373975138337\n",
      "Kosten wenn a = 3.5041281595424967: 0.311523345643303\n",
      "Kosten wenn a = 3.5041293912808915: 0.31152307076491703\n",
      "Kosten wenn a = 3.504130250418422: 0.31152287904308085\n",
      "Kosten wenn a = 3.5041308496668493: 0.3115227453199406\n",
      "Kosten wenn a = 3.5041312676426273: 0.31152265204943197\n",
      "Kosten wenn a = 3.5041315591807325: 0.31152258699392443\n",
      "Kosten wenn a = 3.504131762528561: 0.3115225416180353\n",
      "Kosten wenn a = 3.504131904363671: 0.3115225099685114\n",
      "Kosten wenn a = 3.5041320032936603: 0.311522487893046\n",
      "Kosten wenn a = 3.504132072297328: 0.31152247249544673\n",
      "Kosten wenn a = 3.504132120427386: 0.31152246175563947\n",
      "Kosten wenn a = 3.5041321539981016: 0.3115224542646327\n",
      "Kosten wenn a = 3.504132177413676: 0.3115224490396596\n",
      "Kosten wenn a = 3.504132193746039: 0.3115224453952436\n"
     ]
    },
    {
     "data": {
      "image/png": "[encoded data removed]",
      "text/plain": [
       "<Figure size 432x288 with 1 Axes>"
      ]
     },
     "metadata": {
      "needs_background": "light"
     },
     "output_type": "display_data"
    }
   ],
   "source": [
    "import numpy as np\n",
    "import matplotlib.pyplot as plt\n",
    "\n",
    "\n",
    "def f(a, x):\n",
    "    return a * x\n",
    "\n",
    "\n",
    "def J(a, x, y):\n",
    "    return (y - a * x) ** 2\n",
    "\n",
    "\n",
    "def J_ableitung_a(a, x, y):\n",
    "    return -2 * x * (y - a * x)\n",
    "\n",
    "\n",
    "point1 = (1, 4)\n",
    "point2 = (1.5, 5)\n",
    "\n",
    "lr = 0.05\n",
    "a = 1\n",
    "for i in range(0, 50):\n",
    "    da = J_ableitung_a(a, point1[0], point1[1])\n",
    "    a = a - lr * da\n",
    "\n",
    "    da = J_ableitung_a(a, point2[0], point2[1])\n",
    "    a = a - lr * da\n",
    "\n",
    "    cost = J(a, point1[0], point1[1]) + J(a, point2[0], point2[1])\n",
    "    print(\"Kosten wenn a = \" + str(a) + \": \" + str(cost))\n",
    "\n",
    "xs = np.arange(-2, 2, 0.1)\n",
    "ys = f(a, xs)\n",
    "plt.plot(xs, ys)\n",
    "\n",
    "plt.scatter(point1[0], point1[1], color=\"red\")\n",
    "plt.scatter(point2[0], point2[1], color=\"green\")\n",
    "plt.show()\n"
   ]
  },
  {
   "cell_type": "markdown",
   "id": "48f6de88-3ff4-46a2-a33d-5de186eb5982",
   "metadata": {
    "jp-MarkdownHeadingCollapsed": true,
    "tags": []
   },
   "source": [
    "## Lineare Regression (vektorisieren)"
   ]
  },
  {
   "cell_type": "code",
   "execution_count": 2,
   "id": "f92497f8-a132-43aa-80ea-e3eabac90ccf",
   "metadata": {},
   "outputs": [
    {
     "name": "stdout",
     "output_type": "stream",
     "text": [
      "Kosten wenn a = 1.5375: 10.63857421875\n",
      "Kosten wenn a = 1.9742187500000001: 7.181715011596678\n",
      "Kosten wenn a = 2.3290527343750003: 4.899647800624369\n",
      "Kosten wenn a = 2.617355346679688: 3.3931268683809295\n",
      "Kosten wenn a = 2.8516012191772466: 2.3985876592045976\n",
      "Kosten wenn a = 3.041925990581513: 1.7420363843967854\n",
      "Kosten wenn a = 3.196564867347479: 1.3086099568869405\n",
      "Kosten wenn a = 3.3222089547198266: 1.0224807918511447\n",
      "Kosten wenn a = 3.424294775709859: 0.8335908352454822\n",
      "Kosten wenn a = 3.5072395052642604: 0.7088939498300255\n",
      "Kosten wenn a = 3.5746320980272115: 0.6265745215674778\n",
      "Kosten wenn a = 3.6293885796471095: 0.5722308365035302\n",
      "Kosten wenn a = 3.6738782209632763: 0.5363555131605338\n",
      "Kosten wenn a = 3.710026054532662: 0.5126721942348836\n",
      "Kosten wenn a = 3.739396169307788: 0.49703750322537227\n",
      "Kosten wenn a = 3.7632593875625777: 0.48671616423862474\n",
      "Kosten wenn a = 3.7826482523945946: 0.4799024677981546\n",
      "Kosten wenn a = 3.7984017050706083: 0.47540436350737536\n",
      "Kosten wenn a = 3.8112013853698694: 0.47243491184666564\n",
      "Kosten wenn a = 3.821601125613019: 0.47047460977377553\n",
      "Kosten wenn a = 3.830050914560578: 0.4691805041084689\n",
      "Kosten wenn a = 3.8369163680804697: 0.4683261921653564\n",
      "Kosten wenn a = 3.8424945490653815: 0.467762212796661\n",
      "Kosten wenn a = 3.8470268211156227: 0.46738989829154565\n",
      "Kosten wenn a = 3.8507092921564436: 0.4671441125440283\n",
      "Kosten wenn a = 3.8537012998771103: 0.4669818555466436\n",
      "Kosten wenn a = 3.856132306150152: 0.46687474057571415\n",
      "Kosten wenn a = 3.8581074987469983: 0.4668040279581863\n",
      "Kosten wenn a = 3.859712342731936: 0.46675734658177154\n",
      "Kosten wenn a = 3.861016278469698: 0.46672652957937244\n",
      "Kosten wenn a = 3.86207572625663: 0.46670618554263243\n",
      "Kosten wenn a = 3.862936527583512: 0.46669275529962845\n",
      "Kosten wenn a = 3.8636359286616035: 0.46668388924077053\n",
      "Kosten wenn a = 3.864204192037553: 0.46667803625660237\n",
      "Kosten wenn a = 3.864665906030512: 0.46667417237252273\n",
      "Kosten wenn a = 3.865041048649791: 0.466671621605298\n",
      "Kosten wenn a = 3.8653458520279553: 0.4666699377003726\n",
      "Kosten wenn a = 3.865593504772714: 0.4666688260600114\n",
      "Kosten wenn a = 3.86579472262783: 0.46666809220367944\n",
      "Kosten wenn a = 3.865958212135112: 0.4666676077438353\n",
      "Kosten wenn a = 3.8660910473597787: 0.4666672879246412\n",
      "Kosten wenn a = 3.8661989759798203: 0.4666670767940015\n",
      "Kosten wenn a = 3.866286667983604: 0.4666669374147899\n",
      "Kosten wenn a = 3.8663579177366785: 0.4666668454027325\n",
      "Kosten wenn a = 3.8664158081610513: 0.46666678466039774\n",
      "Kosten wenn a = 3.8664628441308544: 0.46666674456096563\n",
      "Kosten wenn a = 3.866501060856319: 0.46666671808907506\n",
      "Kosten wenn a = 3.866532111945759: 0.466666700613491\n",
      "Kosten wenn a = 3.8665573409559295: 0.466666689076875\n",
      "Kosten wenn a = 3.8665778395266925: 0.4666666814609056\n"
     ]
    },
    {
     "data": {
      "image/png": "[encoded data removed]",
      "text/plain": [
       "<Figure size 432x288 with 1 Axes>"
      ]
     },
     "metadata": {
      "needs_background": "light"
     },
     "output_type": "display_data"
    }
   ],
   "source": [
    "import numpy as np\n",
    "import matplotlib.pyplot as plt\n",
    "\n",
    "\n",
    "def f(a, x):\n",
    "    return a * x\n",
    "\n",
    "\n",
    "def J(a, x, y):\n",
    "    return np.mean((y - a * x) ** 2)\n",
    "\n",
    "\n",
    "def J_ableitung_a(a, x, y):\n",
    "    return np.mean(-2 * x * (y - a * x))\n",
    "\n",
    "\n",
    "points = np.array([\n",
    "    [1, 4],\n",
    "    [1.5, 5],\n",
    "    [2, 8],\n",
    "    [0.5, 3]\n",
    "])\n",
    "\n",
    "lr = 0.05\n",
    "a = 1\n",
    "for i in range(0, 50):\n",
    "    da = J_ableitung_a(a, points[:, 0], points[:, 1])\n",
    "    a = a - lr * da\n",
    "\n",
    "    cost = J(a, points[:, 0], points[:, 1])\n",
    "    print(\"Kosten wenn a = \" + str(a) + \": \" + str(cost))\n",
    "\n",
    "xs = np.arange(-2, 2, 0.1)\n",
    "ys = f(a, xs)\n",
    "plt.plot(xs, ys)\n",
    "\n",
    "plt.scatter(points[:, 0], points[:, 1], color=\"red\")\n",
    "plt.show()"
   ]
  },
  {
   "cell_type": "markdown",
   "id": "0d5dd3e8-37a4-4741-af7e-3eaea9614154",
   "metadata": {
    "jp-MarkdownHeadingCollapsed": true,
    "tags": []
   },
   "source": [
    "## Gradientenabstieg"
   ]
  },
  {
   "cell_type": "code",
   "execution_count": null,
   "id": "ee07fabf-beac-4c90-9457-61953ebf5ea5",
   "metadata": {},
   "outputs": [],
   "source": []
  },
  {
   "cell_type": "code",
   "execution_count": null,
   "id": "133c291f-b883-4fec-aa9f-18737fb5978c",
   "metadata": {},
   "outputs": [],
   "source": [
    "import numpy as np\n",
    "import matplotlib.pyplot as plt\n",
    "\n",
    "def f(x):\n",
    "    return x ** 2 - 4 * x + 5\n",
    "\n",
    "\n",
    "def f_ableitung(x):\n",
    "    return 2 * x - 4\n",
    "\n",
    "\n",
    "x = 5\n",
    "lr = 0.05\n",
    "\n",
    "plt.scatter(x, f(x), c=\"r\")\n",
    "for i in range(0, 25):\n",
    "    steigung_x = f_ableitung(x)\n",
    "    x = x - lr * steigung_x\n",
    "    plt.scatter(x, f(x), c=\"r\")\n",
    "    print(x)\n",
    "\n",
    "xs = np.arange(-2, 6, 0.1)\n",
    "ys = f(xs)\n",
    "plt.plot(xs, ys)\n",
    "plt.show()"
   ]
  },
  {
   "cell_type": "markdown",
   "id": "57d86901-49d5-4abc-be4c-d3e842a7c45d",
   "metadata": {
    "jp-MarkdownHeadingCollapsed": true,
    "tags": []
   },
   "source": [
    "# Lineare Regression (B)"
   ]
  },
  {
   "cell_type": "code",
   "execution_count": null,
   "id": "8467a1cf-0e9f-4400-835d-453cddd4a154",
   "metadata": {},
   "outputs": [],
   "source": []
  },
  {
   "cell_type": "code",
   "execution_count": null,
   "id": "382a3a6a-e275-45d9-90cc-6456aa3979d9",
   "metadata": {},
   "outputs": [],
   "source": []
  },
  {
   "cell_type": "code",
   "execution_count": null,
   "id": "30e730ee-59b7-42cd-a3c3-289d573e8f1b",
   "metadata": {},
   "outputs": [],
   "source": []
  },
  {
   "cell_type": "code",
   "execution_count": null,
   "id": "80330269-6fe6-410e-b75b-e998992a90c6",
   "metadata": {},
   "outputs": [],
   "source": []
  },
  {
   "cell_type": "code",
   "execution_count": null,
   "id": "efe8da5e-8ada-4d1c-a817-17b55438be89",
   "metadata": {},
   "outputs": [],
   "source": []
  }
 ],
 "metadata": {
  "kernelspec": {
   "display_name": "Python 3 (ipykernel)",
   "language": "python",
   "name": "python3"
  },
  "language_info": {
   "codemirror_mode": {
    "name": "ipython",
    "version": 3
   },
   "file_extension": ".py",
   "mimetype": "text/x-python",
   "name": "python",
   "nbconvert_exporter": "python",
   "pygments_lexer": "ipython3",
   "version": "3.7.11"
  }
 },
 "nbformat": 4,
 "nbformat_minor": 5
}
