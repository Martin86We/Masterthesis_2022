{
 "cells": [
  {
   "cell_type": "markdown",
   "id": "72be4822-9adc-4a8f-94dc-bcc51d132fbe",
   "metadata": {},
   "source": [
    "# Image Data Generator"
   ]
  },
  {
   "cell_type": "markdown",
   "id": "9320dc59-62b4-410b-a69d-774ffebf1d2c",
   "metadata": {
    "tags": []
   },
   "source": [
    "## Preprocessing\n"
   ]
  },
  {
   "cell_type": "markdown",
   "id": "61cb7b6a-813a-4070-984b-dd27e07e9991",
   "metadata": {},
   "source": [
    "Mit dem Image Data Generator werden wir unsere Bilder weiterverarbeiten. Wir werden den Datensatz künstlich erweitern um so das Modell robuster zu machen."
   ]
  },
  {
   "cell_type": "markdown",
   "id": "ddbc057e-8303-4623-b9db-cdfb47eb2355",
   "metadata": {
    "tags": []
   },
   "source": [
    "## Bilder in Numpy Array speichern"
   ]
  },
  {
   "cell_type": "markdown",
   "id": "b177da49-f32b-449b-a1b4-9e99d8b92461",
   "metadata": {},
   "source": [
    "Um sehr viele Bilder abzuspeichern in einer Form die für das CNN passend ist, werden die Bilder in ein Numpy Array gespeichert. Dieses Numpy Array ist zunächst 3 Dimensional, wird später aber noch auf 4D erweitert.\n",
    "\n",
    "Wie man nun die Bilder oder besser gesagt die Pixelwerte in ein Numpy Array speichert zeigt der folgende Programmcode:"
   ]
  },
  {
   "cell_type": "markdown",
   "id": "e1ab3ceb-c12f-45e9-b106-5512aeefba86",
   "metadata": {},
   "source": [
    "```\n",
    "# lob importieren\n",
    "import glob\n",
    "\n",
    "# import numpy\n",
    "import numpy as np\n",
    "\n",
    "# import Image from PIL\n",
    "from PIL import Image\n",
    "\n",
    "# Dateinamen der Bilder in filelist speichern\n",
    "filelist = glob.glob('../pozi/*.jpg')\n",
    "\n",
    "# Alle Bilder nacheinander öffnen und hintereinander in ein Numpy Array speichern\n",
    "x = np.array([np.array(Image.open(fname)) for fname in filelist])\n",
    "\n",
    "```"
   ]
  },
  {
   "cell_type": "markdown",
   "id": "8d7d4b89-92b4-41c2-b3d7-bbd0b6baeb7b",
   "metadata": {},
   "source": [
    "## Labels erstellen"
   ]
  },
  {
   "cell_type": "markdown",
   "id": "2a6221ef-be84-4178-8ee7-ece1bd95adb2",
   "metadata": {},
   "source": [
    "Wie erstellt man die Labels?"
   ]
  },
  {
   "cell_type": "markdown",
   "id": "8a3be577-48b4-42b2-bdf6-9704dc19e4e0",
   "metadata": {},
   "source": [
    "## Datensatz in Numpy Array exportieren"
   ]
  },
  {
   "cell_type": "markdown",
   "id": "253ec16b-a6c2-4cee-b4e9-d63ccc2012b9",
   "metadata": {},
   "source": [
    "(X_Train, y_Train, X_Test, y_Test) in ein Numpy Array gemeinsam speichern:"
   ]
  },
  {
   "cell_type": "code",
   "execution_count": null,
   "id": "3a6b5a91-04d6-493d-baed-c4167cee36eb",
   "metadata": {},
   "outputs": [],
   "source": []
  }
 ],
 "metadata": {
  "kernelspec": {
   "display_name": "Python 3 (ipykernel)",
   "language": "python",
   "name": "python3"
  },
  "language_info": {
   "codemirror_mode": {
    "name": "ipython",
    "version": 3
   },
   "file_extension": ".py",
   "mimetype": "text/x-python",
   "name": "python",
   "nbconvert_exporter": "python",
   "pygments_lexer": "ipython3",
   "version": "3.9.7"
  }
 },
 "nbformat": 4,
 "nbformat_minor": 5
}
