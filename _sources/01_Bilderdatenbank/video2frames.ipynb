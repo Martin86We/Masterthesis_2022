{
 "cells": [
  {
   "cell_type": "markdown",
   "id": "d60e70cd-2784-4b21-8328-a1c2aa64fc51",
   "metadata": {},
   "source": [
    "# Bilder aus Video"
   ]
  },
  {
   "cell_type": "markdown",
   "id": "1b443fb4-9e22-48f2-878f-72c1c53c86da",
   "metadata": {},
   "source": [
    ":::{figure-md} markdown-fig\n",
    "<img src=\"pozi_quer.PNG\" alt=\"pozi\" class=\"bg-primary mb-1\" width=\"1000px\">\n",
    "\n",
    "This is a Pozidriv **Schraube**!\n",
    ":::"
   ]
  },
  {
   "cell_type": "markdown",
   "id": "c90bea7e-a5e8-4eff-b234-1d11e6996c98",
   "metadata": {},
   "source": [
    "Hier ist ein **[Link](https://towardsdatascience.com/how-do-you-know-you-have-enough-training-data-ad9b1fd679ee)**."
   ]
  },
  {
   "cell_type": "markdown",
   "id": "9f63b4a9-69c5-4ece-b72b-ae206d2209ac",
   "metadata": {},
   "source": [
    "Das Bild der Schraube stammt aus einem Video, welches mit einem Iphone 12 pro aufgenommen wurde. Die Aufnahme ist sehr detailreich, das Pozidriv Profil sowie auch Beschädigungen, Rost und Ablagerungen auf der Oberfläche, sind gut zu erkennen.\n"
   ]
  },
  {
   "cell_type": "markdown",
   "id": "2008454a-7075-4294-8d98-bc27046a5662",
   "metadata": {},
   "source": [
    "Nachdem wir die Videos aufgenommen haben und die Softwareumgebung installiert ist, beginnen wir mit dem Python Programm zum Extrahieren von Bildern aus Videos:"
   ]
  },
  {
   "cell_type": "markdown",
   "id": "eefd7dfd-5ff6-4f77-acc2-eb1f2f374b49",
   "metadata": {},
   "source": [
    ":::{note}\n",
    "Es stellt sich die Frage wie detailreich die Schraubenbilder sein müssen um eine gute Erkennung zu ermöglichen?\n",
    ":::\n"
   ]
  },
  {
   "cell_type": "markdown",
   "id": "50e773cf-b025-4870-b353-9a79533fea9f",
   "metadata": {},
   "source": [
    "## Extracting and Saving Video Frames using OpenCV-Python"
   ]
  },
  {
   "cell_type": "markdown",
   "id": "15d8e57b-7dc9-41d9-83d3-7d92ef93e863",
   "metadata": {},
   "source": [
    "```\n",
    "# OpenCV importieren:\n",
    "\n",
    "import cv2\n",
    "\n",
    "\n",
    "\n",
    "# path = 'relativer Speicherpfad / Dateiname':\n",
    "\n",
    "path = 'pozi/pozi'\n",
    "\n",
    "\n",
    "\n",
    "# Video laden:\n",
    "\n",
    "cap = cv2.VideoCapture('pozi.MOV')\n",
    "i = 0\n",
    "\n",
    "\n",
    "# Prüfen ob ein Video geladen wurde:\n",
    "\n",
    "if cap.isOpened() == False:\n",
    "    print('ERROR: Datei nicht gefunden')\n",
    "\n",
    "    \n",
    "    \n",
    "# Die Frames des Videos lesen:    \n",
    "    \n",
    "while(cap.isOpened()):\n",
    "    ret, frame = cap.read()\n",
    "     \n",
    "    # sobald keine Frames mehr gelesen werden können (ret==False) wird abgebrochen:\n",
    "    if ret == False:\n",
    "        break\n",
    "     \n",
    "    # Die Frames speichern\n",
    "    cv2.imwrite(path+str(i)+'.jpg', frame)\n",
    "    i += 1\n",
    " \n",
    "\n",
    "cap.release()\n",
    "cv.destroyAllWindows()\n",
    "```"
   ]
  },
  {
   "cell_type": "markdown",
   "id": "79a90b44-f15f-4d8d-83de-c744b94a1e2b",
   "metadata": {},
   "source": [
    "## Resize Image"
   ]
  },
  {
   "cell_type": "code",
   "execution_count": null,
   "id": "a43c8f0a-a7a5-457f-94da-f282eac0a5d5",
   "metadata": {},
   "outputs": [
    {
     "name": "stdout",
     "output_type": "stream",
     "text": [
      "Original Dimensions :  (1920, 1080, 3)\n",
      "Resized Dimensions :  (960, 540, 3)\n"
     ]
    }
   ],
   "source": [
    "import cv2\n",
    "\n",
    "img = cv2.imread('pozi/pozi800.jpg', cv2.IMREAD_UNCHANGED)\n",
    "\n",
    "print('Original Dimensions : ',img.shape)\n",
    "\n",
    "scale_percent = 50 # percent of original size\n",
    "width = int(img.shape[1] * scale_percent / 100)\n",
    "height = int(img.shape[0] * scale_percent / 100)\n",
    "dim = (width, height)\n",
    "\n",
    "#resize image\n",
    "resized = cv2.resize(img, dim, interpolation = cv2.INTER_AREA)\n",
    "\n",
    "print('Resized Dimensions : ',resized.shape)\n",
    "\n",
    "cv2.imshow(\"Resized image\", resized)\n",
    "cv2.waitKey(0)\n",
    "cv2.destroyAllWindows()"
   ]
  },
  {
   "cell_type": "code",
   "execution_count": null,
   "id": "09ed471f-8a77-46c9-8169-48616ffb6bfc",
   "metadata": {},
   "outputs": [],
   "source": []
  }
 ],
 "metadata": {
  "kernelspec": {
   "display_name": "Python 3 (ipykernel)",
   "language": "python",
   "name": "python3"
  },
  "language_info": {
   "codemirror_mode": {
    "name": "ipython",
    "version": 3
   },
   "file_extension": ".py",
   "mimetype": "text/x-python",
   "name": "python",
   "nbconvert_exporter": "python",
   "pygments_lexer": "ipython3",
   "version": "3.9.7"
  }
 },
 "nbformat": 4,
 "nbformat_minor": 5
}
