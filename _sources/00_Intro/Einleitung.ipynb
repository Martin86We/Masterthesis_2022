{
 "cells": [
  {
   "cell_type": "markdown",
   "id": "88bfa3c6-dfe2-4042-befc-599f8e0549a6",
   "metadata": {},
   "source": [
    "# Einleitung"
   ]
  },
  {
   "cell_type": "markdown",
   "id": "d593bf2f-82ca-4a67-b610-9776406649cb",
   "metadata": {},
   "source": [
    "Künstliche Neuronale Netze sind aus der heutigen Zeit nicht mehr weg zu denken und stellen ein sehr mächtiges Werkzeug für viele Fachgebiete bereit. Um in den jeweiligen Fachgebieten Anwendungsfälle zu identifizieren und Neuronale Netze erfolgreich einsetzen zu können ist auch Domänenwissen aus dem jeweiligen Fachgebiet nötig. Ob Erkennung von Brustkrebs durch Neuronale Netze in der Medizin oder \"Predictive Maintenance\" im Maschinenbau, in beiden Fällen sind Kenntnisse aus beiden Bereichen nötig, Domänenwissen um die Daten richtig interpretieren zu können und die Fähigkeit NN's auf diese Daten anzuwenden. Die folgenden Statistik soll zeigen, dass KI-Methoden und Fachkräfte mit Kenntnissen in diesem Bereich, in der Zukunft eine immer wichtigere Rolle spielen werden um Wettbewerbsfähig zu bleiben. "
   ]
  },
  {
   "cell_type": "markdown",
   "id": "856fe327-02dd-4d38-80e0-af0ef5253c33",
   "metadata": {},
   "source": [
    "<a href=\"https://de.statista.com/infografik/23703/arbeitsproduktivitaetssteigerung-durch-ki/\" title=\"Infografik: Künstliche Intelligenz kurbelt die Produktivität an | Statista\"><img src=\"https://cdn.statcdn.com/Infographic/images/normal/23703.jpeg\" alt=\"Infografik: Künstliche Intelligenz kurbelt die Produktivität an | Statista\" width=\"100%\" height=\"auto\" style=\"width: 50%; height: auto !important; max-width:480px;-ms-interpolation-mode: bicubic;\"/></a> Quelle: <a href=\"https://de.statista.com/infografik/\">Statista</a>"
   ]
  },
  {
   "cell_type": "markdown",
   "id": "8d2451ad-adb6-4de4-8495-bf5f964eefba",
   "metadata": {},
   "source": [
    "```{epigraph}\n",
    "Auch ist das Suchen und Irren gut, denn durch Suchen und Irren lernt man.\n",
    "\n",
    "-- Johann Wolfgang Goethe\n",
    "```\n",
    "\n",
    "\n",
    "[Quelle](http://ebookcentral.proquest.com/lib/htwg-konstanz/detail.action?docID=6714813)\n",
    "\n"
   ]
  },
  {
   "cell_type": "markdown",
   "id": "a06f6a5e-45b8-4fd2-a320-d592be7cc608",
   "metadata": {},
   "source": [
    "## Vorstellung des Themas"
   ]
  },
  {
   "cell_type": "markdown",
   "id": "361849da-11d1-4405-b777-8778c2ac231c",
   "metadata": {},
   "source": [
    "Neuronale Netze werden bereits in vielen Bereichen eingesetzt und sind in aller Munde. Ein häufiger Anwendungsfall und Paradebeispiel für die Nutzung von Neuronalen Netzen ist die Bilderkennung, mit der sich diese Arbeit beschäftigt. Obwohl NN's bereits vor Jahrzehnten entwickelt wurden, gelangen sie erst in den letzten Jahren zu größerer Bedeutung. Die Weiterentwicklung der Algorithmen und Prozessoren hat es ermöglicht, die Netze mit riesigen Datenmengen, effizient zu trainieren."
   ]
  },
  {
   "cell_type": "markdown",
   "id": "f51dddbd-597c-4be1-bcf9-9ff60f3a22cb",
   "metadata": {},
   "source": [
    "## Ziel"
   ]
  },
  {
   "cell_type": "markdown",
   "id": "e68223b9-bf9c-4db7-993d-f6bcdf1ffda9",
   "metadata": {},
   "source": [
    "Diese Masterarbeit hat das Ziel, zu zeigen, dass es auch mit einfachen Mitteln möglich ist einen umfangreichen Datensatz zu erzeugen und ein NN darauf zu trainieren.\n",
    "Der Weg vom Datensatz zum NN soll dabei möglichst einfach und intuitiv dargestellt werden."
   ]
  },
  {
   "cell_type": "markdown",
   "id": "6b825fb7-fe82-4db1-adb4-2aa1ddcd4782",
   "metadata": {
    "tags": []
   },
   "source": [
    "## Jupyter Book"
   ]
  },
  {
   "cell_type": "markdown",
   "id": "04ebbfab-83c0-454a-b132-441f1792d9c7",
   "metadata": {},
   "source": [
    "Das Format in dem diese Masterarbeit verfasst ist, ist ein [Jupyter Book](https://jupyterbook.org/intro.html), ein neues Open-Source-Projekt zum druckreifen Veröffentlichen rechnergestützer technischer und insbesondere ausführbarer Inhalte in Buch- und HTML-Form. So ist es möglich die Abschnitte dieses Buchs, die Code enthalten, interaktiv auszuführen, zu reproduzieren und zu ändern."
   ]
  },
  {
   "cell_type": "code",
   "execution_count": 2,
   "id": "7c3e84c1-68a7-4819-a913-f6e31d6a507c",
   "metadata": {},
   "outputs": [
    {
     "name": "stdout",
     "output_type": "stream",
     "text": [
      "Hello World\n"
     ]
    }
   ],
   "source": [
    "print('Hello World')"
   ]
  },
  {
   "cell_type": "markdown",
   "id": "ca6303c4-e86f-4000-b19b-bd54fee3aab1",
   "metadata": {
    "tags": []
   },
   "source": [
    "## Aufbau"
   ]
  },
  {
   "cell_type": "markdown",
   "id": "3d66cab3-0333-4ad8-9667-fae4b0914437",
   "metadata": {},
   "source": [
    "Im ersten Kapitel werden zwei verschiedene Datensätze erzeugt. \n",
    "- Der erste Datensatz wird durch \"Data Augmentation\" erzeugt, d.h. die Trainingsbilder werden künstlich erzeugt.  \n",
    "\n",
    "- Der zweite Datensatz wird aus echten Fotos erzeugt, die mit einer Smartphone Kamera aufgenommen wurden.  \n",
    "\n",
    "Das zweite Kapitel beschreibt die Funktionsweise von Neuronalen Netzen. Es wird gezeigt wie ein einzelnes künstliches Neuron funktioniert und wie viele solcher Neuronen zu einem Neuronalen Netz verschaltet werden.  \n",
    "\n",
    "Das dritte Kapitel beschäftigt sich mit \"Convolutional Neural Nets\", es wird gezeigt wie CNN's funktionieren und weshalb diese so Leistungsfähig sind.\n",
    "\n",
    "Das vierte Kapitel wird als Abschluss zeigen was Transfer Learning ist und wie man vortrainierte Netzwerke für eigene Datensätze verwenden kann."
   ]
  }
 ],
 "metadata": {
  "kernelspec": {
   "display_name": "Python 3 (ipykernel)",
   "language": "python",
   "name": "python3"
  },
  "language_info": {
   "codemirror_mode": {
    "name": "ipython",
    "version": 3
   },
   "file_extension": ".py",
   "mimetype": "text/x-python",
   "name": "python",
   "nbconvert_exporter": "python",
   "pygments_lexer": "ipython3",
   "version": "3.7.11"
  }
 },
 "nbformat": 4,
 "nbformat_minor": 5
}
