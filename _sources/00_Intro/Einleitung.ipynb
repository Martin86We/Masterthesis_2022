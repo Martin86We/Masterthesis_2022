{
 "cells": [
  {
   "cell_type": "markdown",
   "id": "88bfa3c6-dfe2-4042-befc-599f8e0549a6",
   "metadata": {},
   "source": [
    "# Einleitung"
   ]
  },
  {
   "cell_type": "markdown",
   "id": "d593bf2f-82ca-4a67-b610-9776406649cb",
   "metadata": {},
   "source": [
    "Künstliche Neuronale Netze sind aus der heutigen Zeit nicht mehr weg zu denken und stellen ein sehr mächtiges Werkzeug für viele Fachgebiete bereit. Um in den jeweiligen Fachgebieten Anwendungsfälle zu identifizieren und Neuronale Netze erfolgreich einsetzen zu können ist auch Domänenwissen aus dem jeweiligen Fachgebiet nötig. Die Erkennung von Brustkrebs durch Neuronale Netze in der Medizin oder \"Predictive Maintenance\" im Maschinenbau, in beiden Fällen sind Kenntnisse aus beiden Bereichen nötig, Domänenwissen um die Daten richtig interpretieren zu können und die Fähigkeit NN's auf diese Daten anzuwenden. Die folgenden Statistiken sollen deuten an, dass KI auch und gerade in der Zukunft eine immer wichtigere Rolle spielen werden. "
   ]
  },
  {
   "cell_type": "markdown",
   "id": "856fe327-02dd-4d38-80e0-af0ef5253c33",
   "metadata": {},
   "source": [
    "<a href=\"https://de.statista.com/infografik/23703/arbeitsproduktivitaetssteigerung-durch-ki/\" title=\"Infografik: Künstliche Intelligenz kurbelt die Produktivität an | Statista\"><img src=\"https://cdn.statcdn.com/Infographic/images/normal/23703.jpeg\" alt=\"Infografik: Künstliche Intelligenz kurbelt die Produktivität an | Statista\" width=\"100%\" height=\"auto\" style=\"width: 50%; height: auto !important; max-width:480px;-ms-interpolation-mode: bicubic;\"/></a> Mehr Infografiken finden Sie bei <a href=\"https://de.statista.com/infografik/\">Statista</a>"
   ]
  },
  {
   "cell_type": "markdown",
   "id": "8d2451ad-adb6-4de4-8495-bf5f964eefba",
   "metadata": {},
   "source": [
    "```{epigraph}\n",
    "Auch ist das Suchen und Irren gut, denn durch Suchen und Irren lernt man.\n",
    "\n",
    "-- Johann Wolfgang Goethe\n",
    "```\n",
    "\n",
    "\n",
    "[Quelle](http://ebookcentral.proquest.com/lib/htwg-konstanz/detail.action?docID=6714813)\n",
    "\n"
   ]
  },
  {
   "cell_type": "markdown",
   "id": "f176ef7f-7b09-4564-97ca-ecad92c41c2e",
   "metadata": {},
   "source": [
    "Here is my nifty citation {cite}`holdgraf_evidence_2014`."
   ]
  },
  {
   "cell_type": "markdown",
   "id": "863607d5-7362-4b88-9416-6d4b55e7e45c",
   "metadata": {},
   "source": [
    "Here are multiple citations {cite}`holdgraf_evidence_2014,holdgraf_portable_2017,RePEc:the:publsh:1367,caporaso2010qiime`!"
   ]
  },
  {
   "cell_type": "markdown",
   "id": "7912ca32-fdb1-4938-bf35-f5d034589095",
   "metadata": {},
   "source": [
    "Kann man es sich leisten, sich nicht mit KI zu beschäftigen?"
   ]
  },
  {
   "cell_type": "markdown",
   "id": "a06f6a5e-45b8-4fd2-a320-d592be7cc608",
   "metadata": {},
   "source": [
    "## Vorstellung des Themas"
   ]
  },
  {
   "cell_type": "markdown",
   "id": "361849da-11d1-4405-b777-8778c2ac231c",
   "metadata": {},
   "source": [
    "Neuronale Netze werden bereits in vielen Bereichen eingesetzt und sind in aller Munde. Ein häufiger Anwendungsfall und Paradebeispiel für die Nutzung von Neuronalen Netzen ist die Bilderkennung, mit der sich diese Arbeit beschäftigt. Obwohl NN's bereits vor Jahrzehnten entwickelt wurden, gelangen sie erst in den letzten Jahren zu größerer Bedeutung. Die Weiterentwicklung der Algorithmen und Prozessoren hat es ermöglicht, die Netze mit riesigen Datenmengen, effizient zu trainieren."
   ]
  },
  {
   "cell_type": "markdown",
   "id": "f51dddbd-597c-4be1-bcf9-9ff60f3a22cb",
   "metadata": {},
   "source": [
    "## Ziel der Masterarbeit"
   ]
  },
  {
   "cell_type": "markdown",
   "id": "e68223b9-bf9c-4db7-993d-f6bcdf1ffda9",
   "metadata": {},
   "source": [
    "Diese Masterarbeit hat das Ziel, zu zeigen, dass es auch mit einfachen Mitteln möglich ist einen umfangreichen Datensatz zu erzeugen und ein NN darauf zu trainieren.\n",
    "Der Weg vom Datensatz zum NN soll dabei möglichst einfach und intuitiv dargestellt werden."
   ]
  },
  {
   "cell_type": "markdown",
   "id": "6b825fb7-fe82-4db1-adb4-2aa1ddcd4782",
   "metadata": {
    "tags": []
   },
   "source": [
    "## Jupyter Book"
   ]
  },
  {
   "cell_type": "markdown",
   "id": "04ebbfab-83c0-454a-b132-441f1792d9c7",
   "metadata": {},
   "source": [
    "Das Format in dem diese Masterarbeit verfasst ist, ist ein [Jupyter Book](https://jupyterbook.org/intro.html), ein neues Open-Source-Projekt zum druckreifen Veröffentlichen rechnergestützer technischer und insbesondere ausführbarer Inhalte in Buch- und HTML-Form. So ist es möglich die Abschnitte dieses Buchs, die Code enthalten, interaktiv auszuführen, zu reproduzieren und zu ändern."
   ]
  },
  {
   "cell_type": "code",
   "execution_count": 2,
   "id": "7c3e84c1-68a7-4819-a913-f6e31d6a507c",
   "metadata": {},
   "outputs": [
    {
     "name": "stdout",
     "output_type": "stream",
     "text": [
      "Hello World\n"
     ]
    }
   ],
   "source": [
    "print('Hello World')"
   ]
  },
  {
   "cell_type": "markdown",
   "id": "ca6303c4-e86f-4000-b19b-bd54fee3aab1",
   "metadata": {
    "tags": []
   },
   "source": [
    "## Aufbau der Masterarbeit"
   ]
  },
  {
   "cell_type": "markdown",
   "id": "3d66cab3-0333-4ad8-9667-fae4b0914437",
   "metadata": {},
   "source": [
    "Im ersten Kapitel werden zwei verschiedene Datensätze erzeugt. \n",
    "- Der erste Datensatz wird durch \"Data Augmentation\" erzeugt, d.h. die Trainingsbilder werden künstlich erzeugt.  \n",
    "\n",
    "- Der zweite Datensatz wird aus echten Fotos erzeugt, die mit einer Smartphone Kamera aufgenommen wurden.  \n",
    "\n",
    "Das zweite Kapitel beschreibt die Funktionsweise von Neuronalen Netzen. Es wird gezeigt wie ein einzelnes künstliches Neuron funktioniert und wie viele solcher Neuronen zu einem Neuronalen Netz verschaltet werden.  \n",
    "\n",
    "Das dritte Kapitel beschäftigt sich mit \"Convolutional Neural Nets\", es wird gezeigt wie CNN's funktionieren und weshalb diese so Leistungsfähig sind.\n",
    "\n",
    "Das vierte Kapitel wird als Abschluss zeigen was Transfer Learning ist und wie man vortrainierte Netzwerke für eigene Datensätze verwenden kann."
   ]
  },
  {
   "cell_type": "markdown",
   "id": "65ccf9e9-e2c2-4674-9923-bec09faa96ae",
   "metadata": {
    "tags": []
   },
   "source": [
    "## Objekte in Bildern erkennen"
   ]
  },
  {
   "cell_type": "markdown",
   "id": "3573f6f6-5629-42c5-b309-2633cc03b59a",
   "metadata": {},
   "source": [
    "Ziel ist es, Schrauben auf einem Bild zu erkennen. Dabei stellen sich folgende Fragen:\n",
    "- Welche Eigenschaften hat eine Schraube und welche wollen / können wir erkennen?\n",
    "- Was gibt es für Schraubenarten und wodurch unterscheiden sie sich?\n",
    "- Wie werden die Bilder erzeugt und wie sollten diese beschaffen sein?"
   ]
  },
  {
   "cell_type": "markdown",
   "id": "03b84c77-0b44-4010-bc3b-b97855934d24",
   "metadata": {},
   "source": [
    "Um mit einfachen Modellen starten zu können sollte auch die Lernaufgabe zunächst so einfach wie möglich gestaltet sein. Es wäre sicher nicht die richtige Vorgehensweise, direkt mit der höchsten Komplexität zu starten. So ist man in der Lage den dahinter stehenden Mechanismus besser zu verstehen und nachvollziehen zu können.\n",
    "\n",
    "Um schnell erste eigene Modelle zu entwickeln lassen wir uns vom MNIST Datensatz inspirieren. Dieser ist sehr bekannt und wurde schon sehr häufig mit den verschiedensten Modellen (SVM,CNN,Logistic Regression,..) bearbeitet. Der Vorteil besteht darin, dass schon sehr viele Informationen und fertige Modelle existieren.\n",
    "\n",
    "Die Idee ist nun, fertige Modelle des MNIST Datensatzes zu nehmen und diese mit einem Eigenen Datensatz zu trainieren. So kann man schnell Erfahrungen sammeln und durch den Programmcode die Vorgänge nachvollziehen.\n",
    "\n",
    "Um einfach zu beginnen konzentrieren wir uns zunächst auf eine Eigenschaft der Schraube, den Kopf bzw. der Antriebsart (siehe unten) und nehmen dafür einfache Grafiken die sehr gut zu unterscheiden sind damit sich das Modell nur auf die Form konzentrieren kann und nicht von Lichteinflüssen wie in realen Umgebungen beeinflusst wird. Die Auswahl fiel auf folgende gängigen Antriebsarten:\n",
    "- Innensechskant (Inbus)\n",
    "- Philips (Kreuzschlitz)\n",
    "- Pozidriv (Kreuzschlitz)\n",
    "- Sechskant\n",
    "- Torx\n",
    "\n",
    "Diese sind, zumindest für das menschliche Auge, gut zu unterscheiden und sollten von einem Modell welches mit den MNIST-Daten funktioniert auch gut erkannt werden können.\n",
    "\n",
    "Es gibt jedoch auch schon gewisse Schwierigkeiten:\n",
    "- Innensechskant und Torx ähneln sich, schwarzer Ring auf weißem Hintergrund, Innenkontur auch ähnlich\n",
    "- Philips-Kreuz und Pozidriv-Kreuz sind nur durch die Einkerbungen in der Pozidriv zu unterscheiden\n",
    "- Das Sechskant-Profil ähnelt keinem Profil und unterscheidet sich stark von allen anderen, schwarze Fläche mit sechseckiger Außenkontur\n",
    "\n",
    "Es ist zu erwarten, dass die Modelle mit dem Sechskant weniger Schwierigkeiten haben werden als mit den anderen Profilen.\n",
    "\n",
    "So sollte dieser Datensatz einfach genug für den Anfang sein aber bringt auch schon die ersten schwierigkeiten mit sich, welche die Performance der verschiedenen Modelle auf die Probe stellen."
   ]
  }
 ],
 "metadata": {
  "kernelspec": {
   "display_name": "Python 3 (ipykernel)",
   "language": "python",
   "name": "python3"
  },
  "language_info": {
   "codemirror_mode": {
    "name": "ipython",
    "version": 3
   },
   "file_extension": ".py",
   "mimetype": "text/x-python",
   "name": "python",
   "nbconvert_exporter": "python",
   "pygments_lexer": "ipython3",
   "version": "3.7.11"
  }
 },
 "nbformat": 4,
 "nbformat_minor": 5
}
