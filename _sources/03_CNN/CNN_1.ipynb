{
 "cells": [
  {
   "cell_type": "markdown",
   "metadata": {},
   "source": [
    "# CNN1"
   ]
  },
  {
   "cell_type": "code",
   "execution_count": 1,
   "metadata": {
    "tags": [
     "hide-output"
    ]
   },
   "outputs": [],
   "source": [
    "import os\n",
    "os.environ[\"CUDA_VISIBLE_DEVICES\"] = \"-1\""
   ]
  },
  {
   "cell_type": "code",
   "execution_count": 2,
   "metadata": {
    "tags": [
     "hide-output"
    ]
   },
   "outputs": [
    {
     "name": "stderr",
     "output_type": "stream",
     "text": [
      "2021-11-23 02:05:27.593986: W tensorflow/stream_executor/platform/default/dso_loader.cc:64] Could not load dynamic library 'libcudart.so.11.0'; dlerror: libcudart.so.11.0: cannot open shared object file: No such file or directory\n",
      "2021-11-23 02:05:27.594011: I tensorflow/stream_executor/cuda/cudart_stub.cc:29] Ignore above cudart dlerror if you do not have a GPU set up on your machine.\n"
     ]
    }
   ],
   "source": [
    "# Vorstellung: MNIST-Daten!\n",
    "# http://yann.lecun.com/exdb/mnist/\n",
    "# FashionMNIST: https://github.com/zalandoresearch/fashion-mnist\n",
    "\n",
    "import gzip\n",
    "import numpy as np\n",
    "from numpy import load\n",
    "from sklearn.preprocessing import OneHotEncoder\n",
    "import tensorflow as tf\n",
    "from tensorflow import keras\n",
    "from tensorflow.keras.utils import to_categorical\n",
    "\n",
    "from tensorflow.keras.models import Sequential\n",
    "from tensorflow.keras.layers import Dense, Conv2D, Flatten, MaxPooling2D\n"
   ]
  },
  {
   "cell_type": "code",
   "execution_count": 24,
   "metadata": {},
   "outputs": [],
   "source": [
    "X_train = load('Dataset/X_train.npy').astype(np.float32).reshape(-1, 28,28,1)\n",
    "y_train = load('Dataset/y_train.npy')\n",
    "\n",
    "X_test=load('Dataset/X_test.npy').astype(np.float32).reshape(-1,28,28,1)\n",
    "y_test=load('Dataset/y_test.npy').astype(np.int32)\n",
    "\n",
    "y_train = to_categorical(y_train)\n",
    "y_test = to_categorical(y_test)"
   ]
  },
  {
   "cell_type": "code",
   "execution_count": 25,
   "metadata": {
    "tags": []
   },
   "outputs": [
    {
     "name": "stdout",
     "output_type": "stream",
     "text": [
      "(10500, 28, 28, 1)\n"
     ]
    },
    {
     "data": {
      "text/plain": [
       "(10500, 5)"
      ]
     },
     "execution_count": 25,
     "metadata": {},
     "output_type": "execute_result"
    }
   ],
   "source": [
    "print(X_train.shape)\n",
    "y_train.shape"
   ]
  },
  {
   "cell_type": "code",
   "execution_count": 26,
   "metadata": {},
   "outputs": [
    {
     "data": {
      "text/plain": [
       "array([0., 0., 0., 0., 1.], dtype=float32)"
      ]
     },
     "execution_count": 26,
     "metadata": {},
     "output_type": "execute_result"
    }
   ],
   "source": [
    "y_train[0]"
   ]
  },
  {
   "cell_type": "code",
   "execution_count": 29,
   "metadata": {
    "tags": [
     "hide-output",
     "output_scroll"
    ]
   },
   "outputs": [
    {
     "name": "stdout",
     "output_type": "stream",
     "text": [
      "Epoch 1/15\n",
      "21/21 [==============================] - 2s 101ms/step - loss: 30.8316 - accuracy: 0.5352 1s - loss: 117.901\n",
      "Epoch 2/15\n",
      "21/21 [==============================] - 2s 101ms/step - loss: 1.7608 - accuracy: 0.8080\n",
      "Epoch 3/15\n",
      "21/21 [==============================] - 2s 101ms/step - loss: 0.9294 - accuracy: 0.8610\n",
      "Epoch 4/15\n",
      "21/21 [==============================] - 2s 101ms/step - loss: 0.3379 - accuracy: 0.9177\n",
      "Epoch 5/15\n",
      "21/21 [==============================] - 2s 100ms/step - loss: 0.5945 - accuracy: 0.9253\n",
      "Epoch 6/15\n",
      "21/21 [==============================] - 2s 118ms/step - loss: 0.0245 - accuracy: 0.9921\n",
      "Epoch 7/15\n",
      "21/21 [==============================] - 3s 131ms/step - loss: 0.1874 - accuracy: 0.9700\n",
      "Epoch 8/15\n",
      "21/21 [==============================] - 3s 134ms/step - loss: 0.0084 - accuracy: 0.9983\n",
      "Epoch 9/15\n",
      "21/21 [==============================] - 3s 132ms/step - loss: 0.1542 - accuracy: 0.9854\n",
      "Epoch 10/15\n",
      "21/21 [==============================] - 3s 130ms/step - loss: 0.1508 - accuracy: 0.9676\n",
      "Epoch 11/15\n",
      "21/21 [==============================] - 3s 130ms/step - loss: 0.0017 - accuracy: 1.0000\n",
      "Epoch 12/15\n",
      "21/21 [==============================] - 3s 134ms/step - loss: 7.7455e-04 - accuracy: 1.0000\n",
      "Epoch 13/15\n",
      "21/21 [==============================] - 3s 137ms/step - loss: 0.3923 - accuracy: 0.9599\n",
      "Epoch 14/15\n",
      "21/21 [==============================] - 3s 129ms/step - loss: 0.0017 - accuracy: 0.9999\n",
      "Epoch 15/15\n",
      "21/21 [==============================] - 3s 131ms/step - loss: 6.6541e-04 - accuracy: 1.0000\n"
     ]
    },
    {
     "data": {
      "text/plain": [
       "<keras.callbacks.History at 0x7f3544aaa890>"
      ]
     },
     "execution_count": 29,
     "metadata": {},
     "output_type": "execute_result"
    }
   ],
   "source": [
    "\n",
    "\n",
    "model = Sequential()\n",
    "\n",
    "model.add(Conv2D(16, kernel_size=(3, 3), activation=\"relu\", input_shape=(28,28,1,)))\n",
    "model.add(Conv2D(32,(3,3),activation = 'relu'))\n",
    "model.add(MaxPooling2D(pool_size=(2,2)))\n",
    "model.add(Flatten())\n",
    "model.add(Dense(5, activation=\"softmax\"))\n",
    "\n",
    "model.compile(optimizer=\"rmsprop\", loss=\"categorical_crossentropy\", metrics=[\"accuracy\"])\n",
    "\n",
    "model.fit(\n",
    "    X_train,\n",
    "    y_train,\n",
    "    epochs=15,\n",
    "    batch_size=500)"
   ]
  },
  {
   "cell_type": "code",
   "execution_count": null,
   "metadata": {},
   "outputs": [],
   "source": []
  }
 ],
 "metadata": {
  "kernelspec": {
   "display_name": "Python 3 (ipykernel)",
   "language": "python",
   "name": "python3"
  },
  "language_info": {
   "codemirror_mode": {
    "name": "ipython",
    "version": 3
   },
   "file_extension": ".py",
   "mimetype": "text/x-python",
   "name": "python",
   "nbconvert_exporter": "python",
   "pygments_lexer": "ipython3",
   "version": "3.7.11"
  }
 },
 "nbformat": 4,
 "nbformat_minor": 4
}
