{
 "cells": [
  {
   "cell_type": "markdown",
   "id": "4f846121-7674-4c7e-b95f-badfbd0a4dd1",
   "metadata": {},
   "source": [
    "# Masterarbeit\n",
    "**Anwendung neuronaler Netze in einem Sortierroboter**\n",
    "\n",
    "Künstliche Intelligenz (KI) findet immer mehr Einzug in Maschinen. Ein Bereich der KI ist das Deep\n",
    "Learning mit neuronalen Netzen, das sich z.B. hervorragend für Mustererkennung eignet. In dieser\n",
    "Arbeit soll ein erster Schritt zu einem Sortierroboter gemacht werden, der im Endausbau geeignet ist,\n",
    "Schrauben nach Art (Holz-, Sechskant-, Inbusschrauben etc.), Durchmesser (M5, M6, M8 etc.) und\n",
    "Länge zu sortieren. In dieser Arbeit geht es aber zunächst nur um die Erkennung verschiedener\n",
    "Bauarten. Dabei sollen zunächst Schrauben in gleicher Ansicht und aus einheitlicher Richtung\n",
    "betrachtet werden.\n",
    "\n",
    "In dieser Arbeit wird die Bilderkennung behandelt. Dazu sind folgende Schritte durchzuführen:\n",
    "1. Erzeugung einer Bilddatenbank mit Bildern von Schrauben verschiedener Bauart. Die Bilder\n",
    "sind mit CAD zu erzeugen, selber zu fotografieren oder aus dem Internet unter Beachtung\n",
    "des Copyrights zu sammeln. Eine Mischung der drei Quellen ist ebenfalls möglich.\n",
    "Die Bilddatenbank soll leicht um weitere Kategorien und um weitere Bilder erweitert werden\n",
    "können. Es soll mit drei verschiedenen Schraubenarten begonnen werden.\n",
    "2. Es ist mit Python ein neuronales Netz zu erzeugen und für die Erkennung der\n",
    "Schraubenbauarten zu optimieren. Dabei ist vor allem folgende Netzstruktur auszuprobieren:\n",
    "o 2 bis 3 Convolutional Layer\n",
    "o 1 Pooling Layer\n",
    "o 1 bis 2 fully connected Layer\n",
    "3. Das entwickelte Programm ist sehr gut zu kommentieren und zu strukturieren, so dass\n",
    "Studierende, die später an dem Projekt weiterarbeiten, sich sehr gut in die Software\n",
    "einarbeiten können.\n",
    "4. Das Anlernen von neuronalen Netzen erfordert eine Menge Rechenzeit. Deshalb ggf. ist es\n",
    "sinnvoll von Beginn an zu prüfen, ob durch die Nutzung aller Prozessorkerne des PC durch\n",
    "Parallelverarbeitung die Rechenzeit verringert werden kann.\n",
    "5. Der Schwierigkeitsgrad für die Erkennungssoftware ist schrittweise zu steigern. Beginnend\n",
    "mit Schrauben in identischer Lage mit identischer Beleuchtung hin zu Schrauben in\n",
    "unterschiedlicher Lage und ggf. unterschiedlicher Beleuchtung.\n",
    "Während des gesamten Projektes ist darauf zu achten, dass diese Arbeit der erste Schritt und damit\n",
    "die Grundlage sein soll, auf der vermutlich im Laufe der nächsten Jahre viele weitere Projektarbeiten\n",
    "aufbauen werden. Unter den zukünftigen Projektarbeitern werden Maschinenbaustudierende mit\n",
    "wenig Programmiererfahrung sein."
   ]
  },
  {
   "cell_type": "code",
   "execution_count": null,
   "id": "817019eb-edcf-4dfe-a7b4-c974eb9a6f49",
   "metadata": {},
   "outputs": [],
   "source": []
  }
 ],
 "metadata": {
  "kernelspec": {
   "display_name": "Python 3 (ipykernel)",
   "language": "python",
   "name": "python3"
  },
  "language_info": {
   "codemirror_mode": {
    "name": "ipython",
    "version": 3
   },
   "file_extension": ".py",
   "mimetype": "text/x-python",
   "name": "python",
   "nbconvert_exporter": "python",
   "pygments_lexer": "ipython3",
   "version": "3.7.11"
  }
 },
 "nbformat": 4,
 "nbformat_minor": 5
}
