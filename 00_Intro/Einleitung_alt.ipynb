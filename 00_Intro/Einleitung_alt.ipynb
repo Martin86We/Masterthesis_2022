{
 "cells": [
  {
   "cell_type": "markdown",
   "id": "88bfa3c6-dfe2-4042-befc-599f8e0549a6",
   "metadata": {},
   "source": [
    "# Einleitung"
   ]
  },
  {
   "cell_type": "markdown",
   "id": "8d2451ad-adb6-4de4-8495-bf5f964eefba",
   "metadata": {},
   "source": [
    "```{epigraph}\n",
    "Auch ist das Suchen und Irren gut, denn durch Suchen und Irren lernt man.\n",
    "\n",
    "-- Johann Wolfgang Goethe\n",
    "```\n",
    "\n",
    "\n",
    "[Quelle](http://ebookcentral.proquest.com/lib/htwg-konstanz/detail.action?docID=6714813)\n",
    "\n"
   ]
  },
  {
   "cell_type": "markdown",
   "id": "f176ef7f-7b09-4564-97ca-ecad92c41c2e",
   "metadata": {},
   "source": [
    "Here is my nifty citation {cite}`holdgraf_evidence_2014`."
   ]
  },
  {
   "cell_type": "markdown",
   "id": "863607d5-7362-4b88-9416-6d4b55e7e45c",
   "metadata": {},
   "source": [
    "Here are multiple citations {cite}`holdgraf_evidence_2014,holdgraf_portable_2017,RePEc:the:publsh:1367,caporaso2010qiime`!"
   ]
  },
  {
   "cell_type": "markdown",
   "id": "9956a8a6-5c7c-4bf7-b19d-46ced93cdda5",
   "metadata": {},
   "source": [
    "Neuronale Netze sind derzeit in aller Munde. Sie stehen im Mittelpunkt, wenn es um Künstliche Intelligenz und maschinelles Lernen geht. Vor Jahrzehnten entwickelt, sind sie in jüngerer Zeit zu neuer Bedeutung gelangt – weil sie mit riesigen Datenmengen trainiert werden können und weil speziell für sie entwickelte Hochleistungs-Prozessoren zur Verfügung stehen. Es geht aber auch einfacher, ohne spezialisierte Hardware oder große Datensätze und ohne Vorkenntnisse in Künstlicher Intelligenz. Neuronale Netze lassen sich mit einfachen Mitteln selbst programmieren. Darum geht es in diesem Buch.\n",
    "Steinwendner, Joachim, and Roland Schwaiger. Neuronale Netze programmieren mit Python, Rheinwerk Verlag, 2020. ProQuest Ebook Central, http://ebookcentral.proquest.com/lib/htwg-konstanz/detail.action?docID=6382990."
   ]
  },
  {
   "cell_type": "markdown",
   "id": "13a95059-98bb-4c37-a48a-ee502370e68f",
   "metadata": {},
   "source": [
    "Künstliche neuronale Netze (KNN) scheinen derzeit an allen Ecken aufzutauchen und kommen unter dem Begriff der künstlichen Intelligenz, des Machine Learning oder des Deep Learning daher.\n",
    "Steinwendner, Joachim, and Roland Schwaiger. Neuronale Netze programmieren mit Python, Rheinwerk Verlag, 2020. ProQuest Ebook Central, http://ebookcentral.proquest.com/lib/htwg-konstanz/detail.action?docID=6382990.\n",
    "Created from htwg-konstanz on 2022-02-27 09:12:43."
   ]
  },
  {
   "cell_type": "markdown",
   "id": "eccc8824-c419-46a9-a3c1-71d8c8b62b40",
   "metadata": {},
   "source": []
  },
  {
   "cell_type": "markdown",
   "id": "d229e590-c0ec-4c7a-b915-d6fec3fad094",
   "metadata": {},
   "source": [
    "## Einleitung Thema"
   ]
  },
  {
   "cell_type": "markdown",
   "id": "eb5040a0-10a9-4cd3-8f38-97c3abd50ead",
   "metadata": {},
   "source": [
    "Wer kennt es nicht, es ist gerade wieder Lockdown und man möchte ein Heimwerker Projekt umsetzen. Nun stellt man fest, dass man von einigen Schrauben nicht genügend vorrätig hat und Nachschub besorgen muss. Da alle Baumärkte geschlossen haben hat man nur noch die Möglichkeit online die gewünschten Exemplare zu ordern. Der Händler des Vertrauens benötigt lediglich die genaue Bezeichnung der benötigten Schrauben und da liegt das Problem, woher soll man die Bezeichnung der Schraube wissen ohne Seitenweise Kataloge zu studieren? Die Lösung wäre eine automatische Schraubenerkennung. Ein Foto von der Schraube als Eingabe und die Bezeichnung der Schraube als Output.  "
   ]
  },
  {
   "cell_type": "markdown",
   "id": "65887b77-f1ac-4eba-b918-c05beb307efe",
   "metadata": {},
   "source": [
    "Eine Suche nach Objekterkennung bei Google ergab:\n",
    "- Object recognition is a computer vision technique for identifying objects in images or videos. Object recognition is a key output of deep learning and machine learning algorithms. When humans look at a photograph or watch a video, we can readily spot people, objects, scenes, and visual details."
   ]
  },
  {
   "cell_type": "markdown",
   "id": "ed66f95c-950a-4412-90bf-ce2317c38778",
   "metadata": {},
   "source": [
    "Wir wollen also Objekte, in unserem Fall Schrauben in Bildern erkennen und dafür machine learning und deep learning Techniken verwenden."
   ]
  },
  {
   "cell_type": "markdown",
   "id": "65ccf9e9-e2c2-4674-9923-bec09faa96ae",
   "metadata": {},
   "source": [
    "## Objekte in Bildern erkennen"
   ]
  },
  {
   "cell_type": "markdown",
   "id": "3573f6f6-5629-42c5-b309-2633cc03b59a",
   "metadata": {},
   "source": [
    "Ziel ist es, Schrauben auf einem Bild zu erkennen. Dabei stellen sich folgende Fragen:\n",
    "- Welche Eigenschaften hat eine Schraube und welche wollen / können wir erkennen?\n",
    "- Was gibt es für Schraubenarten und wodurch unterscheiden sie sich?\n",
    "- Wie werden die Bilder erzeugt und wie sollten diese beschaffen sein?"
   ]
  },
  {
   "cell_type": "markdown",
   "id": "03b84c77-0b44-4010-bc3b-b97855934d24",
   "metadata": {},
   "source": [
    "Um mit einfachen Modellen starten zu können sollte auch die Lernaufgabe zunächst so einfach wie möglich gestaltet sein. Es wäre sicher nicht die richtige Vorgehensweise, direkt mit der höchsten Komplexität zu starten. So sind wir in der Lage den dahinter stehenden Mechanismus besser zu verstehen und nachvollziehen zu können.\n",
    "\n",
    "Um schnell erste eigene Modelle zu entwickeln lassen wir uns vom MNIST Datensatz inspirieren. Dieser ist sehr bekannt und wurde schon sehr häufig mit den verschiedensten Modellen (SVM,CNN,Logistic Regression,..) bearbeitet. Der Vorteil besteht darin, dass schon sehr viele Informationen und fertige Modelle existieren.\n",
    "\n",
    "Die Idee ist nun, fertige Modelle des MNIST Datensatzes zu nehmen und diese mit einem Eigenen Datensatz zu trainieren. So kann man schnell Erfahrungen sammeln und durch den Programmcode die Vorgänge nachvollziehen.\n",
    "\n",
    "Um einfach zu beginnen konzentrieren wir uns zunächst auf eine Eigenschaft der Schraube, dem Kopf bzw. der Antriebsart (Kreuzschlitz, Torx, Sechskant, usw.) und nehmen dafür einfache Grafiken die sehr gut zu unterscheiden sind damit sich das Modell nur auf die Form konzentrieren kann und nicht von Lichteinflüssen wie in realen Umgebungen beeinflusst wird. Die Auswahl viel auf folgende gängigen Antriebsarten:\n",
    "- Innensechskant (Inbus)\n",
    "- Philips (Kreuzschlitz)\n",
    "- Pozidriv (Kreuzschlitz)\n",
    "- Sechskant\n",
    "- Torx\n",
    "\n",
    "Diese sind, zumindest für das menschliche Auge, gut zu unterscheiden und sollten von einem Modell welches mit den MNIST-Daten funktioniert auch gut erkannt werden können.\n",
    "\n",
    "Es gibt jedoch auch schon gewisse Schwierigkeiten:\n",
    "- Innensechskant und Torx ähneln sich,schwarzer Ring auf weißem Hintergrund, Innenkontur auch ähnlich\n",
    "- Philips-Kreuz und Pozidriv-Kreuz sind nur durch die Einkerbungen in der Pozidriv zu unterscheiden\n",
    "- Das Sechskant-Profil ähnelt keinem Profil und unterscheidet sich stark von allen anderen, schwarze Fläche mit sechseckiger Außenkontur\n",
    "\n",
    "Es ist zu erwarten, dass die Modelle mit dem Sechskant weniger Schwierigkeiten haben werden als mit den anderen Profilen.\n",
    "\n",
    "So sollte dieser Datensatz einfach genug für den Anfang sein aber bringt auch schon die ersten schwierigkeiten mit sich, welche die Performance der verschiedenen Modelle auf die Probe stellen."
   ]
  },
  {
   "cell_type": "markdown",
   "id": "6b825fb7-fe82-4db1-adb4-2aa1ddcd4782",
   "metadata": {},
   "source": [
    "## Jupyter Book"
   ]
  },
  {
   "cell_type": "markdown",
   "id": "04ebbfab-83c0-454a-b132-441f1792d9c7",
   "metadata": {},
   "source": [
    "Dieses Buch ist ein [Jupyter Book](https://jupyterbook.org/intro.html), mit dem Sie die Abschnitte dieses Buchs, die Code enthalten, interaktiv ausführen, reproduzieren oder ändern können. "
   ]
  },
  {
   "cell_type": "code",
   "execution_count": 2,
   "id": "7c3e84c1-68a7-4819-a913-f6e31d6a507c",
   "metadata": {},
   "outputs": [
    {
     "name": "stdout",
     "output_type": "stream",
     "text": [
      "Hello World\n"
     ]
    }
   ],
   "source": [
    "print('Hello World')"
   ]
  },
  {
   "cell_type": "code",
   "execution_count": null,
   "id": "7c6860b7-3d2d-4342-bd2d-37dd8fe38f35",
   "metadata": {},
   "outputs": [],
   "source": []
  }
 ],
 "metadata": {
  "kernelspec": {
   "display_name": "Python 3 (ipykernel)",
   "language": "python",
   "name": "python3"
  },
  "language_info": {
   "codemirror_mode": {
    "name": "ipython",
    "version": 3
   },
   "file_extension": ".py",
   "mimetype": "text/x-python",
   "name": "python",
   "nbconvert_exporter": "python",
   "pygments_lexer": "ipython3",
   "version": "3.7.11"
  }
 },
 "nbformat": 4,
 "nbformat_minor": 5
}
