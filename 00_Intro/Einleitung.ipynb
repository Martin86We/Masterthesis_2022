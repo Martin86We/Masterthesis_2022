{
 "cells": [
  {
   "cell_type": "markdown",
   "id": "88bfa3c6-dfe2-4042-befc-599f8e0549a6",
   "metadata": {},
   "source": [
    "# Einleitung"
   ]
  },
  {
   "cell_type": "markdown",
   "id": "d593bf2f-82ca-4a67-b610-9776406649cb",
   "metadata": {},
   "source": [
    "Künstliche Neuronale Netze sind aus der heutigen Zeit nicht mehr wegzudenken und stellen ein sehr mächtiges Werkzeug für viele Fachgebiete bereit. Um in den jeweiligen Fachgebieten Anwendungsfälle zu identifizieren und Neuronale Netze (NN) erfolgreich einsetzen zu können, ist auch Domänenwissen aus dem jeweiligen Fachgebiet nötig. Ob Erkennung von Brustkrebs durch Neuronale Netze in der Medizin oder \"Predictive Maintenance\" im Maschinenbau, in beiden Fällen sind Kenntnisse aus beiden Bereichen nötig, Domänenwissen um die Daten richtig interpretieren zu können und die Fähigkeit neuronale Netze auf diese Daten anzuwenden. Die folgenden Statistik soll zeigen, dass KI-Methoden und Fachkräfte mit Kenntnissen in diesem Bereich, in der Zukunft eine immer wichtigere Rolle spielen werden, um Wettbewerbsfähig zu bleiben. "
   ]
  },
  {
   "cell_type": "markdown",
   "id": "880a9e67-c905-4b2f-aa72-463cd2a2da70",
   "metadata": {
    "tags": [
     "hide-cell"
    ]
   },
   "source": [
    "Der Einsatz von künstlichen Intelligenzen (KIs) ist in vielen Industrien bereits Realität aber birgt gleichzeitig noch deutlich mehr Potenzial. Die Analyst_innen von Accenture und Frontier Economics prognostizieren, dass sich die Arbeitsproduktivität in entwickelten Ländern durch den Einfluss von künstlicher Intelligenz bis 2035 um bis zu 40 Prozent steigern kann. [Quelle](https://de.statista.com/infografik/23703/arbeitsproduktivitaetssteigerung-durch-ki/)"
   ]
  },
  {
   "cell_type": "markdown",
   "id": "d420f944-d26f-4c71-b131-07c703cd0e32",
   "metadata": {},
   "source": [
    ":::{figure-md} statistic1-fig\n",
    "<img src=\"images/Produktivität_KI.jpg\" alt=\"Prognose zum Umsatz mit KI\" class=\"bg-primary mb-1\" width=\"600px\">\n",
    "\n",
    "Infografik:Künstliche Intelligenz kurbelt die Produktivität an\n",
    ":::\n"
   ]
  },
  {
   "cell_type": "markdown",
   "id": "c5b32908-9981-4349-b302-f5fe10165a81",
   "metadata": {},
   "source": [
    "$~$"
   ]
  },
  {
   "cell_type": "markdown",
   "id": "87403bcf-9645-453d-b848-c01a32d93e6c",
   "metadata": {},
   "source": [
    ":::{figure-md} statistic2-fig\n",
    "<img src=\"images/Prognose_Umsatz_KI.png\" alt=\"Prognose zum Umsatz\" class=\"bg-primary mb-1\" width=\"600px\">\n",
    "\n",
    "Infografik:Prognose zum Umsatz mit KI-Anwendungen\n",
    ":::\n"
   ]
  },
  {
   "cell_type": "markdown",
   "id": "8fd3d5cd-5f85-4604-8851-85931162e3ad",
   "metadata": {},
   "source": [
    "[Quelle](https://de.statista.com/infografik/\")"
   ]
  },
  {
   "cell_type": "markdown",
   "id": "8d2451ad-adb6-4de4-8495-bf5f964eefba",
   "metadata": {},
   "source": [
    "```{epigraph}\n",
    "Auch ist das Suchen und Irren gut, denn durch Suchen und Irren lernt man.\n",
    "\n",
    "-- Johann Wolfgang Goethe\n",
    "```\n",
    "\n",
    "\n",
    "[Quelle](http://ebookcentral.proquest.com/lib/htwg-konstanz/detail.action?docID=6714813)\n",
    "\n"
   ]
  },
  {
   "cell_type": "markdown",
   "id": "a06f6a5e-45b8-4fd2-a320-d592be7cc608",
   "metadata": {},
   "source": [
    "## Vorstellung des Themas"
   ]
  },
  {
   "cell_type": "markdown",
   "id": "361849da-11d1-4405-b777-8778c2ac231c",
   "metadata": {},
   "source": [
    "Neuronale Netze werden bereits in vielen Bereichen eingesetzt und sind in aller Munde. Ein häufiger Anwendungsfall und das Paradebeispiel für die Nutzung von Neuronalen Netzen ist die Bilderkennung, mit der sich diese Arbeit beschäftigt. Obwohl Neuronale Netze bereits vor Jahrzehnten entwickelt wurden, gelangen sie erst in den letzten Jahren zu größerer Bedeutung. Die Weiterentwicklung der Algorithmen und Prozessoren hat es ermöglicht, die Netze effizient mit riesigen Datenmengen zu trainieren."
   ]
  },
  {
   "cell_type": "markdown",
   "id": "f51dddbd-597c-4be1-bcf9-9ff60f3a22cb",
   "metadata": {},
   "source": [
    "## Ziel"
   ]
  },
  {
   "cell_type": "markdown",
   "id": "e68223b9-bf9c-4db7-993d-f6bcdf1ffda9",
   "metadata": {},
   "source": [
    "Diese Masterarbeit hat das Ziel zu zeigen, dass es auch mit einfachen Mitteln möglich ist, einen umfangreichen Datensatz zu erzeugen und ein Neuronales Netz (NN) darauf zu trainieren.\n",
    "Der Weg vom Datensatz zum NN soll dabei möglichst einfach und intuitiv dargestellt werden."
   ]
  },
  {
   "cell_type": "markdown",
   "id": "6b825fb7-fe82-4db1-adb4-2aa1ddcd4782",
   "metadata": {
    "tags": []
   },
   "source": [
    "## Jupyter Book"
   ]
  },
  {
   "cell_type": "markdown",
   "id": "04ebbfab-83c0-454a-b132-441f1792d9c7",
   "metadata": {},
   "source": [
    "Das Format in dem diese Masterarbeit verfasst ist, ist ein [Jupyter Book](https://jupyterbook.org/intro.html). Ein neues Open-Source-Projekt zum druckreifen Veröffentlichen rechnergestützer technischer und insbesondere ausführbarer Inhalte in Buch- und HTML-Form. So ist es möglich die Abschnitte dieses Buchs, die Code enthalten, interaktiv auszuführen, zu reproduzieren und zu ändern."
   ]
  },
  {
   "cell_type": "code",
   "execution_count": 2,
   "id": "7c3e84c1-68a7-4819-a913-f6e31d6a507c",
   "metadata": {},
   "outputs": [
    {
     "name": "stdout",
     "output_type": "stream",
     "text": [
      "Hello World\n"
     ]
    }
   ],
   "source": [
    "print('Hello World')"
   ]
  },
  {
   "cell_type": "markdown",
   "id": "ca6303c4-e86f-4000-b19b-bd54fee3aab1",
   "metadata": {
    "tags": []
   },
   "source": [
    "## Aufbau"
   ]
  },
  {
   "cell_type": "markdown",
   "id": "3d66cab3-0333-4ad8-9667-fae4b0914437",
   "metadata": {},
   "source": [
    "Im ersten Kapitel werden zwei verschiedene Datensätze erzeugt. \n",
    "- Der [erste Datensatz](dataset1) wird durch \"Data Augmentation\" erzeugt, d.h. die Trainingsbilder werden künstlich erzeugt.  \n",
    "\n",
    "- Der [zweite Datensatz](dataset2) wird aus echten Fotos erzeugt, die mit einer Smartphone Kamera aufgenommen wurden.  \n",
    "\n",
    "Das zweite Kapitel beschreibt die Funktionsweise von Neuronalen Netzen. Es wird gezeigt, wie ein einzelnes künstliches Neuron funktioniert und wie viele solcher Neuronen zu einem Neuronalen Netz verschaltet werden.  \n",
    "\n",
    "Das dritte Kapitel beschäftigt sich mit \"Convolutional Neural Nets\", es wird gezeigt wie CNN's funktionieren und weshalb diese so Leistungsfähig sind.\n",
    "\n",
    "Das vierte Kapitel wird als Abschluss zeigen was Transfer Learning ist und wie man vortrainierte Netzwerke für eigene Datensätze verwenden kann."
   ]
  },
  {
   "cell_type": "markdown",
   "id": "e1f887e9-3e2e-4832-96ea-5bb2061a4212",
   "metadata": {},
   "source": [
    "schau mal [Go to the Image](conv1d-fig)"
   ]
  },
  {
   "cell_type": "markdown",
   "id": "02e40500-5ca8-464c-835e-a84777408433",
   "metadata": {},
   "source": [
    "The citation {cite:p}`Osinga`"
   ]
  },
  {
   "cell_type": "markdown",
   "id": "51882598-ba98-45ee-8e8f-c71a5c7274fd",
   "metadata": {},
   "source": [
    "und {cite:p}`Steinwendner`"
   ]
  },
  {
   "cell_type": "code",
   "execution_count": null,
   "id": "e321943f-4154-4695-afbb-07e8f3b08c62",
   "metadata": {},
   "outputs": [],
   "source": []
  }
 ],
 "metadata": {
  "kernelspec": {
   "display_name": "Python 3 (ipykernel)",
   "language": "python",
   "name": "python3"
  },
  "language_info": {
   "codemirror_mode": {
    "name": "ipython",
    "version": 3
   },
   "file_extension": ".py",
   "mimetype": "text/x-python",
   "name": "python",
   "nbconvert_exporter": "python",
   "pygments_lexer": "ipython3",
   "version": "3.7.11"
  }
 },
 "nbformat": 4,
 "nbformat_minor": 5
}
